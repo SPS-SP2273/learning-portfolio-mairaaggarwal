{
 "cells": [
  {
   "attachments": {},
   "cell_type": "markdown",
   "id": "123456",
   "metadata": {},
   "source": [
    "<div style=\"text-align:left;font-size:2em\"><span style=\"font-weight:bolder;font-size:1.25em\">SP2273 | Learning Portfolio</span><br><br><span style=\"font-weight:bold;color:darkred\">Fundamentals (Need)</span></div>"
   ]
  },
  {
   "attachments": {},
   "cell_type": "markdown",
   "id": "ca57af36",
   "metadata": {},
   "source": [
    "# What to expect in this chapter"
   ]
  },
  {
   "attachments": {},
   "cell_type": "markdown",
   "id": "da2b9780",
   "metadata": {},
   "source": [
    "## Functions"
   ]
  },
  {
   "cell_type": "code",
   "execution_count": 8,
   "id": "cae03231-a25d-496d-b9af-2551c1e2f3d1",
   "metadata": {},
   "outputs": [
    {
     "name": "stdout",
     "output_type": "stream",
     "text": [
      "Hello World!\n"
     ]
    }
   ],
   "source": [
    "print('Hello World!') "
   ]
  },
  {
   "attachments": {},
   "cell_type": "markdown",
   "id": "b5c5bcbc",
   "metadata": {},
   "source": [
    "## Python is interpreted"
   ]
  },
  {
   "cell_type": "code",
   "execution_count": 5,
   "id": "7c5b597e-75cc-4b64-8602-9c9f90ceb716",
   "metadata": {},
   "outputs": [
    {
     "name": "stdout",
     "output_type": "stream",
     "text": [
      "Hello World!\n",
      "Hello darkness my old friend\n",
      "Hello, its me\n"
     ]
    }
   ],
   "source": [
    "print('Hello World!')\n",
    "print('Hello darkness my old friend')\n",
    "print('Hello, its me')"
   ]
  },
  {
   "cell_type": "code",
   "execution_count": 6,
   "id": "1f9ff3eb-c3ab-4ae8-8df1-74ffdca2bc58",
   "metadata": {},
   "outputs": [
    {
     "ename": "SyntaxError",
     "evalue": "'(' was never closed (578125002.py, line 2)",
     "output_type": "error",
     "traceback": [
      "\u001b[0;36m  Cell \u001b[0;32mIn[6], line 2\u001b[0;36m\u001b[0m\n\u001b[0;31m    print('Hello darkness my old friend'\u001b[0m\n\u001b[0m         ^\u001b[0m\n\u001b[0;31mSyntaxError\u001b[0m\u001b[0;31m:\u001b[0m '(' was never closed\n"
     ]
    }
   ],
   "source": [
    "print('Hello World!')\n",
    "print('Hello darkness my old friend'\n",
    "print('Hello, its me')"
   ]
  },
  {
   "attachments": {},
   "cell_type": "markdown",
   "id": "54875527",
   "metadata": {},
   "source": [
    "## Python is sensitive."
   ]
  },
  {
   "cell_type": "code",
   "execution_count": 7,
   "id": "e2b03a8a-bf9a-4b7e-a9e0-0d18f2e24fd3",
   "metadata": {},
   "outputs": [
    {
     "name": "stdout",
     "output_type": "stream",
     "text": [
      "Hello World!\n"
     ]
    },
    {
     "ename": "NameError",
     "evalue": "name 'Print' is not defined",
     "output_type": "error",
     "traceback": [
      "\u001b[0;31m---------------------------------------------------------------------------\u001b[0m",
      "\u001b[0;31mNameError\u001b[0m                                 Traceback (most recent call last)",
      "Cell \u001b[0;32mIn[7], line 2\u001b[0m\n\u001b[1;32m      1\u001b[0m \u001b[38;5;28mprint\u001b[39m(\u001b[38;5;124m'\u001b[39m\u001b[38;5;124mHello World!\u001b[39m\u001b[38;5;124m'\u001b[39m)\n\u001b[0;32m----> 2\u001b[0m \u001b[43mPrint\u001b[49m(\u001b[38;5;124m'\u001b[39m\u001b[38;5;124mHello World\u001b[39m\u001b[38;5;124m'\u001b[39m)\n",
      "\u001b[0;31mNameError\u001b[0m: name 'Print' is not defined"
     ]
    }
   ],
   "source": [
    "print('Hello World!')\n",
    "Print('Hello World')"
   ]
  },
  {
   "attachments": {},
   "cell_type": "markdown",
   "id": "74199e27",
   "metadata": {},
   "source": [
    "## Comments"
   ]
  },
  {
   "cell_type": "code",
   "execution_count": 47,
   "id": "38752b74-463d-4fc6-8cbe-1a218148fa49",
   "metadata": {},
   "outputs": [
    {
     "name": "stdout",
     "output_type": "stream",
     "text": [
      "Buddy, you're a boy, make a big noise\n",
      "Playing in the street, gonna be a big man someday\n",
      "You got mud on your face, you big disgrace\n",
      "Kicking your can all over the place, singin'\n",
      "We will, we will rock you \n",
      "We will, we will rock you \n",
      "\n"
     ]
    }
   ],
   "source": [
    "# Verse \n",
    "\n",
    "print('Buddy, you\\'re a boy, make a big noise')\n",
    "print('Playing in the street, gonna be a big man someday')\n",
    "print('You got mud on your face, you big disgrace')\n",
    "print('Kicking your can all over the place, singin\\'')\n",
    "\n",
    "# Chorus\n",
    "\n",
    "print('We will, we will rock you \\n'*2)"
   ]
  },
  {
   "cell_type": "code",
   "execution_count": 45,
   "id": "240fc7c5-4aea-45ef-b813-b400e09e0dbd",
   "metadata": {},
   "outputs": [
    {
     "name": "stdout",
     "output_type": "stream",
     "text": [
      "or\n"
     ]
    }
   ],
   "source": [
    "# Comment 1\n",
    "# Comment 2\n",
    "\n",
    "print('or')"
   ]
  },
  {
   "cell_type": "code",
   "execution_count": 60,
   "id": "79c7442a-2514-418e-8e2d-2a3e36f9ce7b",
   "metadata": {},
   "outputs": [],
   "source": [
    "'''\n",
    "docstrings can\n",
    "also be \n",
    "used\n",
    "''' "
   ]
  },
  {
   "attachments": {},
   "cell_type": "markdown",
   "id": "a25f7ca4",
   "metadata": {},
   "source": [
    "## = is not the same as =="
   ]
  },
  {
   "cell_type": "code",
   "execution_count": 65,
   "id": "5f000f94-b500-45c3-b602-5f089e39e99a",
   "metadata": {},
   "outputs": [],
   "source": [
    "name = 'Batman' # Make names carry 'Batman'"
   ]
  },
  {
   "cell_type": "code",
   "execution_count": 67,
   "id": "f6910a21-cc07-4b93-9c53-5bce4b345b6c",
   "metadata": {},
   "outputs": [
    {
     "data": {
      "text/plain": [
       "True"
      ]
     },
     "execution_count": 67,
     "metadata": {},
     "output_type": "execute_result"
    }
   ],
   "source": [
    "name == 'Batman' # Tells me if name is equal to 'Batman', acts as a question \n",
    "                 # Responds with either True or False"
   ]
  },
  {
   "cell_type": "code",
   "execution_count": 71,
   "id": "28736457-fd6a-47bc-982d-1233d613da63",
   "metadata": {},
   "outputs": [
    {
     "ename": "NameError",
     "evalue": "name 'chipmunk' is not defined",
     "output_type": "error",
     "traceback": [
      "\u001b[0;31m---------------------------------------------------------------------------\u001b[0m",
      "\u001b[0;31mNameError\u001b[0m                                 Traceback (most recent call last)",
      "Cell \u001b[0;32mIn[71], line 1\u001b[0m\n\u001b[0;32m----> 1\u001b[0m \u001b[43mchipmunk\u001b[49m \u001b[38;5;241m==\u001b[39m \u001b[38;5;124m'\u001b[39m\u001b[38;5;124malvin\u001b[39m\u001b[38;5;124m'\u001b[39m\n",
      "\u001b[0;31mNameError\u001b[0m: name 'chipmunk' is not defined"
     ]
    }
   ],
   "source": [
    "chipmunk == 'alvin'"
   ]
  },
  {
   "cell_type": "code",
   "execution_count": 74,
   "id": "6b021430-fdc4-4712-8247-70d41f89f79c",
   "metadata": {},
   "outputs": [],
   "source": [
    "chipmunk = 'alvin'"
   ]
  },
  {
   "cell_type": "code",
   "execution_count": 73,
   "id": "93f55512-17fc-4960-a3e7-e4f66ecef307",
   "metadata": {},
   "outputs": [
    {
     "data": {
      "text/plain": [
       "True"
      ]
     },
     "execution_count": 73,
     "metadata": {},
     "output_type": "execute_result"
    }
   ],
   "source": [
    "chipmunk == 'alvin'"
   ]
  },
  {
   "cell_type": "code",
   "execution_count": 76,
   "id": "e9d2549f-869c-48ba-86f7-291c65ab0978",
   "metadata": {},
   "outputs": [
    {
     "data": {
      "text/plain": [
       "'alvin'"
      ]
     },
     "execution_count": 76,
     "metadata": {},
     "output_type": "execute_result"
    }
   ],
   "source": [
    "chipmunk "
   ]
  },
  {
   "cell_type": "code",
   "execution_count": 78,
   "id": "a54dd078-a975-42e7-af2e-342b5e999e6f",
   "metadata": {},
   "outputs": [
    {
     "data": {
      "text/plain": [
       "False"
      ]
     },
     "execution_count": 78,
     "metadata": {},
     "output_type": "execute_result"
    }
   ],
   "source": [
    "chipmunk == 'theodore'"
   ]
  },
  {
   "attachments": {},
   "cell_type": "markdown",
   "id": "8258d347",
   "metadata": {},
   "source": [
    "## Use if to make decisions"
   ]
  },
  {
   "cell_type": "code",
   "execution_count": 86,
   "id": "a329f13c-5915-484b-b6e8-9ff54f4b3208",
   "metadata": {},
   "outputs": [
    {
     "name": "stdout",
     "output_type": "stream",
     "text": [
      "Hello chipmunk!\n"
     ]
    }
   ],
   "source": [
    "name = 'alvin'\n",
    "\n",
    "if name == 'alvin':\n",
    "    print('Hello chipmunk!') # Things you do when it is true\n",
    "else:\n",
    "    print('Hello, human!') # Things you do when it is false"
   ]
  },
  {
   "cell_type": "code",
   "execution_count": 88,
   "id": "b29fccf3-71c7-47cf-ac03-2a214b2c55ee",
   "metadata": {},
   "outputs": [
    {
     "name": "stdout",
     "output_type": "stream",
     "text": [
      "Hello, human!\n"
     ]
    }
   ],
   "source": [
    "name = 'kevin'\n",
    "\n",
    "if name == 'alvin':\n",
    "    print('Hello chipmunk!')\n",
    "else:\n",
    "    print('Hello, human!')\n",
    "    "
   ]
  },
  {
   "attachments": {},
   "cell_type": "markdown",
   "id": "2a3fe600",
   "metadata": {},
   "source": [
    "## Indentations (spaces) are sooo IMPORTANT!"
   ]
  },
  {
   "cell_type": "code",
   "execution_count": 89,
   "id": "d4fdd595-21f3-40c5-8e9a-eb120a0de63e",
   "metadata": {},
   "outputs": [
    {
     "name": "stdout",
     "output_type": "stream",
     "text": [
      "10\n"
     ]
    }
   ],
   "source": [
    "x = 10\n",
    "print(x)"
   ]
  },
  {
   "cell_type": "code",
   "execution_count": 91,
   "id": "affa92b4-cc14-4a56-b0cd-99bdf6b0c392",
   "metadata": {},
   "outputs": [
    {
     "ename": "IndentationError",
     "evalue": "unexpected indent (1784947641.py, line 2)",
     "output_type": "error",
     "traceback": [
      "\u001b[0;36m  Cell \u001b[0;32mIn[91], line 2\u001b[0;36m\u001b[0m\n\u001b[0;31m    print(x) #will not work\u001b[0m\n\u001b[0m    ^\u001b[0m\n\u001b[0;31mIndentationError\u001b[0m\u001b[0;31m:\u001b[0m unexpected indent\n"
     ]
    }
   ],
   "source": [
    "x = 10\n",
    " print(x) #will not work"
   ]
  },
  {
   "cell_type": "code",
   "execution_count": 92,
   "id": "2f785995-5a19-4b9a-9494-5a9bb591f842",
   "metadata": {},
   "outputs": [
    {
     "name": "stdout",
     "output_type": "stream",
     "text": [
      "10\n"
     ]
    }
   ],
   "source": [
    "    x = 10\n",
    "    print(x)"
   ]
  },
  {
   "attachments": {},
   "cell_type": "markdown",
   "id": "2fdc72b1",
   "metadata": {},
   "source": [
    "## ‘age’ is English, age is a variable."
   ]
  },
  {
   "cell_type": "code",
   "execution_count": 94,
   "id": "3829eae2-d0b4-4516-851f-00baf129b8cc",
   "metadata": {},
   "outputs": [
    {
     "name": "stdout",
     "output_type": "stream",
     "text": [
      "18\n",
      "age\n"
     ]
    }
   ],
   "source": [
    "age = 18\n",
    "\n",
    "print(age)       # Print the value of the variable age\n",
    "print(\"age\")     # Print the English word 'age'"
   ]
  },
  {
   "cell_type": "code",
   "execution_count": 97,
   "id": "149fea10-914c-4afc-8e09-c76d83296ce7",
   "metadata": {},
   "outputs": [
    {
     "name": "stdout",
     "output_type": "stream",
     "text": [
      "Detective: Sherlock Holmes\n"
     ]
    }
   ],
   "source": [
    "detective = 'Sherlock Holmes'\n",
    "\n",
    "print('Detective:',detective)"
   ]
  },
  {
   "cell_type": "code",
   "execution_count": 103,
   "id": "02208b1a-9e2b-466b-901c-6b988997ea75",
   "metadata": {},
   "outputs": [],
   "source": [
    "# print = 'PRINT' (will turn the function print into variable)"
   ]
  },
  {
   "cell_type": "code",
   "execution_count": 108,
   "id": "8df1cf9c-9804-472d-84f0-e4ce31e95d3e",
   "metadata": {},
   "outputs": [
    {
     "ename": "SyntaxError",
     "evalue": "invalid syntax (401687714.py, line 2)",
     "output_type": "error",
     "traceback": [
      "\u001b[0;36m  Cell \u001b[0;32mIn[108], line 2\u001b[0;36m\u001b[0m\n\u001b[0;31m    if = 10\u001b[0m\n\u001b[0m       ^\u001b[0m\n\u001b[0;31mSyntaxError\u001b[0m\u001b[0;31m:\u001b[0m invalid syntax\n"
     ]
    }
   ],
   "source": [
    "# if is a keyword and it cannot be used as a variable\n",
    "if = 10 "
   ]
  },
  {
   "attachments": {},
   "cell_type": "markdown",
   "id": "604116c5",
   "metadata": {},
   "source": [
    "## Brackets"
   ]
  },
  {
   "cell_type": "markdown",
   "id": "b0171e27-30ac-4e3c-8dec-72ddd360ef7d",
   "metadata": {},
   "source": [
    "### Example 1: ( )"
   ]
  },
  {
   "cell_type": "code",
   "execution_count": 125,
   "id": "f4e4bc3d-16a4-4af6-86c5-da0b7399c80d",
   "metadata": {},
   "outputs": [
    {
     "name": "stdout",
     "output_type": "stream",
     "text": [
      "Hello!\n"
     ]
    }
   ],
   "source": [
    "print('Hello!')             # In functions"
   ]
  },
  {
   "cell_type": "code",
   "execution_count": 100,
   "id": "a52eb21b-0ea4-4a19-a7c8-ba10ac5568b1",
   "metadata": {},
   "outputs": [
    {
     "data": {
      "text/plain": [
       "15"
      ]
     },
     "execution_count": 100,
     "metadata": {},
     "output_type": "execute_result"
    }
   ],
   "source": [
    "(1 + 2) * 5                 # For math"
   ]
  },
  {
   "cell_type": "code",
   "execution_count": 123,
   "id": "39ca8a40-7603-4979-a7f7-7b811ace5455",
   "metadata": {},
   "outputs": [
    {
     "ename": "TypeError",
     "evalue": "unsupported operand type(s) for +: 'int' and 'list'",
     "output_type": "error",
     "traceback": [
      "\u001b[0;31m---------------------------------------------------------------------------\u001b[0m",
      "\u001b[0;31mTypeError\u001b[0m                                 Traceback (most recent call last)",
      "Cell \u001b[0;32mIn[123], line 3\u001b[0m\n\u001b[1;32m      1\u001b[0m \u001b[38;5;66;03m# DO NOT DO THIS\u001b[39;00m\n\u001b[0;32m----> 3\u001b[0m (\u001b[38;5;241;43m12\u001b[39;49m\u001b[43m \u001b[49m\u001b[38;5;241;43m+\u001b[39;49m\u001b[43m \u001b[49m\u001b[43m[\u001b[49m\u001b[38;5;241;43m8\u001b[39;49m\u001b[43m \u001b[49m\u001b[38;5;241;43m*\u001b[39;49m\u001b[43m \u001b[49m\u001b[38;5;241;43m5\u001b[39;49m\u001b[43m]\u001b[49m) \u001b[38;5;241m*\u001b[39m \u001b[38;5;241m6\u001b[39m          \n",
      "\u001b[0;31mTypeError\u001b[0m: unsupported operand type(s) for +: 'int' and 'list'"
     ]
    }
   ],
   "source": [
    "# DO NOT DO THIS\n",
    "\n",
    "(12 + [8 * 5]) * 6          "
   ]
  },
  {
   "cell_type": "markdown",
   "id": "74333874-fdda-43ce-8801-08ccf798cf60",
   "metadata": {},
   "source": [
    "### Example 2: [ ]"
   ]
  },
  {
   "cell_type": "code",
   "execution_count": 111,
   "id": "4883b2d7-5952-4594-a94f-9f927fd1dbfb",
   "metadata": {},
   "outputs": [],
   "source": [
    "# Python uses [ ] for lists of data.\n",
    "\n",
    "py_list = [1, 2, 3, 4, 5]   # A 1D list\n",
    "\n",
    "py_list_2 = [               # A 2D list\n",
    "                [1, \"A\"],      \n",
    "                [2, \"B\"],\n",
    "                [3, \"C\"],\n",
    "                [4, \"D\"],\n",
    "                [5, \"E\"]\n",
    "            ]"
   ]
  },
  {
   "cell_type": "markdown",
   "id": "881e27e3-12f0-4dbe-9e5d-3ae19d59f6ef",
   "metadata": {},
   "source": [
    "### Example 3: { }"
   ]
  },
  {
   "cell_type": "code",
   "execution_count": 110,
   "id": "ef2e9715-7c97-4aa1-9ff8-f907f5a93fd5",
   "metadata": {},
   "outputs": [],
   "source": [
    "# Python uses { } to store data in a ‘thing’ called a dictionary.\n",
    "\n",
    "personal_info = {\n",
    "    'Names': 'Batman',\n",
    "    'Real Name': 'Bruce Wayne',\n",
    "    'Age': 55,\n",
    "    'Affiliation': 'Justice League',\n",
    "    'Universe': 'DC'\n",
    "}"
   ]
  },
  {
   "cell_type": "code",
   "execution_count": 126,
   "id": "29e1c9f6-f806-4e7d-868a-c7cecd2fcf5e",
   "metadata": {},
   "outputs": [
    {
     "data": {
      "text/plain": [
       "'Batman'"
      ]
     },
     "execution_count": 126,
     "metadata": {},
     "output_type": "execute_result"
    }
   ],
   "source": [
    "personal_info['Names']"
   ]
  },
  {
   "cell_type": "code",
   "execution_count": 132,
   "id": "e333c1d4-bda6-43fc-92e3-1906d3cf80c9",
   "metadata": {},
   "outputs": [],
   "source": [
    "personal_info['Names'] = 'Spiderman'\n",
    "personal_info['Real Name'] = 'Peter Parker'\n",
    "personal_info['Age'] = 18\n",
    "personal_info['Affiliation'] ='Avengers'\n",
    "personal_info['Universe'] ='Marvel'"
   ]
  },
  {
   "cell_type": "code",
   "execution_count": 133,
   "id": "98e595fe-ac1c-4208-869f-4ebe9782c19b",
   "metadata": {},
   "outputs": [
    {
     "data": {
      "text/plain": [
       "{'Names': 'Spiderman',\n",
       " 'Real Name': 'Peter Parker',\n",
       " 'Age': 18,\n",
       " 'Affiliation': 'Avengers',\n",
       " 'Universe': 'Marvel'}"
      ]
     },
     "execution_count": 133,
     "metadata": {},
     "output_type": "execute_result"
    }
   ],
   "source": [
    "personal_info"
   ]
  },
  {
   "attachments": {},
   "cell_type": "markdown",
   "id": "cad7dc20",
   "metadata": {},
   "source": [
    "## Giving Python superpowers with Packages"
   ]
  },
  {
   "attachments": {},
   "cell_type": "markdown",
   "id": "a1bba103",
   "metadata": {},
   "source": [
    "### Some Context"
   ]
  },
  {
   "cell_type": "code",
   "execution_count": 134,
   "id": "bd34f8f6-60a8-48bd-b99b-490f32ba0e68",
   "metadata": {},
   "outputs": [
    {
     "data": {
      "text/plain": [
       "40.5"
      ]
     },
     "execution_count": 134,
     "metadata": {},
     "output_type": "execute_result"
    }
   ],
   "source": [
    "1 * ((2 - 3) + 4) ** 5 / 6"
   ]
  },
  {
   "cell_type": "code",
   "execution_count": 135,
   "id": "5dcdb492-e0d6-4728-91e3-32f0ae79301b",
   "metadata": {},
   "outputs": [
    {
     "ename": "NameError",
     "evalue": "name 'sqrt' is not defined",
     "output_type": "error",
     "traceback": [
      "\u001b[0;31m---------------------------------------------------------------------------\u001b[0m",
      "\u001b[0;31mNameError\u001b[0m                                 Traceback (most recent call last)",
      "Cell \u001b[0;32mIn[135], line 1\u001b[0m\n\u001b[0;32m----> 1\u001b[0m \u001b[43msqrt\u001b[49m(\u001b[38;5;241m4\u001b[39m)      \u001b[38;5;66;03m# Will NOT work because \u001b[39;00m\n\u001b[1;32m      2\u001b[0m              \u001b[38;5;66;03m# basic Python is limited\u001b[39;00m\n",
      "\u001b[0;31mNameError\u001b[0m: name 'sqrt' is not defined"
     ]
    }
   ],
   "source": [
    "sqrt(4)      # Will NOT work because \n",
    "             # basic Python is limited\n"
   ]
  },
  {
   "attachments": {},
   "cell_type": "markdown",
   "id": "157457eb",
   "metadata": {},
   "source": [
    "### Importing the math package"
   ]
  },
  {
   "cell_type": "code",
   "execution_count": 136,
   "id": "cdef04b9-949f-4612-9473-b000c014334f",
   "metadata": {},
   "outputs": [],
   "source": [
    "import math"
   ]
  },
  {
   "cell_type": "code",
   "execution_count": 137,
   "id": "2d6c6caf-d19a-4c1c-97d6-2482b029f7fe",
   "metadata": {},
   "outputs": [
    {
     "data": {
      "text/plain": [
       "2.0"
      ]
     },
     "execution_count": 137,
     "metadata": {},
     "output_type": "execute_result"
    }
   ],
   "source": [
    "math.sqrt(4)"
   ]
  },
  {
   "attachments": {},
   "cell_type": "markdown",
   "id": "9f2a8d8c",
   "metadata": {},
   "source": [
    "### Importing the numpy package"
   ]
  },
  {
   "cell_type": "code",
   "execution_count": 138,
   "id": "b69b8508-e27b-4477-bf6f-39fce0fd6a29",
   "metadata": {},
   "outputs": [],
   "source": [
    "import numpy as np"
   ]
  },
  {
   "cell_type": "code",
   "execution_count": 139,
   "id": "c47d7350-d121-4c33-909a-8d51049bb64d",
   "metadata": {},
   "outputs": [
    {
     "data": {
      "text/plain": [
       "2.0"
      ]
     },
     "execution_count": 139,
     "metadata": {},
     "output_type": "execute_result"
    }
   ],
   "source": [
    "np.sqrt(4)"
   ]
  },
  {
   "attachments": {},
   "cell_type": "markdown",
   "id": "fd00fa6b",
   "metadata": {},
   "source": [
    "### Why so many packages?"
   ]
  },
  {
   "cell_type": "code",
   "execution_count": 141,
   "id": "262aa0cf-e767-4e07-ab2f-7b7d2254392e",
   "metadata": {},
   "outputs": [
    {
     "ename": "TypeError",
     "evalue": "must be real number, not list",
     "output_type": "error",
     "traceback": [
      "\u001b[0;31m---------------------------------------------------------------------------\u001b[0m",
      "\u001b[0;31mTypeError\u001b[0m                                 Traceback (most recent call last)",
      "Cell \u001b[0;32mIn[141], line 1\u001b[0m\n\u001b[0;32m----> 1\u001b[0m \u001b[43mmath\u001b[49m\u001b[38;5;241;43m.\u001b[39;49m\u001b[43msqrt\u001b[49m\u001b[43m(\u001b[49m\u001b[43m[\u001b[49m\u001b[38;5;241;43m4\u001b[39;49m\u001b[43m,\u001b[49m\u001b[38;5;241;43m16\u001b[39;49m\u001b[43m,\u001b[49m\u001b[38;5;241;43m64\u001b[39;49m\u001b[43m]\u001b[49m\u001b[43m)\u001b[49m\n",
      "\u001b[0;31mTypeError\u001b[0m: must be real number, not list"
     ]
    }
   ],
   "source": [
    "math.sqrt([4,16,64])"
   ]
  },
  {
   "cell_type": "code",
   "execution_count": 142,
   "id": "45f5da5a-7efe-4190-ab83-3a19a03e8b73",
   "metadata": {},
   "outputs": [
    {
     "data": {
      "text/plain": [
       "array([2., 4., 8.])"
      ]
     },
     "execution_count": 142,
     "metadata": {},
     "output_type": "execute_result"
    }
   ],
   "source": [
    "np.sqrt([4,16,64])"
   ]
  },
  {
   "attachments": {},
   "cell_type": "markdown",
   "id": "9de595a8",
   "metadata": {},
   "source": [
    "## The dot (.)"
   ]
  },
  {
   "cell_type": "code",
   "execution_count": 156,
   "id": "6c92f13d-d169-434e-9290-50cf3d9ae143",
   "metadata": {},
   "outputs": [
    {
     "data": {
      "text/plain": [
       "2.0"
      ]
     },
     "execution_count": 156,
     "metadata": {},
     "output_type": "execute_result"
    }
   ],
   "source": [
    "# FUNCTIONS \n",
    "\n",
    "math.sqrt(4)\n",
    "np.sqrt(4)"
   ]
  },
  {
   "cell_type": "code",
   "execution_count": 164,
   "id": "01c0a8e5-b808-4057-8ad8-ed30692758e0",
   "metadata": {},
   "outputs": [
    {
     "data": {
      "text/plain": [
       "'WICKED'"
      ]
     },
     "execution_count": 164,
     "metadata": {},
     "output_type": "execute_result"
    }
   ],
   "source": [
    "'wicked'.upper()"
   ]
  },
  {
   "cell_type": "code",
   "execution_count": 152,
   "id": "0ab32123-28e6-4e91-9ca7-dfd0181bc136",
   "metadata": {},
   "outputs": [
    {
     "ename": "SyntaxError",
     "evalue": "invalid decimal literal (4196007288.py, line 1)",
     "output_type": "error",
     "traceback": [
      "\u001b[0;36m  Cell \u001b[0;32mIn[152], line 1\u001b[0;36m\u001b[0m\n\u001b[0;31m    1.upper()\u001b[0m\n\u001b[0m     ^\u001b[0m\n\u001b[0;31mSyntaxError\u001b[0m\u001b[0;31m:\u001b[0m invalid decimal literal\n"
     ]
    }
   ],
   "source": [
    "1.upper()"
   ]
  },
  {
   "cell_type": "code",
   "execution_count": 146,
   "id": "3fa9a782-e0dc-4966-8f80-e9282fff7ed8",
   "metadata": {},
   "outputs": [
    {
     "data": {
      "text/plain": [
       "'Wicked'"
      ]
     },
     "execution_count": 146,
     "metadata": {},
     "output_type": "execute_result"
    }
   ],
   "source": [
    "'wicked'.title()"
   ]
  },
  {
   "cell_type": "code",
   "execution_count": 147,
   "id": "bf9b95e5-63ac-47d6-b414-222361c4a7ca",
   "metadata": {},
   "outputs": [
    {
     "data": {
      "text/plain": [
       "'Wicked Witch Of The West'"
      ]
     },
     "execution_count": 147,
     "metadata": {},
     "output_type": "execute_result"
    }
   ],
   "source": [
    "'wicked witch of the west'.title()"
   ]
  },
  {
   "cell_type": "code",
   "execution_count": 162,
   "id": "6293a195-68ce-46a7-bdca-bdfebb1ca633",
   "metadata": {},
   "outputs": [
    {
     "data": {
      "text/plain": [
       "['Wicked', 'Witch', 'Of', 'The', 'West']"
      ]
     },
     "execution_count": 162,
     "metadata": {},
     "output_type": "execute_result"
    }
   ],
   "source": [
    "'Wicked Witch Of The West'.split()"
   ]
  },
  {
   "cell_type": "code",
   "execution_count": 163,
   "id": "b2bc92ac-fbe1-43e3-8bd1-173fb0726722",
   "metadata": {},
   "outputs": [
    {
     "ename": "SyntaxError",
     "evalue": "invalid decimal literal (3434423703.py, line 1)",
     "output_type": "error",
     "traceback": [
      "\u001b[0;36m  Cell \u001b[0;32mIn[163], line 1\u001b[0;36m\u001b[0m\n\u001b[0;31m    1234567890.split()\u001b[0m\n\u001b[0m              ^\u001b[0m\n\u001b[0;31mSyntaxError\u001b[0m\u001b[0;31m:\u001b[0m invalid decimal literal\n"
     ]
    }
   ],
   "source": [
    "1234567890.split()"
   ]
  },
  {
   "cell_type": "code",
   "execution_count": 155,
   "id": "78fd54a5-f0e4-45f3-b144-673a0ba0c783",
   "metadata": {},
   "outputs": [],
   "source": [
    "# PROPERTIES\n",
    "\n",
    "x=1j+10"
   ]
  },
  {
   "cell_type": "code",
   "execution_count": 150,
   "id": "2241da71-fa64-4cbe-9d51-a3e85be8eed9",
   "metadata": {},
   "outputs": [
    {
     "data": {
      "text/plain": [
       "10.0"
      ]
     },
     "execution_count": 150,
     "metadata": {},
     "output_type": "execute_result"
    }
   ],
   "source": [
    "x.real"
   ]
  },
  {
   "cell_type": "code",
   "execution_count": 151,
   "id": "8ea5caa9-2378-498d-b28e-4b1931c29fdb",
   "metadata": {},
   "outputs": [
    {
     "data": {
      "text/plain": [
       "1.0"
      ]
     },
     "execution_count": 151,
     "metadata": {},
     "output_type": "execute_result"
    }
   ],
   "source": [
    "x.imag"
   ]
  },
  {
   "cell_type": "code",
   "execution_count": 160,
   "id": "9474a9c6-80ec-4ae0-bcd5-4ab6774cef9d",
   "metadata": {},
   "outputs": [
    {
     "data": {
      "text/plain": [
       "'AB'"
      ]
     },
     "execution_count": 160,
     "metadata": {},
     "output_type": "execute_result"
    }
   ],
   "source": [
    "'A' + 'B'"
   ]
  },
  {
   "cell_type": "code",
   "execution_count": 161,
   "id": "22d853ad-e769-4d45-a661-7ff077131b2c",
   "metadata": {},
   "outputs": [
    {
     "data": {
      "text/plain": [
       "'ABBBBBBBBBB'"
      ]
     },
     "execution_count": 161,
     "metadata": {},
     "output_type": "execute_result"
    }
   ],
   "source": [
    "'A' + 'B'*10"
   ]
  },
  {
   "cell_type": "code",
   "execution_count": 166,
   "id": "a5779d8e-9e9b-47bc-afb9-a5690702a307",
   "metadata": {},
   "outputs": [],
   "source": [
    "def my_print(text):\n",
    "    print(text.upper())"
   ]
  },
  {
   "cell_type": "code",
   "execution_count": 169,
   "id": "733a73d2-1f56-4fe3-9663-b5cc4b495746",
   "metadata": {},
   "outputs": [
    {
     "name": "stdout",
     "output_type": "stream",
     "text": [
      "SP2273\n"
     ]
    }
   ],
   "source": [
    "my_print('sp2273')"
   ]
  }
 ],
 "metadata": {
  "kernelspec": {
   "display_name": "Python 3 (ipykernel)",
   "language": "python",
   "name": "python3"
  },
  "language_info": {
   "codemirror_mode": {
    "name": "ipython",
    "version": 3
   },
   "file_extension": ".py",
   "mimetype": "text/x-python",
   "name": "python",
   "nbconvert_exporter": "python",
   "pygments_lexer": "ipython3",
   "version": "3.11.7"
  },
  "toc": {
   "base_numbering": 1,
   "nav_menu": {},
   "number_sections": true,
   "sideBar": true,
   "skip_h1_title": false,
   "title_cell": "Table of Contents",
   "title_sidebar": "Contents",
   "toc_cell": false,
   "toc_position": {},
   "toc_section_display": true,
   "toc_window_display": false
  },
  "vscode": {
   "interpreter": {
    "hash": "31f2aee4e71d21fbe5cf8b01ff0e069b9275f58929596ceb00d14d90e3e16cd6"
   }
  }
 },
 "nbformat": 4,
 "nbformat_minor": 5
}
