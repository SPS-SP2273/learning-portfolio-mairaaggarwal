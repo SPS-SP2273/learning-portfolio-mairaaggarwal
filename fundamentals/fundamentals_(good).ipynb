{
 "cells": [
  {
   "attachments": {},
   "cell_type": "markdown",
   "id": "123456",
   "metadata": {},
   "source": [
    "<div style=\"text-align:left;font-size:2em\"><span style=\"font-weight:bolder;font-size:1.25em\">SP2273 | Learning Portfolio</span><br><br><span style=\"font-weight:bold;color:darkred\">Fundamentals (Good)</span></div>"
   ]
  },
  {
   "attachments": {},
   "cell_type": "markdown",
   "id": "af0f9941",
   "metadata": {},
   "source": [
    "# What to expect in this chapter"
   ]
  },
  {
   "attachments": {},
   "cell_type": "markdown",
   "id": "335033a7",
   "metadata": {},
   "source": [
    "## There is more to if"
   ]
  },
  {
   "cell_type": "code",
   "execution_count": 2,
   "id": "ee22854d-c0e1-4453-a163-7ea62d925d24",
   "metadata": {},
   "outputs": [
    {
     "name": "stdout",
     "output_type": "stream",
     "text": [
      "Hello Chipmunk in Red!\n"
     ]
    }
   ],
   "source": [
    "name = 'Alvin'\n",
    "\n",
    "if name == 'Alvin':\n",
    "    print('Hello Chipmunk in Red!')\n",
    "    \n",
    "elif name == 'Simon':\n",
    "    print('Hello Chipmunk in Blue!')\n",
    "    \n",
    "elif name == 'Theodore':\n",
    "    print('Hello Chipmunk in Green!')\n",
    "    \n",
    "else:\n",
    "    print('Hello, World!')"
   ]
  },
  {
   "attachments": {},
   "cell_type": "markdown",
   "id": "b5af8374",
   "metadata": {},
   "source": [
    "## Asking questions"
   ]
  },
  {
   "cell_type": "code",
   "execution_count": 3,
   "id": "f80f3293-f63a-43cc-af83-760540d2a6fe",
   "metadata": {},
   "outputs": [],
   "source": [
    "fruits = ['apple', 'banana', 'pineapple', 'jackfruit']\n",
    "vegetables = ['celery', 'potato', 'broccoli', 'kale']"
   ]
  },
  {
   "cell_type": "code",
   "execution_count": 4,
   "id": "3fdc3893-8841-4fec-95d5-191166a7ef10",
   "metadata": {},
   "outputs": [
    {
     "data": {
      "text/plain": [
       "True"
      ]
     },
     "execution_count": 4,
     "metadata": {},
     "output_type": "execute_result"
    }
   ],
   "source": [
    "'apple' in fruits"
   ]
  },
  {
   "cell_type": "code",
   "execution_count": 5,
   "id": "02d68825-669d-445c-99ee-caa618be74d1",
   "metadata": {},
   "outputs": [
    {
     "data": {
      "text/plain": [
       "False"
      ]
     },
     "execution_count": 5,
     "metadata": {},
     "output_type": "execute_result"
    }
   ],
   "source": [
    "'peach' in fruits"
   ]
  },
  {
   "cell_type": "code",
   "execution_count": 6,
   "id": "b13d8055-7703-4966-bee2-76bb59e1bd04",
   "metadata": {},
   "outputs": [
    {
     "data": {
      "text/plain": [
       "True"
      ]
     },
     "execution_count": 6,
     "metadata": {},
     "output_type": "execute_result"
    }
   ],
   "source": [
    "'peach' not in fruits"
   ]
  },
  {
   "cell_type": "code",
   "execution_count": 12,
   "id": "1cc12253-67b3-4a2b-beaa-654a73df551e",
   "metadata": {},
   "outputs": [
    {
     "data": {
      "text/plain": [
       "False"
      ]
     },
     "execution_count": 12,
     "metadata": {},
     "output_type": "execute_result"
    }
   ],
   "source": [
    "('apple' in fruits) and ('banana' in vegetables)"
   ]
  },
  {
   "cell_type": "code",
   "execution_count": 13,
   "id": "873426f2-5a45-4970-975d-b86958a1eed0",
   "metadata": {},
   "outputs": [
    {
     "data": {
      "text/plain": [
       "True"
      ]
     },
     "execution_count": 13,
     "metadata": {},
     "output_type": "execute_result"
    }
   ],
   "source": [
    "('apple' in fruits) or ('banana' in vegetables)"
   ]
  },
  {
   "cell_type": "code",
   "execution_count": 10,
   "id": "12e80e1d-9b03-41b8-88fc-6ab901ad60a9",
   "metadata": {},
   "outputs": [
    {
     "data": {
      "text/plain": [
       "True"
      ]
     },
     "execution_count": 10,
     "metadata": {},
     "output_type": "execute_result"
    }
   ],
   "source": [
    "'app' in 'apple'"
   ]
  },
  {
   "cell_type": "code",
   "execution_count": 11,
   "id": "770a69c5-e84d-42b9-8d2b-6f327627bddd",
   "metadata": {},
   "outputs": [
    {
     "data": {
      "text/plain": [
       "True"
      ]
     },
     "execution_count": 11,
     "metadata": {},
     "output_type": "execute_result"
    }
   ],
   "source": [
    "'ppl' in 'apple'"
   ]
  },
  {
   "cell_type": "code",
   "execution_count": 14,
   "id": "2d14f03c-b1cd-486d-ac94-0934ab5d054f",
   "metadata": {},
   "outputs": [
    {
     "data": {
      "text/plain": [
       "False"
      ]
     },
     "execution_count": 14,
     "metadata": {},
     "output_type": "execute_result"
    }
   ],
   "source": [
    "'apples' > 'oranges'"
   ]
  },
  {
   "cell_type": "code",
   "execution_count": 15,
   "id": "29fc9ff5-d51b-4f71-9ecf-e21e0432d4dd",
   "metadata": {},
   "outputs": [
    {
     "ename": "TypeError",
     "evalue": "'>' not supported between instances of 'int' and 'str'",
     "output_type": "error",
     "traceback": [
      "\u001b[0;31m---------------------------------------------------------------------------\u001b[0m",
      "\u001b[0;31mTypeError\u001b[0m                                 Traceback (most recent call last)",
      "Cell \u001b[0;32mIn[15], line 1\u001b[0m\n\u001b[0;32m----> 1\u001b[0m \u001b[38;5;241;43m9\u001b[39;49m\u001b[43m \u001b[49m\u001b[38;5;241;43m>\u001b[39;49m\u001b[43m \u001b[49m\u001b[38;5;124;43m'\u001b[39;49m\u001b[38;5;124;43mapple\u001b[39;49m\u001b[38;5;124;43m'\u001b[39;49m\n",
      "\u001b[0;31mTypeError\u001b[0m: '>' not supported between instances of 'int' and 'str'"
     ]
    }
   ],
   "source": [
    "9 > 'apple'"
   ]
  },
  {
   "attachments": {},
   "cell_type": "markdown",
   "id": "52871485",
   "metadata": {},
   "source": [
    "## Asking Math questions"
   ]
  },
  {
   "cell_type": "code",
   "execution_count": 16,
   "id": "effecf8b-7f37-4fc9-951b-233bd60ca07a",
   "metadata": {},
   "outputs": [
    {
     "data": {
      "text/plain": [
       "True"
      ]
     },
     "execution_count": 16,
     "metadata": {},
     "output_type": "execute_result"
    }
   ],
   "source": [
    "1200 > 76"
   ]
  },
  {
   "cell_type": "code",
   "execution_count": 18,
   "id": "f8465395-4775-41b6-8a38-8f0785cbdb00",
   "metadata": {},
   "outputs": [
    {
     "data": {
      "text/plain": [
       "False"
      ]
     },
     "execution_count": 18,
     "metadata": {},
     "output_type": "execute_result"
    }
   ],
   "source": [
    "1200 > 1200"
   ]
  },
  {
   "cell_type": "code",
   "execution_count": 19,
   "id": "607450b8-eb5c-4d5e-8bfe-d81e4306a862",
   "metadata": {},
   "outputs": [
    {
     "data": {
      "text/plain": [
       "True"
      ]
     },
     "execution_count": 19,
     "metadata": {},
     "output_type": "execute_result"
    }
   ],
   "source": [
    "1200 >= 1200"
   ]
  },
  {
   "cell_type": "code",
   "execution_count": 20,
   "id": "1a3546fc-5e56-4ce2-a891-1b7426c8375f",
   "metadata": {},
   "outputs": [
    {
     "data": {
      "text/plain": [
       "False"
      ]
     },
     "execution_count": 20,
     "metadata": {},
     "output_type": "execute_result"
    }
   ],
   "source": [
    "#A \n",
    "\n",
    "x=3\n",
    "x > 5 and x < 15"
   ]
  },
  {
   "cell_type": "code",
   "execution_count": 21,
   "id": "a7d72730-f066-4004-87ae-1e8204f6eab1",
   "metadata": {},
   "outputs": [
    {
     "data": {
      "text/plain": [
       "False"
      ]
     },
     "execution_count": 21,
     "metadata": {},
     "output_type": "execute_result"
    }
   ],
   "source": [
    "#B\n",
    "\n",
    "x=3\n",
    "(x > 5) and (x < 15)"
   ]
  },
  {
   "cell_type": "code",
   "execution_count": 23,
   "id": "e91a445e-4143-472c-a883-1c6d3e8c2a99",
   "metadata": {},
   "outputs": [
    {
     "data": {
      "text/plain": [
       "False"
      ]
     },
     "execution_count": 23,
     "metadata": {},
     "output_type": "execute_result"
    }
   ],
   "source": [
    "#C\n",
    "\n",
    "x=3\n",
    "5 < x < 15 # Only Pythom"
   ]
  },
  {
   "cell_type": "code",
   "execution_count": 26,
   "id": "9d5dc201-9253-485d-a1b2-bb4581d00ffc",
   "metadata": {},
   "outputs": [
    {
     "data": {
      "text/plain": [
       "True"
      ]
     },
     "execution_count": 26,
     "metadata": {},
     "output_type": "execute_result"
    }
   ],
   "source": [
    "'apple' == 'apple'"
   ]
  },
  {
   "cell_type": "code",
   "execution_count": 25,
   "id": "4b20ffd1-a1a7-44d5-8229-7ecebb880ef1",
   "metadata": {},
   "outputs": [
    {
     "data": {
      "text/plain": [
       "False"
      ]
     },
     "execution_count": 25,
     "metadata": {},
     "output_type": "execute_result"
    }
   ],
   "source": [
    "'apple' == 'Apple'"
   ]
  },
  {
   "attachments": {},
   "cell_type": "markdown",
   "id": "b7e40978",
   "metadata": {},
   "source": [
    "## Python stores information in different formats or types"
   ]
  },
  {
   "cell_type": "code",
   "execution_count": 35,
   "id": "5b322f12-ef32-4116-bab0-560cc14d1383",
   "metadata": {},
   "outputs": [],
   "source": [
    "#TYPECASTING"
   ]
  },
  {
   "cell_type": "code",
   "execution_count": 27,
   "id": "bb3c9e58-d911-451b-bf21-4854081f3f7f",
   "metadata": {},
   "outputs": [
    {
     "name": "stdout",
     "output_type": "stream",
     "text": [
      "1 <class 'int'>\n"
     ]
    }
   ],
   "source": [
    "x = int(1.234)\n",
    "print(x, type(x))"
   ]
  },
  {
   "cell_type": "code",
   "execution_count": 28,
   "id": "ab49b92a-952c-4ac2-85e8-f387d4f44a60",
   "metadata": {},
   "outputs": [
    {
     "name": "stdout",
     "output_type": "stream",
     "text": [
      "1.234 <class 'str'>\n"
     ]
    }
   ],
   "source": [
    "x = str(1.234)\n",
    "print(x, type(x))"
   ]
  },
  {
   "cell_type": "code",
   "execution_count": 29,
   "id": "e491668a-db63-4f79-82a4-f676bf0a6f0d",
   "metadata": {},
   "outputs": [
    {
     "name": "stdout",
     "output_type": "stream",
     "text": [
      "1.234 <class 'float'>\n"
     ]
    }
   ],
   "source": [
    "x = float(1.234)\n",
    "print(x, type(x))"
   ]
  },
  {
   "cell_type": "code",
   "execution_count": 31,
   "id": "de927d05-8e0d-4dd3-a03e-252f5c75e666",
   "metadata": {},
   "outputs": [
    {
     "name": "stdout",
     "output_type": "stream",
     "text": [
      "(1.234+0j) <class 'complex'>\n"
     ]
    }
   ],
   "source": [
    "x = complex(1.234)\n",
    "print(x, type(x))"
   ]
  },
  {
   "cell_type": "code",
   "execution_count": 34,
   "id": "4ee13f3a-3fe1-4e43-a16d-b80a1fa9af99",
   "metadata": {},
   "outputs": [
    {
     "name": "stdout",
     "output_type": "stream",
     "text": [
      "1.234 <class 'str'>\n"
     ]
    }
   ],
   "source": [
    "x = '1.234'        # x is a string\n",
    "print(x, type(x))"
   ]
  },
  {
   "cell_type": "code",
   "execution_count": 33,
   "id": "98006708-4134-4e9e-a690-78c741dbd2dd",
   "metadata": {},
   "outputs": [
    {
     "name": "stdout",
     "output_type": "stream",
     "text": [
      "1.234 <class 'float'>\n"
     ]
    }
   ],
   "source": [
    "x = float(x)       # x is now a decimal number\n",
    "print(x, type(x))"
   ]
  },
  {
   "attachments": {},
   "cell_type": "markdown",
   "id": "66989ec7",
   "metadata": {},
   "source": [
    "## Never compare floats directly"
   ]
  },
  {
   "attachments": {},
   "cell_type": "markdown",
   "id": "6e74a820",
   "metadata": {},
   "source": [
    "### The Problem"
   ]
  },
  {
   "cell_type": "code",
   "execution_count": 36,
   "id": "64b4f51d-c02a-455f-ae4a-b196c0237a06",
   "metadata": {},
   "outputs": [
    {
     "data": {
      "text/plain": [
       "False"
      ]
     },
     "execution_count": 36,
     "metadata": {},
     "output_type": "execute_result"
    }
   ],
   "source": [
    "a = 0.1\n",
    "a3 = 0.3\n",
    "a * 3 == a3"
   ]
  },
  {
   "cell_type": "code",
   "execution_count": 38,
   "id": "12c79172-6449-401d-9031-d1a49ae09ff6",
   "metadata": {},
   "outputs": [
    {
     "data": {
      "text/plain": [
       "'0.29999999999999999'"
      ]
     },
     "execution_count": 38,
     "metadata": {},
     "output_type": "execute_result"
    }
   ],
   "source": [
    "f'{0.3:.17f}'"
   ]
  },
  {
   "cell_type": "code",
   "execution_count": 39,
   "id": "68b714fb-3873-4c65-8028-ed3252f49522",
   "metadata": {},
   "outputs": [
    {
     "data": {
      "text/plain": [
       "0.30000000000000004"
      ]
     },
     "execution_count": 39,
     "metadata": {},
     "output_type": "execute_result"
    }
   ],
   "source": [
    "a * 3"
   ]
  },
  {
   "cell_type": "code",
   "execution_count": 41,
   "id": "f1bde496-3661-45f8-97e7-e35a1b37e906",
   "metadata": {},
   "outputs": [
    {
     "data": {
      "text/plain": [
       "0.8999999999999999"
      ]
     },
     "execution_count": 41,
     "metadata": {},
     "output_type": "execute_result"
    }
   ],
   "source": [
    "a3 * 3"
   ]
  },
  {
   "attachments": {},
   "cell_type": "markdown",
   "id": "a71ea6e3",
   "metadata": {},
   "source": [
    "### A solution"
   ]
  },
  {
   "cell_type": "code",
   "execution_count": 52,
   "id": "28ec7635-ec3a-4c15-9930-f7d821f01ffb",
   "metadata": {},
   "outputs": [
    {
     "data": {
      "text/plain": [
       "5.551115123125783e-17"
      ]
     },
     "execution_count": 52,
     "metadata": {},
     "output_type": "execute_result"
    }
   ],
   "source": [
    "a*3 - a3"
   ]
  },
  {
   "cell_type": "code",
   "execution_count": 51,
   "id": "d0471c5b-b35b-416e-ae08-646df98bf18b",
   "metadata": {},
   "outputs": [
    {
     "data": {
      "text/plain": [
       "5.551115123125783e-17"
      ]
     },
     "execution_count": 51,
     "metadata": {},
     "output_type": "execute_result"
    }
   ],
   "source": [
    "abs(a3 - a * 3)"
   ]
  },
  {
   "cell_type": "code",
   "execution_count": 43,
   "id": "3c71bf73-348b-4c0b-87bf-447c3e9bd513",
   "metadata": {},
   "outputs": [
    {
     "data": {
      "text/plain": [
       "True"
      ]
     },
     "execution_count": 43,
     "metadata": {},
     "output_type": "execute_result"
    }
   ],
   "source": [
    "eps = 1E-10\n",
    "abs(a * 3 - a3) < eps"
   ]
  },
  {
   "cell_type": "code",
   "execution_count": 47,
   "id": "1f51f0dc-6da8-49b6-9817-48df1a55cec2",
   "metadata": {},
   "outputs": [
    {
     "data": {
      "text/plain": [
       "False"
      ]
     },
     "execution_count": 47,
     "metadata": {},
     "output_type": "execute_result"
    }
   ],
   "source": [
    "eps = 1E-18\n",
    "abs(a * 3 - a3) < eps"
   ]
  },
  {
   "cell_type": "code",
   "execution_count": 48,
   "id": "e748c474-7af3-4c9e-940f-14df280c8f2e",
   "metadata": {},
   "outputs": [
    {
     "data": {
      "text/plain": [
       "True"
      ]
     },
     "execution_count": 48,
     "metadata": {},
     "output_type": "execute_result"
    }
   ],
   "source": [
    "eps = 1E-10\n",
    "abs(a3 - a * 3) < eps"
   ]
  },
  {
   "cell_type": "code",
   "execution_count": 49,
   "id": "21f27837-8fe3-486b-84b2-6bdbcae99cd9",
   "metadata": {},
   "outputs": [
    {
     "data": {
      "text/plain": [
       "False"
      ]
     },
     "execution_count": 49,
     "metadata": {},
     "output_type": "execute_result"
    }
   ],
   "source": [
    "eps = 1E-20\n",
    "abs(a3 - a * 3) < eps"
   ]
  },
  {
   "cell_type": "code",
   "execution_count": 45,
   "id": "486da64c-d5fb-4ea7-8e71-e260f7813c63",
   "metadata": {},
   "outputs": [],
   "source": [
    "import numpy as np"
   ]
  },
  {
   "cell_type": "code",
   "execution_count": 46,
   "id": "3fb7fbcb-7c1f-4599-aeff-0493df6d94c4",
   "metadata": {},
   "outputs": [
    {
     "data": {
      "text/plain": [
       "True"
      ]
     },
     "execution_count": 46,
     "metadata": {},
     "output_type": "execute_result"
    }
   ],
   "source": [
    "np.isclose(a * 3, a3)"
   ]
  },
  {
   "attachments": {},
   "cell_type": "markdown",
   "id": "908e826f",
   "metadata": {},
   "source": [
    "## Combining English and variables"
   ]
  },
  {
   "attachments": {},
   "cell_type": "markdown",
   "id": "bd26d56f",
   "metadata": {},
   "source": [
    "### Structure of f-strings"
   ]
  },
  {
   "cell_type": "code",
   "execution_count": 59,
   "id": "3f2fb5f7-0f82-46e9-82b4-2611b652af44",
   "metadata": {},
   "outputs": [
    {
     "name": "stdout",
     "output_type": "stream",
     "text": [
      "Hello Alvin!\n"
     ]
    }
   ],
   "source": [
    "name = \"Alvin\"\n",
    "print(f\"Hello {name}!\")"
   ]
  },
  {
   "cell_type": "code",
   "execution_count": 60,
   "id": "cbda53a4-abdc-4adc-81d4-5a0ea4e08809",
   "metadata": {},
   "outputs": [
    {
     "name": "stdout",
     "output_type": "stream",
     "text": [
      "Hello ALVIN!\n"
     ]
    }
   ],
   "source": [
    "name = \"Alvin\"\n",
    "print(f\"Hello {name.upper()}!\")"
   ]
  },
  {
   "cell_type": "code",
   "execution_count": 58,
   "id": "f6a28512-85e7-4644-b628-46c2d4490a47",
   "metadata": {},
   "outputs": [
    {
     "name": "stdout",
     "output_type": "stream",
     "text": [
      "The value of 10 squared is 100!\n"
     ]
    }
   ],
   "source": [
    "x = 10\n",
    "print(f\"The value of {x} squared is {x**2}!\")"
   ]
  },
  {
   "cell_type": "code",
   "execution_count": 61,
   "id": "f085fa95-8177-4813-8683-a6d0af34e2c0",
   "metadata": {},
   "outputs": [
    {
     "name": "stdout",
     "output_type": "stream",
     "text": [
      "Bruce Wayne is Batman.\n"
     ]
    }
   ],
   "source": [
    "text = 'Bruce Wayne is Batman.'\n",
    "print(f'{text}')"
   ]
  },
  {
   "cell_type": "code",
   "execution_count": 62,
   "id": "5d4c371b-cb7e-4a4a-8ff5-c213781e04b0",
   "metadata": {},
   "outputs": [
    {
     "name": "stdout",
     "output_type": "stream",
     "text": [
      "        Bruce Wayne is Batman.\n"
     ]
    }
   ],
   "source": [
    "print(f'{text:>30}')      # A block of 30 characters;\n",
    "                          # aligned right"
   ]
  },
  {
   "cell_type": "code",
   "execution_count": 70,
   "id": "b3985b9b-5253-413e-a05f-c8f2b830be34",
   "metadata": {},
   "outputs": [
    {
     "name": "stdout",
     "output_type": "stream",
     "text": [
      "    Bruce Wayne is Batman.    \n"
     ]
    }
   ],
   "source": [
    "print(f'{text:^30}')      # A block of 30 characters;\n",
    "                          # aligned centre"
   ]
  },
  {
   "cell_type": "code",
   "execution_count": 72,
   "id": "175f50b3-0df1-4ec1-85c1-c457467bfbab",
   "metadata": {},
   "outputs": [
    {
     "name": "stdout",
     "output_type": "stream",
     "text": [
      "Bruce Wayne is Batman.--------------------------------------\n"
     ]
    }
   ],
   "source": [
    "print(f'{text:-<60}')      # A block of 60 characters;\n",
    "                          # aligned centre"
   ]
  },
  {
   "cell_type": "code",
   "execution_count": 69,
   "id": "e27afaf0-cb82-498f-8768-6d979ef515d7",
   "metadata": {},
   "outputs": [
    {
     "name": "stdout",
     "output_type": "stream",
     "text": [
      "xxxxxxxxxxxxxxxxxxxBruce Wayne is Batman.xxxxxxxxxxxxxxxxxxx\n"
     ]
    }
   ],
   "source": [
    "print(f'{text:x^60}')      # A block of 60 characters;\n",
    "                          # aligned centre"
   ]
  },
  {
   "cell_type": "code",
   "execution_count": 65,
   "id": "7057853c-883c-4f5f-b84e-1ff39a183b91",
   "metadata": {},
   "outputs": [
    {
     "name": "stdout",
     "output_type": "stream",
     "text": [
      "Bruce Wayne is Batman.        \n"
     ]
    }
   ],
   "source": [
    "print(f'{text:<30}')      # A block of 30 characters;\n",
    "                          # aligned left"
   ]
  },
  {
   "cell_type": "code",
   "execution_count": 74,
   "id": "2e55c90e-0161-4899-8cf5-c5fd6e8a0f0f",
   "metadata": {},
   "outputs": [
    {
     "name": "stdout",
     "output_type": "stream",
     "text": [
      "The cube of pi to 6 decimal places is 31.006277\n"
     ]
    }
   ],
   "source": [
    "# The f in .6f is used to tell the f-string to output the number in decimal notation.\n",
    "print(f'The cube of pi to 6 decimal places is {np.pi**3:.6f}')"
   ]
  },
  {
   "cell_type": "code",
   "execution_count": 75,
   "id": "fc7d49de-7595-4d4e-9e2d-efd2a4657021",
   "metadata": {},
   "outputs": [
    {
     "name": "stdout",
     "output_type": "stream",
     "text": [
      "The cube of pi to 6 decimal places is 3.100628e+01\n"
     ]
    }
   ],
   "source": [
    "# The e in .6e is used to tell the f-string to output the number in scientific notation.\n",
    "print(f'The cube of pi to 6 decimal places is {np.pi**3:.6e}')"
   ]
  },
  {
   "cell_type": "code",
   "execution_count": 80,
   "id": "e5b3c2f2-d536-4315-adb0-22739f4b443e",
   "metadata": {},
   "outputs": [
    {
     "name": "stdout",
     "output_type": "stream",
     "text": [
      "The cube of 37/4 is 000000000000000000000000000000000.578125\n"
     ]
    }
   ],
   "source": [
    "print(f'The cube of 37/4 is {37/4**3:040.6f}')"
   ]
  },
  {
   "cell_type": "code",
   "execution_count": null,
   "id": "0d9a44b2-be54-4439-9c01-48174ae52f49",
   "metadata": {},
   "outputs": [],
   "source": [
    "{X:>0Y.ZW}"
   ]
  },
  {
   "attachments": {},
   "cell_type": "markdown",
   "id": "d55b3329",
   "metadata": {},
   "source": [
    "## Escape sequences"
   ]
  },
  {
   "cell_type": "code",
   "execution_count": 17,
   "id": "89cf3e59-78c6-4d2d-9571-680eb25340e3",
   "metadata": {},
   "outputs": [
    {
     "name": "stdout",
     "output_type": "stream",
     "text": [
      "Line 1\n",
      "\tLine 2\n",
      "\t\tLine 3\n"
     ]
    }
   ],
   "source": [
    "print('Line 1\\n\\tLine 2\\n\\t\\tLine 3')"
   ]
  },
  {
   "cell_type": "code",
   "execution_count": 16,
   "id": "3f0d4db6-69fc-4cb6-8cbf-862bf69bc651",
   "metadata": {},
   "outputs": [
    {
     "name": "stdout",
     "output_type": "stream",
     "text": [
      "love\\amor\\मोहब्बत\\حب\n"
     ]
    }
   ],
   "source": [
    "print('love\\\\amor\\\\मोहब्बत\\\\حب')"
   ]
  },
  {
   "cell_type": "code",
   "execution_count": 12,
   "id": "23611806-c3c6-4021-a55e-b49f37f1530c",
   "metadata": {},
   "outputs": [
    {
     "name": "stdout",
     "output_type": "stream",
     "text": [
      "Hey Jude, don't make it bad.\n"
     ]
    }
   ],
   "source": [
    "print('Hey Jude, don\\'t make it bad.') "
   ]
  },
  {
   "cell_type": "code",
   "execution_count": 10,
   "id": "5f7c53b1-0c5e-41d1-a881-a4765fec3638",
   "metadata": {},
   "outputs": [
    {
     "name": "stdout",
     "output_type": "stream",
     "text": [
      "I see trees of green\n",
      "Red roses too\n",
      "I see them bloom\n",
      "For me and you\n"
     ]
    }
   ],
   "source": [
    "print('I see trees of green\\nRed roses too\\nI see them bloom\\nFor me and you')"
   ]
  },
  {
   "cell_type": "code",
   "execution_count": 14,
   "id": "cd6e56ec-e00e-4f27-bd32-8b5de08e092d",
   "metadata": {},
   "outputs": [
    {
     "name": "stdout",
     "output_type": "stream",
     "text": [
      "Left\tCentre\tRight\n"
     ]
    }
   ],
   "source": [
    "print('Left\\tCentre\\tRight')"
   ]
  },
  {
   "attachments": {},
   "cell_type": "markdown",
   "id": "e2cf906f",
   "metadata": {},
   "source": [
    "## Computers read = from Right to Left!"
   ]
  },
  {
   "cell_type": "code",
   "execution_count": 50,
   "id": "84b43196-9f94-4345-ad78-c4330369a255",
   "metadata": {},
   "outputs": [],
   "source": [
    "x = 40\n",
    "y = x + 2"
   ]
  },
  {
   "cell_type": "code",
   "execution_count": 51,
   "id": "b2a44e93-9b37-461f-a95f-f34c66440afe",
   "metadata": {},
   "outputs": [
    {
     "data": {
      "text/plain": [
       "42"
      ]
     },
     "execution_count": 51,
     "metadata": {},
     "output_type": "execute_result"
    }
   ],
   "source": [
    "y"
   ]
  },
  {
   "cell_type": "code",
   "execution_count": 52,
   "id": "ff809e65-5b14-4d9c-9f59-7cd514e1a8fe",
   "metadata": {},
   "outputs": [
    {
     "name": "stdout",
     "output_type": "stream",
     "text": [
      "42\n"
     ]
    }
   ],
   "source": [
    "y = 40\n",
    "y = y + 2\n",
    "print(y)"
   ]
  },
  {
   "cell_type": "code",
   "execution_count": 56,
   "id": "4d4a6e37-14f7-4cf1-abfb-4dc1d7109275",
   "metadata": {},
   "outputs": [
    {
     "name": "stdout",
     "output_type": "stream",
     "text": [
      "40\n"
     ]
    }
   ],
   "source": [
    "y = x = 40\n",
    "print(x)"
   ]
  },
  {
   "attachments": {},
   "cell_type": "markdown",
   "id": "c939b8c1",
   "metadata": {},
   "source": [
    "## Shorter and Cleaner Code"
   ]
  },
  {
   "cell_type": "code",
   "execution_count": 58,
   "id": "5285efaf-a32e-45d9-a572-e9a22e54bb70",
   "metadata": {},
   "outputs": [
    {
     "data": {
      "text/plain": [
       "42"
      ]
     },
     "execution_count": 58,
     "metadata": {},
     "output_type": "execute_result"
    }
   ],
   "source": [
    "y = 40\n",
    "y += 2    # Same as y = y + 2\n",
    "y"
   ]
  },
  {
   "cell_type": "code",
   "execution_count": 6,
   "id": "bcb1c107-a65b-401e-ae3f-4dea5150583a",
   "metadata": {},
   "outputs": [
    {
     "data": {
      "text/plain": [
       "20.0"
      ]
     },
     "execution_count": 6,
     "metadata": {},
     "output_type": "execute_result"
    }
   ],
   "source": [
    "y = 40\n",
    "y /= 2    # Same as y = y/2\t\n",
    "y"
   ]
  },
  {
   "attachments": {},
   "cell_type": "markdown",
   "id": "a48e3c99",
   "metadata": {},
   "source": [
    "## Python can be a prima-donna."
   ]
  },
  {
   "cell_type": "code",
   "execution_count": 7,
   "id": "4a6d1551-f911-4492-baef-2d6f076ffdbd",
   "metadata": {},
   "outputs": [
    {
     "ename": "SyntaxError",
     "evalue": "incomplete input (149104261.py, line 1)",
     "output_type": "error",
     "traceback": [
      "\u001b[0;36m  Cell \u001b[0;32mIn[7], line 1\u001b[0;36m\u001b[0m\n\u001b[0;31m    print(\u001b[0m\n\u001b[0m          ^\u001b[0m\n\u001b[0;31mSyntaxError\u001b[0m\u001b[0;31m:\u001b[0m incomplete input\n"
     ]
    }
   ],
   "source": [
    "print("
   ]
  },
  {
   "attachments": {},
   "cell_type": "markdown",
   "id": "2af62d80",
   "metadata": {},
   "source": [
    "## Best Practices for Scientific Computing"
   ]
  },
  {
   "cell_type": "markdown",
   "id": "fc8f3819-3b09-4ca7-a75f-009b03f0f83d",
   "metadata": {},
   "source": [
    "1. Write programs for people, not computers.\n",
    "1. Optimise software only after it works correctly.\n",
    "1. Document design and purpose, not mechanics.\n",
    "1. Collaborate."
   ]
  },
  {
   "attachments": {},
   "cell_type": "markdown",
   "id": "35ab40c9",
   "metadata": {},
   "source": [
    "## Looking for help"
   ]
  },
  {
   "cell_type": "code",
   "execution_count": 59,
   "id": "2c277dcc-68a2-4ea4-bf80-4331a77de7dc",
   "metadata": {},
   "outputs": [
    {
     "name": "stdout",
     "output_type": "stream",
     "text": [
      "Help on built-in function print in module builtins:\n",
      "\n",
      "print(*args, sep=' ', end='\\n', file=None, flush=False)\n",
      "    Prints the values to a stream, or to sys.stdout by default.\n",
      "    \n",
      "    sep\n",
      "      string inserted between values, default a space.\n",
      "    end\n",
      "      string appended after the last value, default a newline.\n",
      "    file\n",
      "      a file-like object (stream); defaults to the current sys.stdout.\n",
      "    flush\n",
      "      whether to forcibly flush the stream.\n",
      "\n"
     ]
    }
   ],
   "source": [
    "help(print)"
   ]
  }
 ],
 "metadata": {
  "kernelspec": {
   "display_name": "Python 3 (ipykernel)",
   "language": "python",
   "name": "python3"
  },
  "language_info": {
   "codemirror_mode": {
    "name": "ipython",
    "version": 3
   },
   "file_extension": ".py",
   "mimetype": "text/x-python",
   "name": "python",
   "nbconvert_exporter": "python",
   "pygments_lexer": "ipython3",
   "version": "3.11.7"
  },
  "toc": {
   "base_numbering": 1,
   "nav_menu": {},
   "number_sections": true,
   "sideBar": true,
   "skip_h1_title": false,
   "title_cell": "Table of Contents",
   "title_sidebar": "Contents",
   "toc_cell": false,
   "toc_position": {},
   "toc_section_display": true,
   "toc_window_display": false
  },
  "vscode": {
   "interpreter": {
    "hash": "31f2aee4e71d21fbe5cf8b01ff0e069b9275f58929596ceb00d14d90e3e16cd6"
   }
  }
 },
 "nbformat": 4,
 "nbformat_minor": 5
}
