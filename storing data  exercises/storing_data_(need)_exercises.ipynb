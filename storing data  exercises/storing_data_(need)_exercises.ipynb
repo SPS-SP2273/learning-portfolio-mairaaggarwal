{
 "cells": [
  {
   "attachments": {},
   "cell_type": "markdown",
   "id": "123456",
   "metadata": {},
   "source": [
    "<div style=\"text-align:left;font-size:2em\"><span style=\"font-weight:bolder;font-size:1.25em\">SP2273 | Learning Portfolio</span><br><br><span style=\"font-weight:bold;color:darkred\">Storing Data (Need) Exercises</span></div>"
   ]
  },
  {
   "cell_type": "code",
   "execution_count": 20,
   "id": "53114fc2-89bb-4ae3-8ffc-31f978d442ca",
   "metadata": {},
   "outputs": [],
   "source": [
    "import numpy as np"
   ]
  },
  {
   "cell_type": "markdown",
   "id": "07d3f6d0-d512-4e46-ac34-ac2ca08c0fcd",
   "metadata": {},
   "source": [
    "# Exercise 1"
   ]
  },
  {
   "cell_type": "markdown",
   "id": "08b07ce2-4746-4622-95fe-f05d5a42ebaf",
   "metadata": {},
   "source": [
    "1. Two similarities between lists and arrays.\n",
    "    1. Elements of both lists and arrays can be accessed with a zero-based index.\n",
    "    1. Both lists and arrays are mutable and elements of data can be added or removed from the original list/array.    \n",
    "2. Two differences between lists and arrays.\n",
    "    1. A list can accomodate a variety of data types such as integer, string or float but an array can only accomodate a single data type.\n",
    "    2. Asking questions (with >,<, or ==) using an array gives element-wise true or false answers while lists do not give accurate answers. \n",
    "3. What is a dictionary?\n",
    "A dictionary is a data structure that stores unordered data items in key-value pairs."
   ]
  },
  {
   "cell_type": "markdown",
   "id": "5f80b88a-29ee-431d-8e0d-f8675ae72df0",
   "metadata": {},
   "source": [
    "# Exercise 2"
   ]
  },
  {
   "cell_type": "code",
   "execution_count": 11,
   "id": "c0cc81a4-a839-47c6-83f3-1dd2b7d742db",
   "metadata": {},
   "outputs": [
    {
     "name": "stdout",
     "output_type": "stream",
     "text": [
      "a1\n",
      "c3\n",
      "e5\n",
      "g7\n",
      "i9\n",
      "['a1', 'c3', 'e5', 'g7', 'i9']\n"
     ]
    }
   ],
   "source": [
    "py_list = [\"a1\", \"b2\", \"c3\", \"d4\", \"e5\", \"f6\", \"g7\", \"h8\", \"i9\", \"j10\"]\n",
    "\n",
    "print(py_list[0]) # Prints 'a1'\n",
    "print(py_list[2]) # Prints 'c3'\n",
    "print(py_list[4] )# Prints 'e5'\n",
    "print(py_list[6]) # Prints 'g7'\n",
    "print(py_list[8]) # Prints 'i9'\n",
    "\n",
    "# Alternatively\n",
    "print(py_list[0:10:2])   "
   ]
  },
  {
   "cell_type": "markdown",
   "id": "990cfd07-1273-48a6-b805-4a6bc3184e86",
   "metadata": {},
   "source": [
    "# Exercise 3"
   ]
  },
  {
   "cell_type": "code",
   "execution_count": 17,
   "id": "3da48f06-02e9-4598-9eaf-259e91345cb1",
   "metadata": {},
   "outputs": [
    {
     "name": "stdout",
     "output_type": "stream",
     "text": [
      "Boron\n",
      "Boron\n"
     ]
    }
   ],
   "source": [
    "elements = ['Hydrogen',\n",
    "            'Helium', 'Lithium',\n",
    "            'Beryllium', 'Boron', 'Carbon',\n",
    "            'Nitrogen', 'Oxygen',\n",
    "            'Fluorine',\n",
    "            'Neon']\n",
    "\n",
    "print(elements[4])\n",
    "print(elements[-6])"
   ]
  },
  {
   "cell_type": "markdown",
   "id": "68231de2-b357-4ed9-8cc9-5e8c1315f51a",
   "metadata": {},
   "source": [
    "# Exercise 4"
   ]
  },
  {
   "cell_type": "code",
   "execution_count": 25,
   "id": "500deafc-04c7-4f3e-99e1-f286af77e9b6",
   "metadata": {},
   "outputs": [
    {
     "data": {
      "text/plain": [
       "9"
      ]
     },
     "execution_count": 25,
     "metadata": {},
     "output_type": "execute_result"
    }
   ],
   "source": [
    "numbers=[45, 60, 1, 30, 96, 1, 96, 57, 16, 1,\n",
    "        99, 62, 86, 43, 42, 60, 59, 1, 1, 35,\n",
    "        83, 47, 34, 28, 68, 23, 22, 92, 1, 79,\n",
    "        1, 29, 94, 72, 46, 47, 1, 74, 32, 20,\n",
    "        8, 37, 35, 1, 89, 29, 86, 19, 43, 61]    \n",
    "\n",
    "np_array_numbers = np.array(numbers)\n",
    "sum(np_array_numbers == 1)"
   ]
  }
 ],
 "metadata": {
  "kernelspec": {
   "display_name": "Python 3 (ipykernel)",
   "language": "python",
   "name": "python3"
  },
  "language_info": {
   "codemirror_mode": {
    "name": "ipython",
    "version": 3
   },
   "file_extension": ".py",
   "mimetype": "text/x-python",
   "name": "python",
   "nbconvert_exporter": "python",
   "pygments_lexer": "ipython3",
   "version": "3.11.7"
  },
  "toc": {
   "base_numbering": 1,
   "nav_menu": {},
   "number_sections": true,
   "sideBar": true,
   "skip_h1_title": false,
   "title_cell": "Table of Contents",
   "title_sidebar": "Contents",
   "toc_cell": false,
   "toc_position": {},
   "toc_section_display": true,
   "toc_window_display": false
  },
  "vscode": {
   "interpreter": {
    "hash": "31f2aee4e71d21fbe5cf8b01ff0e069b9275f58929596ceb00d14d90e3e16cd6"
   }
  }
 },
 "nbformat": 4,
 "nbformat_minor": 5
}
