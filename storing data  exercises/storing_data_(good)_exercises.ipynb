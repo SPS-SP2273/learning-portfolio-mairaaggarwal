{
 "cells": [
  {
   "attachments": {},
   "cell_type": "markdown",
   "id": "123456",
   "metadata": {},
   "source": [
    "<div style=\"text-align:left;font-size:2em\"><span style=\"font-weight:bolder;font-size:1.25em\">SP2273 | Learning Portfolio</span><br><br><span style=\"font-weight:bold;color:darkred\">Storing Data (Good) Exercises</span></div>"
   ]
  },
  {
   "cell_type": "code",
   "execution_count": 2,
   "id": "3ba82c79-c712-4f59-9546-59e1c7bb87d6",
   "metadata": {},
   "outputs": [],
   "source": [
    "import numpy as np"
   ]
  },
  {
   "cell_type": "markdown",
   "id": "00f40118-831c-40e5-8ce9-9d628e34e44e",
   "metadata": {},
   "source": [
    "# Exercise 1"
   ]
  },
  {
   "cell_type": "markdown",
   "id": "df31d97f-b62f-4b0c-b6b8-946883bf6173",
   "metadata": {},
   "source": [
    "| **Term**    |  **Brief description**   | \n",
    "| :-- | :-- | \n",
    "| Subsetting   |  It refers to the process of selecting one element or set of elements from a list or array.|   \n",
    "| Indexing   |  It refers to the process of selecting one element from a list or array.|\n",
    "| Slicing   |  It refers to the process of selecting a set of elements from a list or array by specifying the range.|    \n",
    "| Masking   |  It refers to the process of creating an array as a mask based on a particular condition and further using the array to filter and select elements from the original array. |   "
   ]
  },
  {
   "cell_type": "markdown",
   "id": "9196b200-02e0-4d01-abca-1618e66db062",
   "metadata": {},
   "source": [
    "# Exercise 2"
   ]
  },
  {
   "cell_type": "code",
   "execution_count": 15,
   "id": "8932cf5a-a004-4f8a-bcf6-517be4a0f5eb",
   "metadata": {},
   "outputs": [
    {
     "name": "stdout",
     "output_type": "stream",
     "text": [
      "[ 1  3  2  4  5  7  6  8 10  9]\n",
      "[1 1 0 0 1 1 0 0 0 1]\n",
      "[ True  True False False  True  True False False False  True]\n",
      "['A' 'C' 'E' 'G' 'I']\n"
     ]
    }
   ],
   "source": [
    "np_array_2d = np.array([[1, \"A\"], [3, \"C\"], [2, \"B\"], [4, \"D\"],\n",
    "                        [5, \"E\"], [7, \"G\"], [6, \"F\"], [8, \"H\"],\n",
    "                        [10, \"J\"], [9, \"I\"]])\n",
    "\n",
    "\n",
    "numbers = np_array_2d[:, 0].astype(int)\n",
    "print(numbers)\n",
    "remainder = numbers % 2\n",
    "print(remainder)\n",
    "mask_odd_numbers = remainder == 1\n",
    "print(mask_odd_numbers)\n",
    "result = np_array_2d[mask_odd_numbers, 1]\n",
    "print(result)"
   ]
  }
 ],
 "metadata": {
  "kernelspec": {
   "display_name": "Python 3 (ipykernel)",
   "language": "python",
   "name": "python3"
  },
  "language_info": {
   "codemirror_mode": {
    "name": "ipython",
    "version": 3
   },
   "file_extension": ".py",
   "mimetype": "text/x-python",
   "name": "python",
   "nbconvert_exporter": "python",
   "pygments_lexer": "ipython3",
   "version": "3.11.7"
  },
  "toc": {
   "base_numbering": 1,
   "nav_menu": {},
   "number_sections": true,
   "sideBar": true,
   "skip_h1_title": false,
   "title_cell": "Table of Contents",
   "title_sidebar": "Contents",
   "toc_cell": false,
   "toc_position": {},
   "toc_section_display": true,
   "toc_window_display": false
  },
  "vscode": {
   "interpreter": {
    "hash": "31f2aee4e71d21fbe5cf8b01ff0e069b9275f58929596ceb00d14d90e3e16cd6"
   }
  }
 },
 "nbformat": 4,
 "nbformat_minor": 5
}
