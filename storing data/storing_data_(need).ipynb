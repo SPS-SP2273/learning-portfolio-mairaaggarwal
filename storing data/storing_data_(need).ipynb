{
 "cells": [
  {
   "attachments": {},
   "cell_type": "markdown",
   "id": "123456",
   "metadata": {},
   "source": [
    "<div style=\"text-align:left;font-size:2em\"><span style=\"font-weight:bolder;font-size:1.25em\">SP2273 | Learning Portfolio</span><br><br><span style=\"font-weight:bold;color:darkred\">Storing Data (Need)</span></div>"
   ]
  },
  {
   "cell_type": "code",
   "execution_count": 1,
   "id": "ffd1174f-3012-46de-a545-969ad2db4978",
   "metadata": {},
   "outputs": [],
   "source": [
    "import numpy as np"
   ]
  },
  {
   "attachments": {},
   "cell_type": "markdown",
   "id": "1c41535f",
   "metadata": {},
   "source": [
    "# What to expect in this chapter"
   ]
  },
  {
   "attachments": {},
   "cell_type": "markdown",
   "id": "b4dffdec",
   "metadata": {},
   "source": [
    "# Lists, Arrays & Dictionaries"
   ]
  },
  {
   "attachments": {},
   "cell_type": "markdown",
   "id": "0cbec2e1",
   "metadata": {},
   "source": [
    "## Let’s compare"
   ]
  },
  {
   "cell_type": "code",
   "execution_count": 5,
   "id": "95778a43-f806-431e-9c82-818381c3ea88",
   "metadata": {},
   "outputs": [],
   "source": [
    "# Python Lists\n",
    "py_songs = [\"Eternal Flame\", \"True Blue\", \"Purple Rain\"]\n",
    "py_artists = [\"The Bangles\", \"Madonna\", \"Prince\"]"
   ]
  },
  {
   "cell_type": "code",
   "execution_count": 4,
   "id": "e8cf1e61-3aa6-4afe-9e98-1f92ae73b174",
   "metadata": {},
   "outputs": [],
   "source": [
    "# Numpy Arrays\n",
    "np_songs = np.array([\"Eternal Flame\", \"True Blue\", \"Purple Rain\"])\n",
    "np_artists = np.array([\"The Bangles\", \"Madonna\",\"Prince\"])"
   ]
  },
  {
   "cell_type": "code",
   "execution_count": 13,
   "id": "7a83ef86-a4ed-4ec1-a462-3024018db93a",
   "metadata": {},
   "outputs": [],
   "source": [
    "# Dictionary\n",
    "songs_info = {\n",
    "    \"Eternal Flame\": \"The Bangles\",\n",
    "    \"True Blue\":  \"Madonna\",\n",
    "    \"Purple Rain\": \"Prince\"\n",
    "}"
   ]
  },
  {
   "attachments": {},
   "cell_type": "markdown",
   "id": "17007917",
   "metadata": {},
   "source": [
    "## Accessing data from a list (or array)"
   ]
  },
  {
   "cell_type": "code",
   "execution_count": 6,
   "id": "65a882f8-70de-4352-b621-ce9cc4efe4f5",
   "metadata": {},
   "outputs": [
    {
     "data": {
      "text/plain": [
       "'Eternal Flame'"
      ]
     },
     "execution_count": 6,
     "metadata": {},
     "output_type": "execute_result"
    }
   ],
   "source": [
    "py_songs[0]"
   ]
  },
  {
   "cell_type": "code",
   "execution_count": 7,
   "id": "ff6a051f-b241-4a73-ab97-d495576fa20b",
   "metadata": {},
   "outputs": [
    {
     "data": {
      "text/plain": [
       "'The Bangles'"
      ]
     },
     "execution_count": 7,
     "metadata": {},
     "output_type": "execute_result"
    }
   ],
   "source": [
    "py_artists[0]"
   ]
  },
  {
   "cell_type": "code",
   "execution_count": 15,
   "id": "2d74bea3-f9b2-43c6-a192-ed5a29fa7038",
   "metadata": {},
   "outputs": [
    {
     "name": "stdout",
     "output_type": "stream",
     "text": [
      "Eternal Flame is by The Bangles\n"
     ]
    }
   ],
   "source": [
    "print(py_songs[0], 'is by', py_artists[0])"
   ]
  },
  {
   "cell_type": "code",
   "execution_count": 16,
   "id": "7b6e4031-746b-4492-aff8-72728efddadf",
   "metadata": {},
   "outputs": [
    {
     "name": "stdout",
     "output_type": "stream",
     "text": [
      "Purple Rain is by Prince\n"
     ]
    }
   ],
   "source": [
    "i = 2\n",
    "print(py_songs[i], 'is by', py_artists[i])"
   ]
  },
  {
   "cell_type": "code",
   "execution_count": 10,
   "id": "8592b560-f12c-4ada-9a1f-441d8330794c",
   "metadata": {},
   "outputs": [
    {
     "data": {
      "text/plain": [
       "'Purple Rain'"
      ]
     },
     "execution_count": 10,
     "metadata": {},
     "output_type": "execute_result"
    }
   ],
   "source": [
    "py_songs[2] # Forward indexing"
   ]
  },
  {
   "cell_type": "code",
   "execution_count": 11,
   "id": "13c4ae31-ec15-4241-b9dc-15e02e6f9927",
   "metadata": {},
   "outputs": [
    {
     "data": {
      "text/plain": [
       "'Prince'"
      ]
     },
     "execution_count": 11,
     "metadata": {},
     "output_type": "execute_result"
    }
   ],
   "source": [
    "py_artists[-1] # Reverse indexing"
   ]
  },
  {
   "attachments": {},
   "cell_type": "markdown",
   "id": "cd38c03d",
   "metadata": {},
   "source": [
    "## Accessing data from a dictionary"
   ]
  },
  {
   "cell_type": "code",
   "execution_count": 14,
   "id": "c6cb5529-ef48-4720-bf5a-da2850efb75d",
   "metadata": {},
   "outputs": [
    {
     "data": {
      "text/plain": [
       "'The Bangles'"
      ]
     },
     "execution_count": 14,
     "metadata": {},
     "output_type": "execute_result"
    }
   ],
   "source": [
    "songs_info[\"Eternal Flame\"]"
   ]
  },
  {
   "cell_type": "code",
   "execution_count": 17,
   "id": "4e4fc066-8756-4d05-b374-67e72969cc3d",
   "metadata": {},
   "outputs": [
    {
     "data": {
      "text/plain": [
       "dict_keys(['Eternal Flame', 'True Blue', 'Purple Rain'])"
      ]
     },
     "execution_count": 17,
     "metadata": {},
     "output_type": "execute_result"
    }
   ],
   "source": [
    "songs_info.keys()"
   ]
  },
  {
   "cell_type": "code",
   "execution_count": 18,
   "id": "e4ca394e-e888-401d-a02c-7f2a7671ace1",
   "metadata": {},
   "outputs": [
    {
     "data": {
      "text/plain": [
       "dict_values(['The Bangles', 'Madonna', 'Prince'])"
      ]
     },
     "execution_count": 18,
     "metadata": {},
     "output_type": "execute_result"
    }
   ],
   "source": [
    "songs_info.values()"
   ]
  },
  {
   "attachments": {},
   "cell_type": "markdown",
   "id": "a4ba801e",
   "metadata": {},
   "source": [
    "## Higher dimensional lists"
   ]
  },
  {
   "cell_type": "code",
   "execution_count": 21,
   "id": "0acc176e-0c89-4ed7-9a1b-8ec4ea3d2c74",
   "metadata": {},
   "outputs": [],
   "source": [
    "py_songs_info = [[\"Eternal Flame\", \"The Bangles\"],\n",
    "    [\"True Blue\",  \"Madonna\"],\n",
    "    [\"Purple Rain\", \"Prince\"]]"
   ]
  },
  {
   "attachments": {},
   "cell_type": "markdown",
   "id": "3e138508",
   "metadata": {},
   "source": [
    "# Lists vs. Arrays"
   ]
  },
  {
   "attachments": {},
   "cell_type": "markdown",
   "id": "7c154c52",
   "metadata": {},
   "source": [
    "## Size"
   ]
  },
  {
   "cell_type": "code",
   "execution_count": 26,
   "id": "5f358f94-f0ef-4bfd-871c-5359597bc7f8",
   "metadata": {},
   "outputs": [],
   "source": [
    "py_songs_info = [[\"Eternal Flame\", \"The Bangles\"],\n",
    "    [\"True Blue\",  \"Madonna\"],\n",
    "    [\"Purple Rain\", \"Prince\"]]\n",
    "\n",
    "np_songs_info = np.array(py_songs_info)"
   ]
  },
  {
   "cell_type": "code",
   "execution_count": 34,
   "id": "f3e705e1-f0f7-4bbc-b19d-d0d1eb54368b",
   "metadata": {},
   "outputs": [
    {
     "data": {
      "text/plain": [
       "3"
      ]
     },
     "execution_count": 34,
     "metadata": {},
     "output_type": "execute_result"
    }
   ],
   "source": [
    "# List or Array\n",
    "len(py_songs_info)"
   ]
  },
  {
   "cell_type": "code",
   "execution_count": 33,
   "id": "1f6e2463-d1c9-45c6-85f8-e5ede0ecf1ff",
   "metadata": {},
   "outputs": [
    {
     "data": {
      "text/plain": [
       "3"
      ]
     },
     "execution_count": 33,
     "metadata": {},
     "output_type": "execute_result"
    }
   ],
   "source": [
    "len(np_songs_info)"
   ]
  },
  {
   "cell_type": "code",
   "execution_count": 35,
   "id": "59b185f1-6f45-4b24-81bf-863482d4dd40",
   "metadata": {},
   "outputs": [
    {
     "data": {
      "text/plain": [
       "(3, 2)"
      ]
     },
     "execution_count": 35,
     "metadata": {},
     "output_type": "execute_result"
    }
   ],
   "source": [
    "# Array only\n",
    "np_songs_info.shape"
   ]
  },
  {
   "cell_type": "code",
   "execution_count": 27,
   "id": "8f3bcada-1025-456f-948d-f9ad9f8aeb72",
   "metadata": {},
   "outputs": [],
   "source": [
    "py_list_2d = [[1, \"A\"], [2, \"B\"], [3, \"C\"], [4, \"D\"],\n",
    "              [5, \"E\"], [6, \"F\"], [7, \"G\"], [8, \"H\"],\n",
    "              [9, \"I\"], [10, \"J\"]]\n",
    "\n",
    "np_array_2d = np.array(py_list_2d)      # Reusing the Python list \n",
    "                                        # to create a NEW\n",
    "                                        # NumPy array"
   ]
  },
  {
   "cell_type": "code",
   "execution_count": 28,
   "id": "97407d6f-ad2e-4585-8764-ee4437d3ea22",
   "metadata": {},
   "outputs": [
    {
     "data": {
      "text/plain": [
       "array([['1', 'A'],\n",
       "       ['2', 'B'],\n",
       "       ['3', 'C'],\n",
       "       ['4', 'D'],\n",
       "       ['5', 'E'],\n",
       "       ['6', 'F'],\n",
       "       ['7', 'G'],\n",
       "       ['8', 'H'],\n",
       "       ['9', 'I'],\n",
       "       ['10', 'J']], dtype='<U21')"
      ]
     },
     "execution_count": 28,
     "metadata": {},
     "output_type": "execute_result"
    }
   ],
   "source": [
    "np_array_2d"
   ]
  },
  {
   "cell_type": "code",
   "execution_count": 29,
   "id": "fca11820-b1f8-4463-958e-b2bbb1220b9a",
   "metadata": {},
   "outputs": [
    {
     "data": {
      "text/plain": [
       "[[1, 'A'],\n",
       " [2, 'B'],\n",
       " [3, 'C'],\n",
       " [4, 'D'],\n",
       " [5, 'E'],\n",
       " [6, 'F'],\n",
       " [7, 'G'],\n",
       " [8, 'H'],\n",
       " [9, 'I'],\n",
       " [10, 'J']]"
      ]
     },
     "execution_count": 29,
     "metadata": {},
     "output_type": "execute_result"
    }
   ],
   "source": [
    "py_list_2d"
   ]
  },
  {
   "attachments": {},
   "cell_type": "markdown",
   "id": "926a5531",
   "metadata": {},
   "source": [
    "## Arrays are fussy about type"
   ]
  },
  {
   "cell_type": "code",
   "execution_count": 36,
   "id": "4980423b-abec-4b05-94f8-c5970c18e210",
   "metadata": {},
   "outputs": [],
   "source": [
    "py_list = [1, 1.5, 'A']\n",
    "np_array = np.array(py_list)"
   ]
  },
  {
   "cell_type": "code",
   "execution_count": 39,
   "id": "3120e453-9dbf-45e1-85fc-50841cc6afb4",
   "metadata": {},
   "outputs": [
    {
     "data": {
      "text/plain": [
       "[1, 1.5, 'A']"
      ]
     },
     "execution_count": 39,
     "metadata": {},
     "output_type": "execute_result"
    }
   ],
   "source": [
    "py_list"
   ]
  },
  {
   "cell_type": "code",
   "execution_count": 38,
   "id": "3f6f5582-5bdb-4a4a-9a0e-b930591743c4",
   "metadata": {},
   "outputs": [
    {
     "data": {
      "text/plain": [
       "array(['1', '1.5', 'A'], dtype='<U32')"
      ]
     },
     "execution_count": 38,
     "metadata": {},
     "output_type": "execute_result"
    }
   ],
   "source": [
    "np_array"
   ]
  },
  {
   "attachments": {},
   "cell_type": "markdown",
   "id": "7d033637",
   "metadata": {},
   "source": [
    "## Adding a number"
   ]
  },
  {
   "cell_type": "code",
   "execution_count": 44,
   "id": "37c0ff58-91b0-4f18-9cf8-6a331bfcebd1",
   "metadata": {},
   "outputs": [],
   "source": [
    "py_list = [1, 2, 3, 4, 5]\n",
    "np_array = np.array(py_list)"
   ]
  },
  {
   "cell_type": "code",
   "execution_count": 42,
   "id": "8345ba43-d4af-4435-9818-914cdd03b573",
   "metadata": {},
   "outputs": [
    {
     "data": {
      "text/plain": [
       "array([11, 12, 13, 14, 15])"
      ]
     },
     "execution_count": 42,
     "metadata": {},
     "output_type": "execute_result"
    }
   ],
   "source": [
    "# Array\n",
    "np_array + 10"
   ]
  },
  {
   "cell_type": "code",
   "execution_count": 43,
   "id": "f1650cf1-61ff-4a09-b977-076158b2337d",
   "metadata": {},
   "outputs": [
    {
     "ename": "TypeError",
     "evalue": "can only concatenate list (not \"int\") to list",
     "output_type": "error",
     "traceback": [
      "\u001b[0;31m---------------------------------------------------------------------------\u001b[0m",
      "\u001b[0;31mTypeError\u001b[0m                                 Traceback (most recent call last)",
      "Cell \u001b[0;32mIn[43], line 2\u001b[0m\n\u001b[1;32m      1\u001b[0m \u001b[38;5;66;03m# List\u001b[39;00m\n\u001b[0;32m----> 2\u001b[0m \u001b[43mpy_list\u001b[49m\u001b[43m \u001b[49m\u001b[38;5;241;43m+\u001b[39;49m\u001b[43m \u001b[49m\u001b[38;5;241;43m10\u001b[39;49m        \u001b[38;5;66;03m# Won't work!\u001b[39;00m\n",
      "\u001b[0;31mTypeError\u001b[0m: can only concatenate list (not \"int\") to list"
     ]
    }
   ],
   "source": [
    "# List\n",
    "py_list + 10        # Won't work!"
   ]
  },
  {
   "attachments": {},
   "cell_type": "markdown",
   "id": "210e8bad",
   "metadata": {},
   "source": [
    "## Adding another list"
   ]
  },
  {
   "cell_type": "code",
   "execution_count": 45,
   "id": "0e8e30b3-7102-45f8-b6c7-0860ca6c742c",
   "metadata": {},
   "outputs": [],
   "source": [
    "py_list_1 = [1, 2, 3, 4, 5]\n",
    "py_list_2 = [10, 20, 30, 40, 50]\n",
    "\n",
    "np_array_1 = np.array(py_list_1)\n",
    "np_array_2 = np.array(py_list_2)"
   ]
  },
  {
   "cell_type": "code",
   "execution_count": 47,
   "id": "b3b8a3b6-5029-4f36-a08a-0cca5a8a9b80",
   "metadata": {},
   "outputs": [
    {
     "data": {
      "text/plain": [
       "array([11, 22, 33, 44, 55])"
      ]
     },
     "execution_count": 47,
     "metadata": {},
     "output_type": "execute_result"
    }
   ],
   "source": [
    "# Array\n",
    "np_array_1 + np_array_2"
   ]
  },
  {
   "cell_type": "code",
   "execution_count": 49,
   "id": "e548be6f-e7bb-47db-b015-ff36cbf423e5",
   "metadata": {},
   "outputs": [
    {
     "data": {
      "text/plain": [
       "[1, 2, 3, 4, 5, 10, 20, 30, 40, 50]"
      ]
     },
     "execution_count": 49,
     "metadata": {},
     "output_type": "execute_result"
    }
   ],
   "source": [
    "# List\n",
    "py_list_1 + py_list_2"
   ]
  },
  {
   "attachments": {},
   "cell_type": "markdown",
   "id": "9c7c1b6e",
   "metadata": {},
   "source": [
    "## Multiplying by a Number"
   ]
  },
  {
   "cell_type": "code",
   "execution_count": 50,
   "id": "16aed308-0c5f-4fc2-a753-ba430db1a8db",
   "metadata": {},
   "outputs": [],
   "source": [
    "py_list = [1, 2, 3, 4, 5]\n",
    "np_array = np.array(py_list)         "
   ]
  },
  {
   "cell_type": "code",
   "execution_count": 53,
   "id": "6d03d8a7-1ffd-4b3d-8c97-9c34f283d864",
   "metadata": {},
   "outputs": [
    {
     "data": {
      "text/plain": [
       "array([ 2,  4,  6,  8, 10])"
      ]
     },
     "execution_count": 53,
     "metadata": {},
     "output_type": "execute_result"
    }
   ],
   "source": [
    "# Array\n",
    "np_array*2"
   ]
  },
  {
   "cell_type": "code",
   "execution_count": 52,
   "id": "327e49fe-9d80-4a57-b3ce-85f5ffdcacf4",
   "metadata": {},
   "outputs": [
    {
     "data": {
      "text/plain": [
       "[1, 2, 3, 4, 5, 1, 2, 3, 4, 5]"
      ]
     },
     "execution_count": 52,
     "metadata": {},
     "output_type": "execute_result"
    }
   ],
   "source": [
    "# List\n",
    "py_list*2"
   ]
  },
  {
   "attachments": {},
   "cell_type": "markdown",
   "id": "7dc1eb7f",
   "metadata": {},
   "source": [
    "## Squaring"
   ]
  },
  {
   "cell_type": "code",
   "execution_count": 54,
   "id": "8fa8e515-7bc8-4b8b-bba6-0d64b772bb10",
   "metadata": {},
   "outputs": [],
   "source": [
    "py_list = [1, 2, 3, 4, 5]\n",
    "np_array = np.array(py_list)"
   ]
  },
  {
   "cell_type": "code",
   "execution_count": 57,
   "id": "a6dc7f1f-50e0-4a60-b48a-0d2b073fbddb",
   "metadata": {},
   "outputs": [
    {
     "data": {
      "text/plain": [
       "array([ 1,  4,  9, 16, 25])"
      ]
     },
     "execution_count": 57,
     "metadata": {},
     "output_type": "execute_result"
    }
   ],
   "source": [
    "# Array\n",
    "np_array**2"
   ]
  },
  {
   "cell_type": "code",
   "execution_count": 58,
   "id": "d7cf3dd9-9436-4d7f-8b40-e7eee1e4afbf",
   "metadata": {},
   "outputs": [
    {
     "ename": "TypeError",
     "evalue": "unsupported operand type(s) for ** or pow(): 'list' and 'int'",
     "output_type": "error",
     "traceback": [
      "\u001b[0;31m---------------------------------------------------------------------------\u001b[0m",
      "\u001b[0;31mTypeError\u001b[0m                                 Traceback (most recent call last)",
      "Cell \u001b[0;32mIn[58], line 2\u001b[0m\n\u001b[1;32m      1\u001b[0m \u001b[38;5;66;03m# List\u001b[39;00m\n\u001b[0;32m----> 2\u001b[0m \u001b[43mpy_list\u001b[49m\u001b[38;5;241;43m*\u001b[39;49m\u001b[38;5;241;43m*\u001b[39;49m\u001b[38;5;241;43m2\u001b[39;49m                      \u001b[38;5;66;03m# Won't work!  \u001b[39;00m\n",
      "\u001b[0;31mTypeError\u001b[0m: unsupported operand type(s) for ** or pow(): 'list' and 'int'"
     ]
    }
   ],
   "source": [
    "# List\n",
    "py_list**2                      # Won't work!  "
   ]
  },
  {
   "attachments": {},
   "cell_type": "markdown",
   "id": "521dc8a8",
   "metadata": {},
   "source": [
    "## Asking questions"
   ]
  },
  {
   "cell_type": "code",
   "execution_count": 59,
   "id": "1b5f9832-41ae-4c4c-8aa9-c06bb6982fdf",
   "metadata": {},
   "outputs": [],
   "source": [
    "py_list = [1, 2, 3, 4, 5]\n",
    "np_array = np.array(py_list)         "
   ]
  },
  {
   "cell_type": "code",
   "execution_count": 65,
   "id": "f81bb7d4-684e-49b2-b3e3-2e4b8c9d3fe4",
   "metadata": {},
   "outputs": [
    {
     "data": {
      "text/plain": [
       "False"
      ]
     },
     "execution_count": 65,
     "metadata": {},
     "output_type": "execute_result"
    }
   ],
   "source": [
    "# List\n",
    "py_list == 3     # Works, but what IS the question?"
   ]
  },
  {
   "cell_type": "code",
   "execution_count": 64,
   "id": "0c50217b-139b-40a1-96c9-6ee6aa301ee0",
   "metadata": {},
   "outputs": [
    {
     "ename": "TypeError",
     "evalue": "'>' not supported between instances of 'list' and 'int'",
     "output_type": "error",
     "traceback": [
      "\u001b[0;31m---------------------------------------------------------------------------\u001b[0m",
      "\u001b[0;31mTypeError\u001b[0m                                 Traceback (most recent call last)",
      "Cell \u001b[0;32mIn[64], line 1\u001b[0m\n\u001b[0;32m----> 1\u001b[0m \u001b[43mpy_list\u001b[49m\u001b[43m \u001b[49m\u001b[38;5;241;43m>\u001b[39;49m\u001b[43m \u001b[49m\u001b[38;5;241;43m3\u001b[39;49m\n",
      "\u001b[0;31mTypeError\u001b[0m: '>' not supported between instances of 'list' and 'int'"
     ]
    }
   ],
   "source": [
    "py_list > 3"
   ]
  },
  {
   "cell_type": "code",
   "execution_count": 66,
   "id": "e6dc88d7-23d6-4e1e-ba1a-51ceeadfcb9e",
   "metadata": {},
   "outputs": [
    {
     "data": {
      "text/plain": [
       "array([False, False, False,  True,  True])"
      ]
     },
     "execution_count": 66,
     "metadata": {},
     "output_type": "execute_result"
    }
   ],
   "source": [
    "# Array\n",
    "np_array > 3 "
   ]
  },
  {
   "cell_type": "code",
   "execution_count": 67,
   "id": "5d4dacaa-7eb3-4b53-97ac-5829c4162825",
   "metadata": {},
   "outputs": [
    {
     "data": {
      "text/plain": [
       "2"
      ]
     },
     "execution_count": 67,
     "metadata": {},
     "output_type": "execute_result"
    }
   ],
   "source": [
    "sum(np_array > 3 )"
   ]
  },
  {
   "cell_type": "code",
   "execution_count": 62,
   "id": "d30ab02b-c100-4285-a16b-ccda857de90c",
   "metadata": {},
   "outputs": [
    {
     "data": {
      "text/plain": [
       "array([False, False,  True, False, False])"
      ]
     },
     "execution_count": 62,
     "metadata": {},
     "output_type": "execute_result"
    }
   ],
   "source": [
    "np_array == 3   "
   ]
  },
  {
   "attachments": {},
   "cell_type": "markdown",
   "id": "067e9e9d",
   "metadata": {},
   "source": [
    "## Mathematics"
   ]
  },
  {
   "cell_type": "code",
   "execution_count": 68,
   "id": "332e318c-177f-4909-a8e2-589c211a430a",
   "metadata": {},
   "outputs": [],
   "source": [
    "py_list = [1, 2, 3, 4, 5]\n",
    "np_array = np.array(py_list)         "
   ]
  },
  {
   "cell_type": "code",
   "execution_count": 69,
   "id": "80b9c8a0-2abf-41b9-a87f-c329dc741e25",
   "metadata": {},
   "outputs": [
    {
     "data": {
      "text/plain": [
       "15"
      ]
     },
     "execution_count": 69,
     "metadata": {},
     "output_type": "execute_result"
    }
   ],
   "source": [
    "sum(py_list)     # sum() is a base Python function"
   ]
  },
  {
   "cell_type": "code",
   "execution_count": 70,
   "id": "0a31b31f-1115-4d6a-8e3f-c33867b8b569",
   "metadata": {},
   "outputs": [
    {
     "data": {
      "text/plain": [
       "5"
      ]
     },
     "execution_count": 70,
     "metadata": {},
     "output_type": "execute_result"
    }
   ],
   "source": [
    "max(py_list)     # max() is a base Python function"
   ]
  },
  {
   "cell_type": "code",
   "execution_count": 71,
   "id": "ac4ca5ad-dee4-4d7a-a9d6-2967bb36c672",
   "metadata": {},
   "outputs": [
    {
     "data": {
      "text/plain": [
       "1"
      ]
     },
     "execution_count": 71,
     "metadata": {},
     "output_type": "execute_result"
    }
   ],
   "source": [
    "min(py_list)     # min() is a base Python function"
   ]
  },
  {
   "cell_type": "code",
   "execution_count": 80,
   "id": "48e6d24d-56ce-4331-b142-c3a1f8283ecf",
   "metadata": {},
   "outputs": [
    {
     "ename": "AttributeError",
     "evalue": "'list' object has no attribute 'sum'",
     "output_type": "error",
     "traceback": [
      "\u001b[0;31m---------------------------------------------------------------------------\u001b[0m",
      "\u001b[0;31mAttributeError\u001b[0m                            Traceback (most recent call last)",
      "Cell \u001b[0;32mIn[80], line 1\u001b[0m\n\u001b[0;32m----> 1\u001b[0m \u001b[43mpy_list\u001b[49m\u001b[38;5;241;43m.\u001b[39;49m\u001b[43msum\u001b[49m()   \u001b[38;5;66;03m# Won't work!\u001b[39;00m\n",
      "\u001b[0;31mAttributeError\u001b[0m: 'list' object has no attribute 'sum'"
     ]
    }
   ],
   "source": [
    "py_list.sum()   # Won't work!"
   ]
  },
  {
   "cell_type": "code",
   "execution_count": 72,
   "id": "f45bfed8-9589-421f-a3a2-6a029fc74d77",
   "metadata": {},
   "outputs": [
    {
     "data": {
      "text/plain": [
       "15"
      ]
     },
     "execution_count": 72,
     "metadata": {},
     "output_type": "execute_result"
    }
   ],
   "source": [
    "np_array.sum()"
   ]
  },
  {
   "cell_type": "code",
   "execution_count": 82,
   "id": "5db69365-bff5-40c4-b92e-00d22e943856",
   "metadata": {},
   "outputs": [
    {
     "data": {
      "text/plain": [
       "15"
      ]
     },
     "execution_count": 82,
     "metadata": {},
     "output_type": "execute_result"
    }
   ],
   "source": [
    "sum(np_array)"
   ]
  },
  {
   "cell_type": "code",
   "execution_count": 73,
   "id": "1aac82bd-faed-46ae-b00d-9b024fd00f31",
   "metadata": {},
   "outputs": [
    {
     "data": {
      "text/plain": [
       "5"
      ]
     },
     "execution_count": 73,
     "metadata": {},
     "output_type": "execute_result"
    }
   ],
   "source": [
    "np_array.max()"
   ]
  },
  {
   "cell_type": "code",
   "execution_count": 75,
   "id": "27c0a4b6-519a-4482-84ec-7202f8561963",
   "metadata": {},
   "outputs": [
    {
     "data": {
      "text/plain": [
       "1"
      ]
     },
     "execution_count": 75,
     "metadata": {},
     "output_type": "execute_result"
    }
   ],
   "source": [
    "np_array.min()"
   ]
  },
  {
   "cell_type": "code",
   "execution_count": 78,
   "id": "a59381ee-8800-4ef6-91b9-1f3c1c429fb7",
   "metadata": {},
   "outputs": [
    {
     "data": {
      "text/plain": [
       "3.0"
      ]
     },
     "execution_count": 78,
     "metadata": {},
     "output_type": "execute_result"
    }
   ],
   "source": [
    "np_array.mean()"
   ]
  },
  {
   "cell_type": "code",
   "execution_count": 79,
   "id": "b9fcc98f-a947-46a6-b7e7-0a41c13f977a",
   "metadata": {},
   "outputs": [
    {
     "data": {
      "text/plain": [
       "1.4142135623730951"
      ]
     },
     "execution_count": 79,
     "metadata": {},
     "output_type": "execute_result"
    }
   ],
   "source": [
    "np_array.std()"
   ]
  },
  {
   "cell_type": "code",
   "execution_count": 81,
   "id": "638d1a6d-98ef-4b04-bba4-7a116074ac09",
   "metadata": {},
   "outputs": [
    {
     "ename": "TypeError",
     "evalue": "unsupported operand type(s) for +: 'int' and 'str'",
     "output_type": "error",
     "traceback": [
      "\u001b[0;31m---------------------------------------------------------------------------\u001b[0m",
      "\u001b[0;31mTypeError\u001b[0m                                 Traceback (most recent call last)",
      "Cell \u001b[0;32mIn[81], line 2\u001b[0m\n\u001b[1;32m      1\u001b[0m py_list \u001b[38;5;241m=\u001b[39m [\u001b[38;5;241m1\u001b[39m, \u001b[38;5;241m2\u001b[39m, \u001b[38;5;241m3\u001b[39m, \u001b[38;5;241m4\u001b[39m, \u001b[38;5;241m5\u001b[39m, \u001b[38;5;124m'\u001b[39m\u001b[38;5;124mA\u001b[39m\u001b[38;5;124m'\u001b[39m]\n\u001b[0;32m----> 2\u001b[0m \u001b[38;5;28;43msum\u001b[39;49m\u001b[43m(\u001b[49m\u001b[43mpy_list\u001b[49m\u001b[43m)\u001b[49m \n",
      "\u001b[0;31mTypeError\u001b[0m: unsupported operand type(s) for +: 'int' and 'str'"
     ]
    }
   ],
   "source": [
    "py_list = [1, 2, 3, 4, 5, 'A']\n",
    "sum(py_list) "
   ]
  }
 ],
 "metadata": {
  "kernelspec": {
   "display_name": "Python 3 (ipykernel)",
   "language": "python",
   "name": "python3"
  },
  "language_info": {
   "codemirror_mode": {
    "name": "ipython",
    "version": 3
   },
   "file_extension": ".py",
   "mimetype": "text/x-python",
   "name": "python",
   "nbconvert_exporter": "python",
   "pygments_lexer": "ipython3",
   "version": "3.11.7"
  },
  "toc": {
   "base_numbering": 1,
   "nav_menu": {},
   "number_sections": true,
   "sideBar": true,
   "skip_h1_title": false,
   "title_cell": "Table of Contents",
   "title_sidebar": "Contents",
   "toc_cell": false,
   "toc_position": {},
   "toc_section_display": true,
   "toc_window_display": false
  },
  "vscode": {
   "interpreter": {
    "hash": "31f2aee4e71d21fbe5cf8b01ff0e069b9275f58929596ceb00d14d90e3e16cd6"
   }
  }
 },
 "nbformat": 4,
 "nbformat_minor": 5
}
