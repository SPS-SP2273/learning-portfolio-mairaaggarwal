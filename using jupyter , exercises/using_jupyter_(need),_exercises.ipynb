{
 "cells": [
  {
   "attachments": {},
   "cell_type": "markdown",
   "id": "123456",
   "metadata": {},
   "source": [
    "<div style=\"text-align:left;font-size:2em\"><span style=\"font-weight:bolder;font-size:1.25em\">SP2273 | Learning Portfolio</span><br><br><span style=\"font-weight:bold;color:darkred\">Using Jupyter (Need), Exercises</span></div>"
   ]
  },
  {
   "attachments": {},
   "cell_type": "markdown",
   "id": "95c43f4d",
   "metadata": {},
   "source": [
    "# **Quadratic Equations**"
   ]
  },
  {
   "attachments": {},
   "cell_type": "markdown",
   "id": "81b00509",
   "metadata": {},
   "source": [
    "## **Introduction**"
   ]
  },
  {
   "cell_type": "markdown",
   "id": "3f91b212-6f6f-42a8-baf1-fdcd77945ddf",
   "metadata": {},
   "source": [
    "![](https://upload.wikimedia.org/wikipedia/commons/f/f8/Polynomialdeg2.svg)\n",
    "\n",
    "*(Image from the [Wikipedia page on Quadratic equations](https://en.wikipedia.org/wiki/Quadratic_equation))*\n",
    "\n",
    "The general form of a quadratic equation is:\n",
    "\n",
    "$$\n",
    "ax^2 + b + c = 0\n",
    "$$"
   ]
  },
  {
   "attachments": {},
   "cell_type": "markdown",
   "id": "c9c84dca",
   "metadata": {},
   "source": [
    "## **Solutions**"
   ]
  },
  {
   "cell_type": "markdown",
   "id": "e8533d4f-3c4a-4b69-85e5-4436b6157321",
   "metadata": {},
   "source": [
    "Provided $a \\ne 0$, we can use an elementary algebraic method called [completing the square](https://en.wikipedia.org/wiki/Completing_the_square) to show that a quadratic equation has the following solution:\n",
    "\n",
    "$$\n",
    "x = \\dfrac{-b \\pm \\sqrt{b^2 - 4ac}}{2a}\n",
    "$$"
   ]
  },
  {
   "attachments": {},
   "cell_type": "markdown",
   "id": "0c666a0e",
   "metadata": {},
   "source": [
    "## **Discriminant**"
   ]
  },
  {
   "cell_type": "markdown",
   "id": "86ba8819-1e14-4105-8a76-433ce8d47fbb",
   "metadata": {},
   "source": [
    "The quantity $ \\Delta= b^2 - 4ac $ is called the **discriminant** of the equation and decides the nature of its solutions. The table below shows the various possibilities.\n",
    "\n",
    "| Discriminant    |  Roots   | \n",
    "| :--: | :--: | \n",
    "|  $ \\Delta = b^2 - 4ac$ = 0 |   A single solution of $\\dfrac{-b}{(2a)}$ |   \n",
    "|    $ \\Delta = b^2 - 4ac \\gt 0 $  |   Two distinct solutions   |   \n",
    "|  $ \\Delta = b^2 - 4ac \\lt 0 $  |    No real solutions; both are complex.  |  "
   ]
  },
  {
   "cell_type": "markdown",
   "id": "aecec00e-20ee-4491-9d8d-bf322debb270",
   "metadata": {
    "jp-MarkdownHeadingCollapsed": true
   },
   "source": [
    "# **Exercise 2**\n",
    "Use a Markdown cell to answer the following:\n",
    "\n",
    "1. What is a Git repository?\n",
    "\n",
    "A Git repository is central storage location which allows users to track and manage changes in directories and files. It allows multiple users to collaborate on projects and different versions of codebase simultaneously.  \n",
    "\n",
    "2. Git keeps tracks of **changes** in the files in our repository.\n",
    "\n",
    "3. What is a commit?\n",
    "\n",
    "A commit on Github records the changes made to a file in the repository at a given point of time. It also includes a short description of the changes, if required. Commits assist in keeping track of the progress of the repository. \n",
    "\n",
    "5. What is a push?\n",
    "\n",
    "A git push is a command that send commits or changes in the local repository to the main server or origin. These changes can then be accessed through the local device as well as the cloud by all members of the GitHubb repository. \n",
    "\n",
    "6. What is a pull?\n",
    "\n",
    "A git pull is a command used to save the changes in the cloud to the local device. Considering the collaborative nature of GitHub platform, pull command is useful in saving and resolving conflicts.\n",
    "\n",
    "7. What is the difference between GitHub and GitHub Desktop?\n",
    "\n",
    "    - GitHub is a cloud-based platform for hosting Git repositories. GitHub desktop is a graphical user interface (GUI) application.\n",
    "    - GitHub allows collaboration and communication amongst team members, sharing of code and management of any issues. GitHub Desktop allows users to work on Git repositories through their local devices and gives a visual representation of the repository.\n",
    "    - While regular features such as basic version control, including issue tracking, pull requests and code review are accessible through GitHub, GitHub Desktop allows access to commands such as pull, push and repository creation with a point-and-click interface."
   ]
  }
 ],
 "metadata": {
  "kernelspec": {
   "display_name": "Python 3 (ipykernel)",
   "language": "python",
   "name": "python3"
  },
  "language_info": {
   "codemirror_mode": {
    "name": "ipython",
    "version": 3
   },
   "file_extension": ".py",
   "mimetype": "text/x-python",
   "name": "python",
   "nbconvert_exporter": "python",
   "pygments_lexer": "ipython3",
   "version": "3.11.7"
  },
  "toc": {
   "base_numbering": 1,
   "nav_menu": {},
   "number_sections": true,
   "sideBar": true,
   "skip_h1_title": false,
   "title_cell": "Table of Contents",
   "title_sidebar": "Contents",
   "toc_cell": false,
   "toc_position": {},
   "toc_section_display": true,
   "toc_window_display": false
  },
  "vscode": {
   "interpreter": {
    "hash": "31f2aee4e71d21fbe5cf8b01ff0e069b9275f58929596ceb00d14d90e3e16cd6"
   }
  }
 },
 "nbformat": 4,
 "nbformat_minor": 5
}
