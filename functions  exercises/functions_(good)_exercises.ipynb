{
 "cells": [
  {
   "attachments": {},
   "cell_type": "markdown",
   "id": "123456",
   "metadata": {},
   "source": [
    "<div style=\"text-align:left;font-size:2em\"><span style=\"font-weight:bolder;font-size:1.25em\">SP2273 | Learning Portfolio</span><br><br><span style=\"font-weight:bold;color:darkred\">Functions (Good) Exercises</span></div>"
   ]
  },
  {
   "cell_type": "markdown",
   "id": "8c781818-6407-498e-873b-e2d9e7a939c8",
   "metadata": {},
   "source": [
    "# Exercise 1"
   ]
  },
  {
   "cell_type": "code",
   "execution_count": 12,
   "id": "7795602d-baad-4eea-a634-cd163fe545e9",
   "metadata": {},
   "outputs": [],
   "source": [
    "def convert_celsius(temperature_celsius, target_scale='Fahrenheit'):\n",
    "    if target_scale == 'Fahrenheit':\n",
    "        return (temperature_celsius * 9/5) + 32\n",
    "    elif target_scale == 'Kelvin':\n",
    "        return temperature_celsius + 273.15"
   ]
  },
  {
   "cell_type": "code",
   "execution_count": 13,
   "id": "9f36c40b-3b6f-4d4e-965f-3be99d9a0078",
   "metadata": {},
   "outputs": [
    {
     "data": {
      "text/plain": [
       "46.4"
      ]
     },
     "execution_count": 13,
     "metadata": {},
     "output_type": "execute_result"
    }
   ],
   "source": [
    "convert_celsius(8)"
   ]
  },
  {
   "cell_type": "code",
   "execution_count": 14,
   "id": "6f7f1dec-bdfb-4876-a317-d1ff353c30e9",
   "metadata": {},
   "outputs": [
    {
     "data": {
      "text/plain": [
       "46.4"
      ]
     },
     "execution_count": 14,
     "metadata": {},
     "output_type": "execute_result"
    }
   ],
   "source": [
    "convert_celsius(8, 'Fahrenheit')"
   ]
  },
  {
   "cell_type": "code",
   "execution_count": 15,
   "id": "9e84b389-210f-4c5f-9b94-c07454518c8b",
   "metadata": {},
   "outputs": [
    {
     "data": {
      "text/plain": [
       "281.15"
      ]
     },
     "execution_count": 15,
     "metadata": {},
     "output_type": "execute_result"
    }
   ],
   "source": [
    "convert_celsius(8, 'Kelvin')"
   ]
  },
  {
   "cell_type": "markdown",
   "id": "325830fe-e3cf-492d-ab3b-87d814f4de72",
   "metadata": {},
   "source": [
    "# Exercise 2"
   ]
  },
  {
   "cell_type": "code",
   "execution_count": 17,
   "id": "2226a194-f8e1-41f7-8d76-5d4fbbc51d73",
   "metadata": {},
   "outputs": [],
   "source": [
    "def convert_fahrenheit(temperature_fahrenheit, target_scale='Celsius'):\n",
    "    if target_scale == 'Celsius':\n",
    "        return (temperature_fahrenheit - 32) * 5/9\n",
    "    elif target_scale == 'Kelvin':\n",
    "        return (temperature_fahrenheit - 32) * 5/9 + 273.15"
   ]
  },
  {
   "cell_type": "code",
   "execution_count": 22,
   "id": "ad92f7ba-18cc-45bf-89ad-3420f1197b63",
   "metadata": {},
   "outputs": [
    {
     "data": {
      "text/plain": [
       "8.0"
      ]
     },
     "execution_count": 22,
     "metadata": {},
     "output_type": "execute_result"
    }
   ],
   "source": [
    "convert_fahrenheit(46.4)"
   ]
  },
  {
   "cell_type": "code",
   "execution_count": 23,
   "id": "214011cc-8c41-4cf9-aa52-273a4969973f",
   "metadata": {},
   "outputs": [
    {
     "data": {
      "text/plain": [
       "8.0"
      ]
     },
     "execution_count": 23,
     "metadata": {},
     "output_type": "execute_result"
    }
   ],
   "source": [
    "convert_fahrenheit(46.4, 'Celsius')"
   ]
  },
  {
   "cell_type": "code",
   "execution_count": 25,
   "id": "a18582ae-6e07-45fa-b668-52d2cc78254d",
   "metadata": {},
   "outputs": [
    {
     "data": {
      "text/plain": [
       "281.15"
      ]
     },
     "execution_count": 25,
     "metadata": {},
     "output_type": "execute_result"
    }
   ],
   "source": [
    "convert_fahrenheit(46.4, 'Kelvin')"
   ]
  },
  {
   "cell_type": "markdown",
   "id": "b9402788-4bef-44f2-87e0-dcd998a77881",
   "metadata": {},
   "source": [
    "# Exercise 3"
   ]
  },
  {
   "cell_type": "code",
   "execution_count": 37,
   "id": "6e952eef-18ca-400c-be6e-35c7385b4777",
   "metadata": {},
   "outputs": [],
   "source": [
    "def convert_temperature(temperature, source_scale, target_scale):\n",
    "    if source_scale == target_scale:\n",
    "        return temperature\n",
    "    if source_scale == 'Celsius':\n",
    "        return convert_celsius(temperature, target_scale)\n",
    "    elif source_scale == 'Fahrenheit':\n",
    "        return convert_fahrenheit(temperature, target_scale)\n",
    "    elif source_scale == 'Kelvin':\n",
    "        if target_scale == 'Celsius':\n",
    "            return temperature - 273.15\n",
    "        elif target_scale == 'Fahrenheit':\n",
    "            return (temperature - 273.15) * 9/5 + 32"
   ]
  },
  {
   "cell_type": "code",
   "execution_count": 31,
   "id": "ec7730c1-fdbc-408c-b65f-d9ac5e4a489e",
   "metadata": {},
   "outputs": [
    {
     "data": {
      "text/plain": [
       "46.4"
      ]
     },
     "execution_count": 31,
     "metadata": {},
     "output_type": "execute_result"
    }
   ],
   "source": [
    "convert_temperature(8, 'Celsius','Fahrenheit')"
   ]
  },
  {
   "cell_type": "code",
   "execution_count": 32,
   "id": "c44690f7-9d23-4f68-a304-c8520d58ce68",
   "metadata": {},
   "outputs": [
    {
     "data": {
      "text/plain": [
       "8.0"
      ]
     },
     "execution_count": 32,
     "metadata": {},
     "output_type": "execute_result"
    }
   ],
   "source": [
    "convert_temperature(46.4,'Fahrenheit', 'Celsius')"
   ]
  },
  {
   "cell_type": "code",
   "execution_count": 33,
   "id": "8192ecda-da35-4f2a-baeb-1ae6023d670f",
   "metadata": {},
   "outputs": [
    {
     "data": {
      "text/plain": [
       "281.15"
      ]
     },
     "execution_count": 33,
     "metadata": {},
     "output_type": "execute_result"
    }
   ],
   "source": [
    "convert_temperature(46.4,'Fahrenheit', 'Kelvin')"
   ]
  },
  {
   "cell_type": "code",
   "execution_count": 34,
   "id": "8e7807fa-99a8-495c-acf5-fd88c9d0e546",
   "metadata": {},
   "outputs": [
    {
     "data": {
      "text/plain": [
       "46.4"
      ]
     },
     "execution_count": 34,
     "metadata": {},
     "output_type": "execute_result"
    }
   ],
   "source": [
    "convert_temperature(281.15,'Kelvin','Fahrenheit')"
   ]
  },
  {
   "cell_type": "code",
   "execution_count": 36,
   "id": "66243330-b6f7-4719-b13e-f622da7caf3c",
   "metadata": {},
   "outputs": [
    {
     "data": {
      "text/plain": [
       "281.15"
      ]
     },
     "execution_count": 36,
     "metadata": {},
     "output_type": "execute_result"
    }
   ],
   "source": [
    "convert_temperature(281.15,'Kelvin','Kelvin')"
   ]
  }
 ],
 "metadata": {
  "kernelspec": {
   "display_name": "Python 3 (ipykernel)",
   "language": "python",
   "name": "python3"
  },
  "language_info": {
   "codemirror_mode": {
    "name": "ipython",
    "version": 3
   },
   "file_extension": ".py",
   "mimetype": "text/x-python",
   "name": "python",
   "nbconvert_exporter": "python",
   "pygments_lexer": "ipython3",
   "version": "3.11.7"
  },
  "toc": {
   "base_numbering": 1,
   "nav_menu": {},
   "number_sections": true,
   "sideBar": true,
   "skip_h1_title": false,
   "title_cell": "Table of Contents",
   "title_sidebar": "Contents",
   "toc_cell": false,
   "toc_position": {},
   "toc_section_display": true,
   "toc_window_display": false
  },
  "vscode": {
   "interpreter": {
    "hash": "31f2aee4e71d21fbe5cf8b01ff0e069b9275f58929596ceb00d14d90e3e16cd6"
   }
  }
 },
 "nbformat": 4,
 "nbformat_minor": 5
}
