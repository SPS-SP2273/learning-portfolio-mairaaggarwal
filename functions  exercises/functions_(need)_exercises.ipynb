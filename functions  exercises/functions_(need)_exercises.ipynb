{
 "cells": [
  {
   "attachments": {},
   "cell_type": "markdown",
   "id": "123456",
   "metadata": {},
   "source": [
    "<div style=\"text-align:left;font-size:2em\"><span style=\"font-weight:bolder;font-size:1.25em\">SP2273 | Learning Portfolio</span><br><br><span style=\"font-weight:bold;color:darkred\">Functions (Need) Exercises</span></div>"
   ]
  },
  {
   "cell_type": "markdown",
   "id": "2d35f458-54ab-433a-adef-9b4a470e6154",
   "metadata": {},
   "source": [
    "# Exercise 1"
   ]
  },
  {
   "cell_type": "code",
   "execution_count": 21,
   "id": "0f0e2214-4c71-4108-941e-cd76579aee7a",
   "metadata": {},
   "outputs": [],
   "source": [
    "def greeting(name):\n",
    "    if name == 'Batman':\n",
    "        return 'Hello Batman! So, nice to meet you!'\n",
    "    return f'Hello {name}!'"
   ]
  },
  {
   "cell_type": "code",
   "execution_count": 19,
   "id": "4442b427-8335-4905-b312-3aed1a520110",
   "metadata": {},
   "outputs": [
    {
     "data": {
      "text/plain": [
       "'Hello Batman! So, nice to meet you!'"
      ]
     },
     "execution_count": 19,
     "metadata": {},
     "output_type": "execute_result"
    }
   ],
   "source": [
    "greeting('Batman')"
   ]
  },
  {
   "cell_type": "code",
   "execution_count": 20,
   "id": "634fa805-d176-4412-b251-af385a76d46b",
   "metadata": {},
   "outputs": [
    {
     "data": {
      "text/plain": [
       "'Hello Robin!'"
      ]
     },
     "execution_count": 20,
     "metadata": {},
     "output_type": "execute_result"
    }
   ],
   "source": [
    "greeting('Robin')"
   ]
  },
  {
   "cell_type": "code",
   "execution_count": 22,
   "id": "92b56774-233b-4755-ba04-05f7f5a2adbd",
   "metadata": {},
   "outputs": [],
   "source": [
    "def greeting(name):\n",
    "    if name == 'Batman':\n",
    "        return 'Hello Batman! So, nice to meet you!'"
   ]
  },
  {
   "cell_type": "code",
   "execution_count": 23,
   "id": "2335e6a0-dd6e-4518-97f7-63fd0caba8ea",
   "metadata": {},
   "outputs": [
    {
     "data": {
      "text/plain": [
       "'Hello Batman! So, nice to meet you!'"
      ]
     },
     "execution_count": 23,
     "metadata": {},
     "output_type": "execute_result"
    }
   ],
   "source": [
    "greeting('Batman')"
   ]
  },
  {
   "cell_type": "code",
   "execution_count": 25,
   "id": "a3f6a49e-8e7b-49f6-a6a5-507778825cb2",
   "metadata": {},
   "outputs": [],
   "source": [
    "greeting('Robin')"
   ]
  },
  {
   "cell_type": "markdown",
   "id": "99f76b77-dbcc-4d46-b7e9-259de465ee46",
   "metadata": {},
   "source": [
    "The given function works as expected despite not having an else statement. This is because even if the conditional if and return statements do not hold true, the second unconditional statement, which lies outside the if block, will hold true and generate an output. \n",
    "\n",
    "Case 1: When name == 'Batman', the if statement will hold true and the return statement within the if block will print 'Hello Batman! So, nice to meet you!'.\n",
    "\n",
    "Case 2: When name is not Batman and the if condition holds false, the return statement within the if block will be skipped. Python then proceeds to the next unconditional return statement which lies outside the if blocm and generates the statement 'Hello {name}!' for the given name.\n",
    "\n",
    "On running the code without the unconditional return statement, Case 1 still works. However, case 2 does not generate any output. \n",
    "\n",
    "Hence, the absence of an else statement is acceptable because there's an unconditional return statement following the if block. The function will always return a value regardless of whether the if condition is met or not."
   ]
  },
  {
   "cell_type": "markdown",
   "id": "3d7ca6e1-a053-485a-9521-f8b06e63df57",
   "metadata": {},
   "source": [
    "# Exercise 2"
   ]
  },
  {
   "cell_type": "code",
   "execution_count": 8,
   "id": "2cd5a2d4-56dc-4a17-b4e1-44436190b69e",
   "metadata": {},
   "outputs": [
    {
     "name": "stdin",
     "output_type": "stream",
     "text": [
      "Enter your weight in kilograms:  45\n",
      "Enter your height in meters:  1.6002\n"
     ]
    },
    {
     "name": "stdout",
     "output_type": "stream",
     "text": [
      "The BMI category is: Underweight\n"
     ]
    }
   ],
   "source": [
    "def calculate_bmi():\n",
    "    \n",
    "    weight = float(input(\"Enter your weight in kilograms: \"))\n",
    "    height = float(input(\"Enter your height in meters: \"))\n",
    "    \n",
    "    bmi = weight / (height ** 2)\n",
    "    \n",
    "    if bmi < 18.5:\n",
    "        return \"Underweight\"\n",
    "    elif 18.5 <= bmi <= 24.9:\n",
    "        return \"Normal weight\"\n",
    "    elif 25 <= bmi <= 29.9:\n",
    "        return \"Overweight\"\n",
    "    else:\n",
    "        return \"Obesity\"\n",
    "\n",
    "print(f\"The BMI category is: {calculate_bmi()}\")"
   ]
  }
 ],
 "metadata": {
  "kernelspec": {
   "display_name": "Python 3 (ipykernel)",
   "language": "python",
   "name": "python3"
  },
  "language_info": {
   "codemirror_mode": {
    "name": "ipython",
    "version": 3
   },
   "file_extension": ".py",
   "mimetype": "text/x-python",
   "name": "python",
   "nbconvert_exporter": "python",
   "pygments_lexer": "ipython3",
   "version": "3.11.7"
  },
  "toc": {
   "base_numbering": 1,
   "nav_menu": {},
   "number_sections": true,
   "sideBar": true,
   "skip_h1_title": false,
   "title_cell": "Table of Contents",
   "title_sidebar": "Contents",
   "toc_cell": false,
   "toc_position": {},
   "toc_section_display": true,
   "toc_window_display": false
  },
  "vscode": {
   "interpreter": {
    "hash": "31f2aee4e71d21fbe5cf8b01ff0e069b9275f58929596ceb00d14d90e3e16cd6"
   }
  }
 },
 "nbformat": 4,
 "nbformat_minor": 5
}
