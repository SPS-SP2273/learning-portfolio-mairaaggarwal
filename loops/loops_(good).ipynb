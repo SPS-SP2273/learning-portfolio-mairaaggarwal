{
 "cells": [
  {
   "attachments": {},
   "cell_type": "markdown",
   "id": "123456",
   "metadata": {},
   "source": [
    "<div style=\"text-align:left;font-size:2em\"><span style=\"font-weight:bolder;font-size:1.25em\">SP2273 | Learning Portfolio</span><br><br><span style=\"font-weight:bold;color:darkred\">Loops (Good)</span></div>"
   ]
  },
  {
   "attachments": {},
   "cell_type": "markdown",
   "id": "e50baff3",
   "metadata": {},
   "source": [
    "# What to expect in this chapter"
   ]
  },
  {
   "attachments": {},
   "cell_type": "markdown",
   "id": "df5d92a2",
   "metadata": {},
   "source": [
    "## Interrupting the flow"
   ]
  },
  {
   "cell_type": "markdown",
   "id": "c33bdd06-d9f2-483d-9638-b86e442428ab",
   "metadata": {},
   "source": [
    "### Example 1"
   ]
  },
  {
   "cell_type": "code",
   "execution_count": 1,
   "id": "a8c1c0f6-06b6-45b4-91bd-b15b81981f2c",
   "metadata": {},
   "outputs": [
    {
     "name": "stdout",
     "output_type": "stream",
     "text": [
      "0 1\n",
      "1 10\n",
      "2 100\n",
      "3 1000\n"
     ]
    }
   ],
   "source": [
    "for power in range(5):\n",
    "    number = 10**power\n",
    "    if number > 5000:\n",
    "        break\n",
    "    print(power, number)"
   ]
  },
  {
   "cell_type": "code",
   "execution_count": 16,
   "id": "42d05b0b-408b-4d51-aba3-4f5c18fee1d7",
   "metadata": {},
   "outputs": [
    {
     "name": "stdout",
     "output_type": "stream",
     "text": [
      "2 raised to the power of 0 is 1.\n",
      "2 raised to the power of 1 is 2.\n",
      "2 raised to the power of 2 is 4.\n",
      "2 raised to the power of 3 is 8.\n",
      "2 raised to the power of 4 is 16.\n",
      "2 raised to the power of 5 is 32.\n",
      "2 raised to the power of 6 is 64.\n",
      "2 raised to the power of 7 is 128.\n",
      "2 raised to the power of 8 is 256.\n",
      "2 raised to the power of 9 is 512.\n"
     ]
    }
   ],
   "source": [
    "for power in range(50):\n",
    "    number = 2**power\n",
    "    if number > 1000:\n",
    "        break\n",
    "    print(f'2 raised to the power of {power} is {number}.')"
   ]
  },
  {
   "cell_type": "code",
   "execution_count": 1,
   "id": "691385b0-865f-419f-986d-53f40e020b9e",
   "metadata": {},
   "outputs": [
    {
     "name": "stdout",
     "output_type": "stream",
     "text": [
      "2 raised to the power of 1 is 2.\n",
      "2 raised to the power of 3 is 8.\n",
      "2 raised to the power of 5 is 32.\n",
      "2 raised to the power of 7 is 128.\n",
      "2 raised to the power of 9 is 512.\n"
     ]
    }
   ],
   "source": [
    "for power in range(50):\n",
    "    if power%2 == 0:\n",
    "        continue\n",
    "    number = 2**power\n",
    "    if number > 1000:\n",
    "        break\n",
    "    print(f'2 raised to the power of {power} is {number}.')"
   ]
  },
  {
   "cell_type": "code",
   "execution_count": 2,
   "id": "5fe63fa2-0aa5-45c3-8fa1-8d6cedf74d7b",
   "metadata": {},
   "outputs": [
    {
     "name": "stdout",
     "output_type": "stream",
     "text": [
      "0 1\n",
      "1 10\n",
      "2 100\n",
      "4 10000\n"
     ]
    }
   ],
   "source": [
    "for power in range(5):\n",
    "    if power == 3:\n",
    "        continue        # Don't proceed further\n",
    "                        # IN THE CURRENT LOOP\n",
    "                        # if i == 3\n",
    "    number = 10**power\n",
    "    print(power, number)"
   ]
  },
  {
   "cell_type": "code",
   "execution_count": 3,
   "id": "dfed169a-1338-4bb1-85f3-f1eb3ed92c5c",
   "metadata": {},
   "outputs": [
    {
     "name": "stdout",
     "output_type": "stream",
     "text": [
      "1\n",
      "3\n",
      "5\n",
      "7\n",
      "9\n"
     ]
    }
   ],
   "source": [
    "for number in range(10):\n",
    "    # Don't proceed if the remainder is zero\n",
    "    # I.e. if the number is even\n",
    "    if number % 2 == 0:\n",
    "        continue\n",
    "    print(number)"
   ]
  },
  {
   "cell_type": "code",
   "execution_count": 2,
   "id": "9bb134d5-4bdc-43e8-9736-676d8d46bd64",
   "metadata": {},
   "outputs": [
    {
     "name": "stdout",
     "output_type": "stream",
     "text": [
      "0\n",
      "1\n",
      "2\n",
      "3\n",
      "4\n",
      "5\n",
      "6\n",
      "7\n",
      "8\n",
      "9\n"
     ]
    }
   ],
   "source": [
    "number=0\n",
    "\n",
    "while number < 10:\n",
    "    print(number)\n",
    "    number += 1"
   ]
  },
  {
   "cell_type": "code",
   "execution_count": 10,
   "id": "e875de94-72fb-43ae-85b1-38ca248d430a",
   "metadata": {},
   "outputs": [
    {
     "name": "stdout",
     "output_type": "stream",
     "text": [
      "1 2\n",
      "3 8\n",
      "5 32\n",
      "7 128\n",
      "9 512\n",
      "11 2048\n"
     ]
    }
   ],
   "source": [
    "power=0\n",
    "\n",
    "while True:\n",
    "    power += 1\n",
    "    number = 2**power\n",
    "    if power%2 == 0:\n",
    "        continue\n",
    "    if number > 2500:\n",
    "        break\n",
    "    print(power, number)"
   ]
  },
  {
   "cell_type": "code",
   "execution_count": 4,
   "id": "bc0340e0-eae9-4218-a6d6-71d7b0b26ec8",
   "metadata": {},
   "outputs": [
    {
     "name": "stdout",
     "output_type": "stream",
     "text": [
      "0\n",
      "1\n",
      "2\n",
      "3\n",
      "4\n"
     ]
    }
   ],
   "source": [
    "number=0\n",
    "\n",
    "while True:\n",
    "    print(number)\n",
    "    number += 1\n",
    "    if number > 4: break"
   ]
  },
  {
   "attachments": {},
   "cell_type": "markdown",
   "id": "56b5991c",
   "metadata": {},
   "source": [
    "# List comprehension!"
   ]
  },
  {
   "attachments": {},
   "cell_type": "markdown",
   "id": "ad9b39a1",
   "metadata": {},
   "source": [
    "## Basic syntax"
   ]
  },
  {
   "cell_type": "code",
   "execution_count": 12,
   "id": "bc27f1a4-8980-4377-bb42-c0e7ba2d9455",
   "metadata": {},
   "outputs": [
    {
     "name": "stdout",
     "output_type": "stream",
     "text": [
      "0\n",
      "1\n",
      "2\n",
      "3\n",
      "4\n"
     ]
    }
   ],
   "source": [
    "for number in range(5):\n",
    "    print(number)"
   ]
  },
  {
   "cell_type": "code",
   "execution_count": 5,
   "id": "0798af1b-3910-447a-82b9-158d057d3cfc",
   "metadata": {},
   "outputs": [
    {
     "data": {
      "text/plain": [
       "[0, 1, 2, 3, 4]"
      ]
     },
     "execution_count": 5,
     "metadata": {},
     "output_type": "execute_result"
    }
   ],
   "source": [
    "[number for number in range(5)]"
   ]
  },
  {
   "cell_type": "code",
   "execution_count": 6,
   "id": "af1ad0d9-6765-4416-939b-f731265a9d4b",
   "metadata": {},
   "outputs": [
    {
     "data": {
      "text/plain": [
       "[0, 1, 4, 9, 16]"
      ]
     },
     "execution_count": 6,
     "metadata": {},
     "output_type": "execute_result"
    }
   ],
   "source": [
    "[number**2 for number in range(5)]"
   ]
  },
  {
   "cell_type": "code",
   "execution_count": 13,
   "id": "04fa3ec8-22f1-465a-82b8-3171c7e0da79",
   "metadata": {},
   "outputs": [
    {
     "data": {
      "text/plain": [
       "[1, 2, 4, 8, 16]"
      ]
     },
     "execution_count": 13,
     "metadata": {},
     "output_type": "execute_result"
    }
   ],
   "source": [
    "[2**number for number in range(5)]"
   ]
  },
  {
   "attachments": {},
   "cell_type": "markdown",
   "id": "ee1d1242",
   "metadata": {},
   "source": [
    "## List comprehension with conditions"
   ]
  },
  {
   "cell_type": "code",
   "execution_count": 14,
   "id": "a7a164a4-96a0-47c5-84a0-1c641b1424ba",
   "metadata": {},
   "outputs": [
    {
     "data": {
      "text/plain": [
       "[1, 4, 16, 64, 256]"
      ]
     },
     "execution_count": 14,
     "metadata": {},
     "output_type": "execute_result"
    }
   ],
   "source": [
    "[2**power for power in range(10) if power%2==0]"
   ]
  },
  {
   "cell_type": "code",
   "execution_count": 16,
   "id": "9192eeb2-59ab-433f-bfc0-e1388f32ab36",
   "metadata": {},
   "outputs": [
    {
     "data": {
      "text/plain": [
       "['number 2 to the power 0 is 1',\n",
       " 'number 2 to the power 2 is 4',\n",
       " 'number 2 to the power 4 is 16',\n",
       " 'number 2 to the power 6 is 64',\n",
       " 'number 2 to the power 8 is 256']"
      ]
     },
     "execution_count": 16,
     "metadata": {},
     "output_type": "execute_result"
    }
   ],
   "source": [
    "[f'number 2 to the power {power} is {2**power}' for power in range(10) if power%2==0]"
   ]
  },
  {
   "cell_type": "code",
   "execution_count": 7,
   "id": "d02917dd-816f-40c2-ac0f-f280cda79dfc",
   "metadata": {},
   "outputs": [
    {
     "data": {
      "text/plain": [
       "[0, 2, 4, 6, 8]"
      ]
     },
     "execution_count": 7,
     "metadata": {},
     "output_type": "execute_result"
    }
   ],
   "source": [
    "[number for number in range(10) if number % 2 ==0]"
   ]
  },
  {
   "attachments": {},
   "cell_type": "markdown",
   "id": "8f1db687",
   "metadata": {},
   "source": [
    "# Other useful stuff"
   ]
  },
  {
   "cell_type": "code",
   "execution_count": 18,
   "id": "7abe6059-ec9f-423b-96f1-722779b30e53",
   "metadata": {},
   "outputs": [],
   "source": [
    "x, y, z=[1, 2, 3]"
   ]
  },
  {
   "cell_type": "code",
   "execution_count": 19,
   "id": "7a47fa58-1b34-4449-9e94-08854cba676f",
   "metadata": {},
   "outputs": [
    {
     "name": "stdout",
     "output_type": "stream",
     "text": [
      "x = 1, y = 2, z = 3\n"
     ]
    }
   ],
   "source": [
    "print(f'x = {x}, y = {y}, z = {z}')"
   ]
  },
  {
   "cell_type": "code",
   "execution_count": 20,
   "id": "e9af4995-364b-4a1b-a15a-28567941ec36",
   "metadata": {},
   "outputs": [],
   "source": [
    "x,y,z=[10,20,30]"
   ]
  },
  {
   "cell_type": "code",
   "execution_count": 21,
   "id": "7c6769b5-5847-449e-8aa8-80258dca4ffb",
   "metadata": {},
   "outputs": [
    {
     "name": "stdout",
     "output_type": "stream",
     "text": [
      "x = 10, y = 20, z = 30\n"
     ]
    }
   ],
   "source": [
    "print(f'x = {x}, y = {y}, z = {z}')"
   ]
  },
  {
   "attachments": {},
   "cell_type": "markdown",
   "id": "503de605",
   "metadata": {},
   "source": [
    "## for with unpacking"
   ]
  },
  {
   "cell_type": "code",
   "execution_count": 22,
   "id": "bcd4e2b0-b8ce-4dd3-896f-741505e08520",
   "metadata": {},
   "outputs": [
    {
     "name": "stdout",
     "output_type": "stream",
     "text": [
      "Natasha Romanoff is Marvel's Black Widow!\n",
      "Tony Stark is Marvel's Iron Man!\n",
      "Stephen Strange is Marvel's Doctor Strange!\n"
     ]
    }
   ],
   "source": [
    "py_superhero_info = [\n",
    "    ['Natasha Romanoff', 'Black Widow'],\n",
    "                     ['Tony Stark', 'Iron Man'],\n",
    "                     ['Stephen Strange', 'Doctor Strange']\n",
    "]\n",
    "\n",
    "for real_name, super_name in py_superhero_info:\n",
    "    print(f\"{real_name} is Marvel's {super_name}!\")"
   ]
  },
  {
   "attachments": {},
   "cell_type": "markdown",
   "id": "4343efa3",
   "metadata": {},
   "source": [
    "## for with zip()"
   ]
  },
  {
   "cell_type": "code",
   "execution_count": 25,
   "id": "f3c04111-b2f6-4478-b7ab-0e89dbe3ea9d",
   "metadata": {},
   "outputs": [],
   "source": [
    "super_names = [\"Black Widow\", \"Iron Man\", \"Doctor Strange\"]\n",
    "real_names = [\"Natasha Romanoff\", \"Tony Stark\", \"Stephen Strange\"]"
   ]
  },
  {
   "cell_type": "code",
   "execution_count": 26,
   "id": "224c825e-dd16-438a-86b2-9b4e567a43e7",
   "metadata": {},
   "outputs": [
    {
     "data": {
      "text/plain": [
       "[('Natasha Romanoff', 'Black Widow'),\n",
       " ('Tony Stark', 'Iron Man'),\n",
       " ('Stephen Strange', 'Doctor Strange')]"
      ]
     },
     "execution_count": 26,
     "metadata": {},
     "output_type": "execute_result"
    }
   ],
   "source": [
    "list(zip(real_names,super_names))"
   ]
  },
  {
   "cell_type": "code",
   "execution_count": 27,
   "id": "4dc26940-529e-48a8-aa07-5a9ab4a645fd",
   "metadata": {},
   "outputs": [
    {
     "name": "stdout",
     "output_type": "stream",
     "text": [
      "Natasha Romanoff is Marvel's Black Widow!\n",
      "Tony Stark is Marvel's Iron Man!\n",
      "Stephen Strange is Marvel's Doctor Strange!\n"
     ]
    }
   ],
   "source": [
    "for real_name, super_name in zip(real_names,super_names):\n",
    "    print(f\"{real_name} is Marvel's {super_name}!\")"
   ]
  },
  {
   "attachments": {},
   "cell_type": "markdown",
   "id": "054b7cc0",
   "metadata": {},
   "source": [
    "## for with dictionaries"
   ]
  },
  {
   "cell_type": "code",
   "execution_count": 31,
   "id": "d19aaad9-01c7-43a4-a0c2-fbf9aa61075a",
   "metadata": {},
   "outputs": [],
   "source": [
    "superhero_info={\"Natasha Romanoff\": \"Black Widow\",\n",
    "                \"Tony Stark\": \"Iron Man\",\n",
    "                \"Stephen Strange\": \"Doctor Strange\"}"
   ]
  },
  {
   "cell_type": "code",
   "execution_count": 33,
   "id": "d191157b-1560-4c48-8e59-73d9efb4112e",
   "metadata": {},
   "outputs": [
    {
     "data": {
      "text/plain": [
       "dict_items([('Natasha Romanoff', 'Black Widow'), ('Tony Stark', 'Iron Man'), ('Stephen Strange', 'Doctor Strange')])"
      ]
     },
     "execution_count": 33,
     "metadata": {},
     "output_type": "execute_result"
    }
   ],
   "source": [
    "superhero_info.items()"
   ]
  },
  {
   "cell_type": "code",
   "execution_count": 34,
   "id": "14c6ebae-db79-42c4-9ceb-fca2e787e2dd",
   "metadata": {},
   "outputs": [
    {
     "data": {
      "text/plain": [
       "[('Natasha Romanoff', 'Black Widow'),\n",
       " ('Tony Stark', 'Iron Man'),\n",
       " ('Stephen Strange', 'Doctor Strange')]"
      ]
     },
     "execution_count": 34,
     "metadata": {},
     "output_type": "execute_result"
    }
   ],
   "source": [
    "list(superhero_info.items())"
   ]
  },
  {
   "cell_type": "code",
   "execution_count": 32,
   "id": "87737abc-f241-49c1-9e8a-4be69c5c470f",
   "metadata": {},
   "outputs": [
    {
     "name": "stdout",
     "output_type": "stream",
     "text": [
      "Natasha Romanoff is Marvel's Black Widow!\n",
      "Tony Stark is Marvel's Iron Man!\n",
      "Stephen Strange is Marvel's Doctor Strange!\n"
     ]
    }
   ],
   "source": [
    "for key, value in superhero_info.items():\n",
    "    print(f\"{key} is Marvel's {value}!\")"
   ]
  },
  {
   "cell_type": "code",
   "execution_count": 30,
   "id": "87bdc8b5-f3ac-42df-803f-d3a4f507286b",
   "metadata": {},
   "outputs": [
    {
     "name": "stdout",
     "output_type": "stream",
     "text": [
      "Natasha Romanoff is Marvel's Black Widow!\n",
      "Tony Stark is Marvel's Iron Man!\n",
      "Stephen Strange is Marvel's Doctor Strange!\n"
     ]
    }
   ],
   "source": [
    "for key in superhero_info.keys():\n",
    "    value=superhero_info[key]\n",
    "    print(f\"{key} is Marvel's {value}!\")"
   ]
  }
 ],
 "metadata": {
  "kernelspec": {
   "display_name": "Python 3 (ipykernel)",
   "language": "python",
   "name": "python3"
  },
  "language_info": {
   "codemirror_mode": {
    "name": "ipython",
    "version": 3
   },
   "file_extension": ".py",
   "mimetype": "text/x-python",
   "name": "python",
   "nbconvert_exporter": "python",
   "pygments_lexer": "ipython3",
   "version": "3.11.7"
  },
  "toc": {
   "base_numbering": 1,
   "nav_menu": {},
   "number_sections": true,
   "sideBar": true,
   "skip_h1_title": false,
   "title_cell": "Table of Contents",
   "title_sidebar": "Contents",
   "toc_cell": false,
   "toc_position": {},
   "toc_section_display": true,
   "toc_window_display": false
  },
  "vscode": {
   "interpreter": {
    "hash": "31f2aee4e71d21fbe5cf8b01ff0e069b9275f58929596ceb00d14d90e3e16cd6"
   }
  }
 },
 "nbformat": 4,
 "nbformat_minor": 5
}
