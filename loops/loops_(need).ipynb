{
 "cells": [
  {
   "attachments": {},
   "cell_type": "markdown",
   "id": "123456",
   "metadata": {},
   "source": [
    "<div style=\"text-align:left;font-size:2em\"><span style=\"font-weight:bolder;font-size:1.25em\">SP2273 | Learning Portfolio</span><br><br><span style=\"font-weight:bold;color:darkred\">Loops (Need)</span></div>"
   ]
  },
  {
   "attachments": {},
   "cell_type": "markdown",
   "id": "892668ad",
   "metadata": {},
   "source": [
    "# What to expect in this chapter"
   ]
  },
  {
   "attachments": {},
   "cell_type": "markdown",
   "id": "5606a1b4",
   "metadata": {},
   "source": [
    "# The for iterator"
   ]
  },
  {
   "cell_type": "code",
   "execution_count": 1,
   "id": "0e078f8b-8dc2-48b4-bd28-13064edf7bb1",
   "metadata": {},
   "outputs": [],
   "source": [
    "real_names = [\"Natasha Romanoff\", \"Tony Stark\", \"Stephen Strange\"]"
   ]
  },
  {
   "attachments": {},
   "cell_type": "markdown",
   "id": "a7158068",
   "metadata": {},
   "source": [
    "## for with a list"
   ]
  },
  {
   "cell_type": "markdown",
   "id": "a722cef1-2f3b-4706-b964-f382f46d5e60",
   "metadata": {},
   "source": [
    "### Poor example"
   ]
  },
  {
   "cell_type": "code",
   "execution_count": 16,
   "id": "f1f62e1b-7f40-4909-b2f8-ba5d2a5911bc",
   "metadata": {},
   "outputs": [
    {
     "name": "stdout",
     "output_type": "stream",
     "text": [
      "Natasha Romanoff is a Marvel superhero!\n",
      "Tony Stark is a Marvel superhero!\n",
      "Stephen Strange is a Marvel superhero!\n"
     ]
    }
   ],
   "source": [
    "name=real_names[0]\n",
    "print(f\"{name} is a Marvel superhero!\")\n",
    "\n",
    "name=real_names[1]\n",
    "print(f\"{name} is a Marvel superhero!\")\n",
    "\n",
    "name=real_names[2]\n",
    "print(f\"{name} is a Marvel superhero!\")"
   ]
  },
  {
   "cell_type": "markdown",
   "id": "b2f62a26-a7c2-46ba-91d7-61efbb56ba58",
   "metadata": {},
   "source": [
    "### for loop"
   ]
  },
  {
   "cell_type": "code",
   "execution_count": 7,
   "id": "ed342d95-4db9-47ad-92fd-3d6a013c964a",
   "metadata": {},
   "outputs": [
    {
     "name": "stdout",
     "output_type": "stream",
     "text": [
      "..................................................\n",
      "natasha romanoff is a Marvel superhero!\n",
      "..................................................\n",
      "..................................................\n",
      "tony stark is a Marvel superhero!\n",
      "..................................................\n",
      "..................................................\n",
      "stephen strange is a Marvel superhero!\n",
      "..................................................\n"
     ]
    }
   ],
   "source": [
    "for name in real_names:\n",
    "    print('.'*50)\n",
    "    print(f\"{name.lower()} is a Marvel superhero!\")\n",
    "    print('.'*50)"
   ]
  },
  {
   "cell_type": "code",
   "execution_count": 8,
   "id": "dd8adc94-b1db-4abc-ab17-2965c56cecc5",
   "metadata": {},
   "outputs": [
    {
     "name": "stdout",
     "output_type": "stream",
     "text": [
      "Natasha Romanoff is a Marvel superhero!\n",
      "Tony Stark is a Marvel superhero!\n",
      "Stephen Strange is a Marvel superhero!\n"
     ]
    }
   ],
   "source": [
    "for x in real_names:\n",
    "    print(f\"{x} is a Marvel superhero!\")"
   ]
  },
  {
   "attachments": {},
   "cell_type": "markdown",
   "id": "67a9deca",
   "metadata": {},
   "source": [
    "## for with enumerate"
   ]
  },
  {
   "cell_type": "code",
   "execution_count": 26,
   "id": "79aaf120-b85d-45bf-9c9f-f8a3f05d9aa2",
   "metadata": {},
   "outputs": [],
   "source": [
    "super_names = [\"Black Widow\", \"Iron Man\", \"Doctor Strange\"]\n",
    "real_names = [\"Natasha Romanoff\", \"Tony Stark\", \"Stephen Strange\"]\n",
    "universe = [\"Marvel\", \"Marvel\", \"Marvel\"]"
   ]
  },
  {
   "cell_type": "markdown",
   "id": "68051d16-2cd7-4b35-b258-c0edc94422b1",
   "metadata": {},
   "source": [
    "### basic use"
   ]
  },
  {
   "cell_type": "code",
   "execution_count": 14,
   "id": "f0cab52f-d306-4577-8568-058179d0d8b2",
   "metadata": {},
   "outputs": [
    {
     "name": "stdout",
     "output_type": "stream",
     "text": [
      "0: Natasha Romanoff is a Marvel superhero!\n",
      "1: Tony Stark is a Marvel superhero!\n",
      "2: Stephen Strange is a Marvel superhero!\n"
     ]
    }
   ],
   "source": [
    "count = 0\n",
    "for real_name in real_names:\n",
    "    print(f'{count}: {real_name} is a Marvel superhero!')\n",
    "    count = count + 1"
   ]
  },
  {
   "cell_type": "code",
   "execution_count": 10,
   "id": "e91aee7e-7600-4319-9574-a75860703367",
   "metadata": {},
   "outputs": [
    {
     "name": "stdout",
     "output_type": "stream",
     "text": [
      "0: Natasha Romanoff is a Marvel superhero!\n",
      "1: Tony Stark is a Marvel superhero!\n",
      "2: Stephen Strange is a Marvel superhero!\n"
     ]
    }
   ],
   "source": [
    "for count, name in enumerate(real_names):\n",
    "    print(f'{count}: {name} is a Marvel superhero!')"
   ]
  },
  {
   "cell_type": "markdown",
   "id": "1121acde-19ab-4ee2-89ed-3a703547b5df",
   "metadata": {},
   "source": [
    "### index other lists"
   ]
  },
  {
   "cell_type": "code",
   "execution_count": 27,
   "id": "a2549944-359c-419b-b964-f9d36d799a94",
   "metadata": {},
   "outputs": [
    {
     "name": "stdout",
     "output_type": "stream",
     "text": [
      "0: Natasha Romanoff is Black Widow in the Marvel Universe!\n",
      "1: Tony Stark is Iron Man in the Marvel Universe!\n",
      "2: Stephen Strange is Doctor Strange in the Marvel Universe!\n"
     ]
    }
   ],
   "source": [
    "for index, real_name in enumerate(real_names):\n",
    "    superhero_name = super_names[index]\n",
    "    which_universe = universe[index]\n",
    "    print(f'{index}: {real_name} is {superhero_name} in the {which_universe} Universe!')"
   ]
  },
  {
   "cell_type": "code",
   "execution_count": 19,
   "id": "b344c188-f957-4552-b81a-b5b2dee378bb",
   "metadata": {},
   "outputs": [
    {
     "name": "stdout",
     "output_type": "stream",
     "text": [
      "100: Natasha Romanoff is a Marvel superhero!\n",
      "101: Tony Stark is a Marvel superhero!\n",
      "102: Stephen Strange is a Marvel superhero!\n"
     ]
    }
   ],
   "source": [
    "for count, name in enumerate(real_names, 100):\n",
    "    print(f'{count}: {name} is a Marvel superhero!')"
   ]
  },
  {
   "attachments": {},
   "cell_type": "markdown",
   "id": "9e947d08",
   "metadata": {},
   "source": [
    "## for with range"
   ]
  },
  {
   "cell_type": "code",
   "execution_count": 32,
   "id": "9f929c5d-ec63-4e15-a58b-be50e01df005",
   "metadata": {},
   "outputs": [
    {
     "data": {
      "text/plain": [
       "range(1, 5)"
      ]
     },
     "execution_count": 32,
     "metadata": {},
     "output_type": "execute_result"
    }
   ],
   "source": [
    "range(1,5)"
   ]
  },
  {
   "cell_type": "code",
   "execution_count": 33,
   "id": "c8c23e9c-1a60-4217-9f97-7d44a0b289f6",
   "metadata": {},
   "outputs": [
    {
     "data": {
      "text/plain": [
       "[1, 2, 3, 4]"
      ]
     },
     "execution_count": 33,
     "metadata": {},
     "output_type": "execute_result"
    }
   ],
   "source": [
    "list(range(1,5))"
   ]
  },
  {
   "cell_type": "code",
   "execution_count": 28,
   "id": "1fa851b9-bb12-44c8-b5c9-34e905759ddf",
   "metadata": {},
   "outputs": [
    {
     "name": "stdout",
     "output_type": "stream",
     "text": [
      "0\n",
      "1\n",
      "2\n",
      "3\n",
      "4\n"
     ]
    }
   ],
   "source": [
    "for i in range(5):\n",
    "    print(i)"
   ]
  },
  {
   "cell_type": "code",
   "execution_count": 35,
   "id": "3235854e-832c-412a-a8a6-61e23f0e06ee",
   "metadata": {},
   "outputs": [
    {
     "name": "stdout",
     "output_type": "stream",
     "text": [
      "1\n",
      "6\n",
      "11\n",
      "16\n",
      "21\n",
      "26\n",
      "31\n",
      "36\n"
     ]
    }
   ],
   "source": [
    "for i in range(1,40,5):\n",
    "    print(i)"
   ]
  },
  {
   "cell_type": "code",
   "execution_count": 39,
   "id": "e50d7550-6985-41f1-a05b-2dc4c03ed615",
   "metadata": {},
   "outputs": [
    {
     "name": "stdout",
     "output_type": "stream",
     "text": [
      "5\n",
      "3\n"
     ]
    }
   ],
   "source": [
    "for i in range(5, 1, -2):\n",
    "    print(i)"
   ]
  },
  {
   "cell_type": "code",
   "execution_count": 29,
   "id": "452fb9e1-c291-460e-9456-e19deb4a7906",
   "metadata": {},
   "outputs": [
    {
     "name": "stdout",
     "output_type": "stream",
     "text": [
      "5\n",
      "6\n",
      "7\n",
      "8\n",
      "9\n"
     ]
    }
   ],
   "source": [
    "for i in range(5, 10):\n",
    "    print(i)"
   ]
  },
  {
   "cell_type": "code",
   "execution_count": 40,
   "id": "4bd6c366-3363-4530-a2cc-772040c472bf",
   "metadata": {},
   "outputs": [
    {
     "name": "stdout",
     "output_type": "stream",
     "text": [
      "1\n",
      "4\n",
      "7\n"
     ]
    }
   ],
   "source": [
    "for i in range(1, 10, 3):\n",
    "    print(i)"
   ]
  },
  {
   "cell_type": "code",
   "execution_count": 41,
   "id": "4153067b-3ea2-4865-80dc-7e237b396b4e",
   "metadata": {},
   "outputs": [
    {
     "name": "stdout",
     "output_type": "stream",
     "text": [
      "10\n",
      "7\n",
      "4\n"
     ]
    }
   ],
   "source": [
    "for i in range(10, 1, -3):\n",
    "    print(i)"
   ]
  },
  {
   "cell_type": "code",
   "execution_count": 42,
   "id": "bc084823-ee94-4ebe-a730-9ca1288128e9",
   "metadata": {},
   "outputs": [],
   "source": [
    "super_names = [\"Black Widow\", \"Iron Man\", \"Doctor Strange\"]\n",
    "real_names = [\"Natasha Romanoff\", \"Tony Stark\", \"Stephen Strange\"]\n",
    "universe = [\"Marvel\", \"Marvel\", \"Marvel\"]"
   ]
  },
  {
   "cell_type": "code",
   "execution_count": 45,
   "id": "b6aacd1c-8e71-4c98-bec6-d6611414947c",
   "metadata": {},
   "outputs": [
    {
     "name": "stdout",
     "output_type": "stream",
     "text": [
      "0\n",
      "1\n",
      "2\n"
     ]
    }
   ],
   "source": [
    "for index in range(len(real_names)): #range(3)\n",
    "    print(index)"
   ]
  },
  {
   "cell_type": "code",
   "execution_count": 47,
   "id": "96910ee9-174d-48ea-9730-5e4bf5ded8a0",
   "metadata": {},
   "outputs": [
    {
     "name": "stdout",
     "output_type": "stream",
     "text": [
      "0: Natasha Romanoff is Doctor Strange in the Marvel Universe!\n",
      "1: Tony Stark is Doctor Strange in the Marvel Universe!\n",
      "2: Stephen Strange is Doctor Strange in the Marvel Universe!\n"
     ]
    }
   ],
   "source": [
    "for index in range(len(real_names)):\n",
    "    real_name = real_names[index]\n",
    "    super_name = super_names[index]\n",
    "    which_universe = universe[index]\n",
    "    print(f'{index}: {real_name} is {superhero_name} in the {which_universe} Universe!')"
   ]
  },
  {
   "cell_type": "code",
   "execution_count": 53,
   "id": "209658db-37db-4388-9682-ac9e75d29345",
   "metadata": {},
   "outputs": [
    {
     "name": "stdout",
     "output_type": "stream",
     "text": [
      "hello!\n",
      "hello!\n",
      "hello!\n",
      "hello!\n",
      "hello!\n",
      "hello!\n",
      "hello!\n",
      "hello!\n",
      "hello!\n",
      "hello!\n"
     ]
    }
   ],
   "source": [
    "for _ in range(10):\n",
    "    print('hello!')"
   ]
  },
  {
   "attachments": {},
   "cell_type": "markdown",
   "id": "7aba9f99",
   "metadata": {},
   "source": [
    "# while"
   ]
  },
  {
   "cell_type": "code",
   "execution_count": 48,
   "id": "237e4871-f1a9-478d-a547-6641a38dc890",
   "metadata": {},
   "outputs": [
    {
     "name": "stdout",
     "output_type": "stream",
     "text": [
      "0\n",
      "1\n",
      "2\n",
      "3\n",
      "4\n"
     ]
    }
   ],
   "source": [
    "number = 0\n",
    "\n",
    "while number < 5:\n",
    "    print(number)\n",
    "    number += 1"
   ]
  }
 ],
 "metadata": {
  "kernelspec": {
   "display_name": "Python 3 (ipykernel)",
   "language": "python",
   "name": "python3"
  },
  "language_info": {
   "codemirror_mode": {
    "name": "ipython",
    "version": 3
   },
   "file_extension": ".py",
   "mimetype": "text/x-python",
   "name": "python",
   "nbconvert_exporter": "python",
   "pygments_lexer": "ipython3",
   "version": "3.11.7"
  },
  "toc": {
   "base_numbering": 1,
   "nav_menu": {},
   "number_sections": true,
   "sideBar": true,
   "skip_h1_title": false,
   "title_cell": "Table of Contents",
   "title_sidebar": "Contents",
   "toc_cell": false,
   "toc_position": {},
   "toc_section_display": true,
   "toc_window_display": false
  },
  "vscode": {
   "interpreter": {
    "hash": "31f2aee4e71d21fbe5cf8b01ff0e069b9275f58929596ceb00d14d90e3e16cd6"
   }
  }
 },
 "nbformat": 4,
 "nbformat_minor": 5
}
