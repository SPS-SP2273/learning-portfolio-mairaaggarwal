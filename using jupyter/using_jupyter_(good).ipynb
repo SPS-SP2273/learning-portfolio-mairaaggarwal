{
 "cells": [
  {
   "attachments": {},
   "cell_type": "markdown",
   "id": "123456",
   "metadata": {},
   "source": [
    "<div style=\"text-align:left;font-size:2em\"><span style=\"font-weight:bolder;font-size:1.25em\">SP2273 | Learning Portfolio</span><br><br><span style=\"font-weight:bold;color:darkred\">Using Jupyter (Good)</span></div>"
   ]
  },
  {
   "cell_type": "code",
   "execution_count": 4,
   "id": "fca04700-b69a-4392-bf54-b139900f1710",
   "metadata": {},
   "outputs": [
    {
     "name": "stdout",
     "output_type": "stream",
     "text": [
      "Retrieving notices: ...working... done\n",
      "Channels:\n",
      " - conda-forge\n",
      " - defaults\n",
      "Platform: osx-arm64\n",
      "Collecting package metadata (repodata.json): done\n",
      "Solving environment: done\n",
      "\n",
      "# All requested packages already installed.\n",
      "\n",
      "\n",
      "Note: you may need to restart the kernel to use updated packages.\n"
     ]
    }
   ],
   "source": [
    "conda install -c conda-forge notebook=7.0.6 -y\n"
   ]
  },
  {
   "attachments": {},
   "cell_type": "markdown",
   "id": "6e46dae9",
   "metadata": {},
   "source": [
    "# What to expect in this chapter"
   ]
  },
  {
   "attachments": {},
   "cell_type": "markdown",
   "id": "d70a9f2d",
   "metadata": {},
   "source": [
    "# Some tips and tricks"
   ]
  },
  {
   "attachments": {},
   "cell_type": "markdown",
   "id": "dc394f63",
   "metadata": {},
   "source": [
    "## Keyboard Shortcuts"
   ]
  },
  {
   "cell_type": "markdown",
   "id": "5d8aa47d-7a33-494b-b99c-1b0b37266ea3",
   "metadata": {},
   "source": [
    "Run Cell Testing using CMD + ENTER "
   ]
  },
  {
   "cell_type": "code",
   "execution_count": 3,
   "id": "58b35d23-62ed-4d38-9808-ddadd391dfed",
   "metadata": {},
   "outputs": [
    {
     "name": "stdout",
     "output_type": "stream",
     "text": [
      "I am BatmanI am BatmanI am BatmanI am BatmanI am BatmanI am BatmanI am BatmanI am BatmanI am BatmanI am Batman\n"
     ]
    }
   ],
   "source": [
    "print('I am Batman'*10)"
   ]
  },
  {
   "cell_type": "markdown",
   "id": "9bca4655-f7ba-4a69-98e8-08b31e50907b",
   "metadata": {},
   "source": [
    "Run Cell + Move to Next Cell Testing using SHIFT + ENTER"
   ]
  },
  {
   "cell_type": "code",
   "execution_count": 4,
   "id": "1e581794-af5d-4012-86aa-7e2e1d1a2cca",
   "metadata": {},
   "outputs": [
    {
     "name": "stdout",
     "output_type": "stream",
     "text": [
      "I am BatmanI am BatmanI am BatmanI am BatmanI am BatmanI am BatmanI am BatmanI am BatmanI am BatmanI am Batman\n"
     ]
    }
   ],
   "source": [
    "print('I am Batman'*10)"
   ]
  },
  {
   "cell_type": "markdown",
   "id": "e682cee7-6699-4618-94a6-30cc7c13c4fe",
   "metadata": {},
   "source": [
    "Converted Cell to Code Cell using ESC + Y and back to Markdown using ESC + M"
   ]
  },
  {
   "cell_type": "markdown",
   "id": "0d127dee-bbd4-4dc2-abb7-6b7964ced471",
   "metadata": {},
   "source": [
    "Created new cells using ESC + A and ESC + B"
   ]
  },
  {
   "attachments": {},
   "cell_type": "markdown",
   "id": "9903d61b-df77-4177-8d37-7f2a7b4c0f26",
   "metadata": {},
   "source": [
    "Created new cells using ESC + A and ESC + B (copy-pasted cell)\n",
    "\n",
    "Merged cells using SHIFT + M\n",
    "\n",
    "Deleted a cell using ESC + D + D"
   ]
  },
  {
   "attachments": {},
   "cell_type": "markdown",
   "id": "2e88d084",
   "metadata": {},
   "source": [
    "### Things to note"
   ]
  },
  {
   "attachments": {},
   "cell_type": "markdown",
   "id": "21efc091",
   "metadata": {},
   "source": [
    "## Shell commands"
   ]
  },
  {
   "cell_type": "code",
   "execution_count": 2,
   "id": "7b2b50c9-7160-414d-83cc-65ea2606fcef",
   "metadata": {},
   "outputs": [
    {
     "name": "stdout",
     "output_type": "stream",
     "text": [
      "/Users/mairaaggarwal/Documents/GitHub/Learning Portfolio/using jupyter\n"
     ]
    }
   ],
   "source": [
    "!pwd"
   ]
  },
  {
   "cell_type": "code",
   "execution_count": 6,
   "id": "9c9210ec-b84c-4c2d-94f4-fe49c4598d09",
   "metadata": {},
   "outputs": [
    {
     "name": "stdout",
     "output_type": "stream",
     "text": [
      "zsh:1: command not found: dir\n"
     ]
    }
   ],
   "source": [
    "!dir #does not work on mac, use ls"
   ]
  },
  {
   "cell_type": "code",
   "execution_count": 7,
   "id": "3cbbca1e-34b4-4abc-97b7-e42815fc9ffb",
   "metadata": {},
   "outputs": [
    {
     "name": "stdout",
     "output_type": "stream",
     "text": [
      "# packages in environment at /Users/mairaaggarwal/miniconda3:\n",
      "#\n",
      "# Name                    Version                   Build  Channel\n",
      "anyio                     4.2.0              pyhd8ed1ab_0    conda-forge\n",
      "appnope                   0.1.3              pyhd8ed1ab_0    conda-forge\n",
      "archspec                  0.2.1              pyhd3eb1b0_0  \n",
      "argon2-cffi               23.1.0             pyhd8ed1ab_0    conda-forge\n",
      "argon2-cffi-bindings      21.2.0          py311heffc1b2_4    conda-forge\n",
      "arrow                     1.3.0              pyhd8ed1ab_0    conda-forge\n",
      "asttokens                 2.4.1              pyhd8ed1ab_0    conda-forge\n",
      "async-lru                 2.0.4              pyhd8ed1ab_0    conda-forge\n",
      "attrs                     23.2.0             pyh71513ae_0    conda-forge\n",
      "babel                     2.14.0             pyhd8ed1ab_0    conda-forge\n",
      "beautifulsoup4            4.12.3             pyha770c72_0    conda-forge\n",
      "bleach                    6.1.0              pyhd8ed1ab_0    conda-forge\n",
      "boltons                   23.0.0          py311hca03da5_0  \n",
      "brotli-python             1.0.9           py311h313beb8_7  \n",
      "bzip2                     1.0.8                h620ffc9_4  \n",
      "c-ares                    1.19.1               h80987f9_0  \n",
      "ca-certificates           2023.12.12           hca03da5_0  \n",
      "cached-property           1.5.2                hd8ed1ab_1    conda-forge\n",
      "cached_property           1.5.2              pyha770c72_1    conda-forge\n",
      "certifi                   2023.11.17         pyhd8ed1ab_0    conda-forge\n",
      "cffi                      1.16.0          py311h80987f9_0  \n",
      "charset-normalizer        2.0.4              pyhd3eb1b0_0  \n",
      "comm                      0.2.1              pyhd8ed1ab_0    conda-forge\n",
      "conda                     23.11.0         py311h267d04e_1    conda-forge\n",
      "conda-content-trust       0.2.0           py311hca03da5_0  \n",
      "conda-libmamba-solver     23.12.0            pyhd3eb1b0_1  \n",
      "conda-package-handling    2.2.0           py311hca03da5_0  \n",
      "conda-package-streaming   0.9.0           py311hca03da5_0  \n",
      "cryptography              41.0.7          py311hd4332d6_0  \n",
      "debugpy                   1.6.7           py311ha397e9f_0    conda-forge\n",
      "decorator                 5.1.1              pyhd8ed1ab_0    conda-forge\n",
      "defusedxml                0.7.1              pyhd8ed1ab_0    conda-forge\n",
      "distro                    1.8.0           py311hca03da5_0  \n",
      "entrypoints               0.4                pyhd8ed1ab_0    conda-forge\n",
      "exceptiongroup            1.2.0              pyhd8ed1ab_2    conda-forge\n",
      "executing                 2.0.1              pyhd8ed1ab_0    conda-forge\n",
      "fmt                       9.1.0                h48ca7d4_0  \n",
      "fqdn                      1.5.1              pyhd8ed1ab_0    conda-forge\n",
      "icu                       73.1                 h313beb8_0  \n",
      "idna                      3.4             py311hca03da5_0  \n",
      "importlib-metadata        7.0.1              pyha770c72_0    conda-forge\n",
      "importlib_metadata        7.0.1                hd8ed1ab_0    conda-forge\n",
      "importlib_resources       6.1.1              pyhd8ed1ab_0    conda-forge\n",
      "ipykernel                 6.29.0             pyh3cd1d5f_0    conda-forge\n",
      "ipython                   8.20.0             pyh707e725_0    conda-forge\n",
      "ipywidgets                8.1.1              pyhd8ed1ab_0    conda-forge\n",
      "isoduration               20.11.0            pyhd8ed1ab_0    conda-forge\n",
      "jedi                      0.19.1             pyhd8ed1ab_0    conda-forge\n",
      "jinja2                    3.1.3              pyhd8ed1ab_0    conda-forge\n",
      "json5                     0.9.14             pyhd8ed1ab_0    conda-forge\n",
      "jsonpatch                 1.32               pyhd3eb1b0_0  \n",
      "jsonpointer               2.1                pyhd3eb1b0_0  \n",
      "jsonschema                4.21.0             pyhd8ed1ab_0    conda-forge\n",
      "jsonschema-specifications 2023.12.1          pyhd8ed1ab_0    conda-forge\n",
      "jsonschema-with-format-nongpl 4.21.0             pyhd8ed1ab_0    conda-forge\n",
      "jupyter                   1.0.0             pyhd8ed1ab_10    conda-forge\n",
      "jupyter-lsp               2.2.2              pyhd8ed1ab_0    conda-forge\n",
      "jupyter_client            8.6.0              pyhd8ed1ab_0    conda-forge\n",
      "jupyter_console           6.6.3              pyhd8ed1ab_0    conda-forge\n",
      "jupyter_core              5.7.1           py311h267d04e_0    conda-forge\n",
      "jupyter_events            0.9.0              pyhd8ed1ab_0    conda-forge\n",
      "jupyter_server            2.12.5             pyhd8ed1ab_0    conda-forge\n",
      "jupyter_server_terminals  0.5.1              pyhd8ed1ab_0    conda-forge\n",
      "jupyterlab                4.0.10             pyhd8ed1ab_0    conda-forge\n",
      "jupyterlab_pygments       0.3.0              pyhd8ed1ab_0    conda-forge\n",
      "jupyterlab_server         2.25.2             pyhd8ed1ab_0    conda-forge\n",
      "jupyterlab_widgets        3.0.9              pyhd8ed1ab_0    conda-forge\n",
      "krb5                      1.20.1               hf3e1bf2_1  \n",
      "libarchive                3.6.2                h62fee54_2  \n",
      "libblas                   3.9.0           20_osxarm64_openblas    conda-forge\n",
      "libcblas                  3.9.0           20_osxarm64_openblas    conda-forge\n",
      "libcurl                   8.4.0                h3e2b118_1  \n",
      "libcxx                    16.0.6               h4653b0c_0    conda-forge\n",
      "libedit                   3.1.20230828         h80987f9_0  \n",
      "libev                     4.33                 h1a28f6b_1  \n",
      "libexpat                  2.5.0                hb7217d7_1    conda-forge\n",
      "libffi                    3.4.4                hca03da5_0  \n",
      "libgfortran               5.0.0           13_2_0_hd922786_1    conda-forge\n",
      "libgfortran5              13.2.0               hf226fd6_1    conda-forge\n",
      "libiconv                  1.16                 h1a28f6b_2  \n",
      "liblapack                 3.9.0           20_osxarm64_openblas    conda-forge\n",
      "libmamba                  1.5.3                h15e39b3_0  \n",
      "libmambapy                1.5.3           py311h1c5506f_0  \n",
      "libnghttp2                1.57.0               h62f6fdd_0  \n",
      "libopenblas               0.3.25          openmp_h6c19121_0    conda-forge\n",
      "libsodium                 1.0.18               h27ca646_1    conda-forge\n",
      "libsolv                   0.7.24               h514c7bf_0  \n",
      "libsqlite                 3.44.2               h091b4b1_0    conda-forge\n",
      "libssh2                   1.10.0               h02f6b3c_2  \n",
      "libxml2                   2.10.4               h0dcf63f_1  \n",
      "libzlib                   1.2.13               h53f4e23_5    conda-forge\n",
      "llvm-openmp               17.0.6               hcd81f8e_0    conda-forge\n",
      "lz4-c                     1.9.4                h313beb8_0  \n",
      "markupsafe                2.1.3           py311heffc1b2_1    conda-forge\n",
      "matplotlib-inline         0.1.6              pyhd8ed1ab_0    conda-forge\n",
      "menuinst                  2.0.1           py311hca03da5_1  \n",
      "mistune                   3.0.2              pyhd8ed1ab_0    conda-forge\n",
      "nbclient                  0.8.0              pyhd8ed1ab_0    conda-forge\n",
      "nbconvert                 7.14.2             pyhd8ed1ab_0    conda-forge\n",
      "nbconvert-core            7.14.2             pyhd8ed1ab_0    conda-forge\n",
      "nbconvert-pandoc          7.14.2             pyhd8ed1ab_0    conda-forge\n",
      "nbformat                  5.9.2              pyhd8ed1ab_0    conda-forge\n",
      "ncurses                   6.4                  h313beb8_0  \n",
      "nest-asyncio              1.5.9              pyhd8ed1ab_0    conda-forge\n",
      "notebook                  7.0.6              pyhd8ed1ab_0    conda-forge\n",
      "notebook-shim             0.2.3              pyhd8ed1ab_0    conda-forge\n",
      "numpy                     1.26.3          py311h7125741_0    conda-forge\n",
      "openssl                   3.2.0                h0d3ecfb_1    conda-forge\n",
      "overrides                 7.4.0              pyhd8ed1ab_0    conda-forge\n",
      "packaging                 23.1            py311hca03da5_0  \n",
      "pandoc                    3.1.3                hce30654_0    conda-forge\n",
      "pandocfilters             1.5.0              pyhd8ed1ab_0    conda-forge\n",
      "parso                     0.8.3              pyhd8ed1ab_0    conda-forge\n",
      "pcre2                     10.42                hb066dcc_0  \n",
      "pexpect                   4.8.0              pyh1a96a4e_2    conda-forge\n",
      "pickleshare               0.7.5                   py_1003    conda-forge\n",
      "pip                       23.3.1          py311hca03da5_0  \n",
      "pkgutil-resolve-name      1.3.10             pyhd8ed1ab_1    conda-forge\n",
      "platformdirs              3.10.0          py311hca03da5_0  \n",
      "pluggy                    1.0.0           py311hca03da5_1  \n",
      "prometheus_client         0.19.0             pyhd8ed1ab_0    conda-forge\n",
      "prompt-toolkit            3.0.42             pyha770c72_0    conda-forge\n",
      "prompt_toolkit            3.0.42               hd8ed1ab_0    conda-forge\n",
      "psutil                    5.9.7           py311h05b510d_0    conda-forge\n",
      "ptyprocess                0.7.0              pyhd3deb0d_0    conda-forge\n",
      "pure_eval                 0.2.2              pyhd8ed1ab_0    conda-forge\n",
      "pybind11-abi              4                    hd3eb1b0_1  \n",
      "pycosat                   0.6.6           py311h80987f9_0  \n",
      "pycparser                 2.21               pyhd3eb1b0_0  \n",
      "pygments                  2.17.2             pyhd8ed1ab_0    conda-forge\n",
      "pyobjc-core               10.1            py311h665608e_0    conda-forge\n",
      "pyobjc-framework-cocoa    10.1            py311h665608e_0    conda-forge\n",
      "pyopenssl                 23.2.0          py311hca03da5_0  \n",
      "pysocks                   1.7.1           py311hca03da5_0  \n",
      "python                    3.11.7          hdf0ec26_1_cpython    conda-forge\n",
      "python-dateutil           2.8.2              pyhd8ed1ab_0    conda-forge\n",
      "python-fastjsonschema     2.19.1             pyhd8ed1ab_0    conda-forge\n",
      "python-json-logger        2.0.7              pyhd8ed1ab_0    conda-forge\n",
      "python.app                3               py311h80987f9_0  \n",
      "python_abi                3.11                    4_cp311    conda-forge\n",
      "pytz                      2023.3.post1       pyhd8ed1ab_0    conda-forge\n",
      "pyyaml                    6.0.1           py311heffc1b2_1    conda-forge\n",
      "pyzmq                     25.1.1          py311he9c0408_2    conda-forge\n",
      "qtconsole-base            5.5.1              pyha770c72_0    conda-forge\n",
      "qtpy                      2.4.1              pyhd8ed1ab_0    conda-forge\n",
      "readline                  8.2                  h1a28f6b_0  \n",
      "referencing               0.32.1             pyhd8ed1ab_0    conda-forge\n",
      "reproc                    14.2.4               hc377ac9_1  \n",
      "reproc-cpp                14.2.4               hc377ac9_1  \n",
      "requests                  2.31.0          py311hca03da5_0  \n",
      "rfc3339-validator         0.1.4              pyhd8ed1ab_0    conda-forge\n",
      "rfc3986-validator         0.1.1              pyh9f0ad1d_0    conda-forge\n",
      "rpds-py                   0.17.1          py311h94f323b_0    conda-forge\n",
      "ruamel.yaml               0.17.21         py311h80987f9_0  \n",
      "send2trash                1.8.2              pyhd1c38e8_0    conda-forge\n",
      "setuptools                68.2.2          py311hca03da5_0  \n",
      "six                       1.16.0             pyh6c4a22f_0    conda-forge\n",
      "sniffio                   1.3.0              pyhd8ed1ab_0    conda-forge\n",
      "soupsieve                 2.5                pyhd8ed1ab_1    conda-forge\n",
      "sqlite                    3.41.2               h80987f9_0  \n",
      "stack_data                0.6.2              pyhd8ed1ab_0    conda-forge\n",
      "terminado                 0.18.0             pyh31c8845_0    conda-forge\n",
      "tinycss2                  1.2.1              pyhd8ed1ab_0    conda-forge\n",
      "tk                        8.6.13               h5083fa2_1    conda-forge\n",
      "tomli                     2.0.1              pyhd8ed1ab_0    conda-forge\n",
      "tornado                   6.3.3           py311heffc1b2_1    conda-forge\n",
      "tqdm                      4.65.0          py311hb6e6a13_0  \n",
      "traitlets                 5.14.1             pyhd8ed1ab_0    conda-forge\n",
      "truststore                0.8.0           py311hca03da5_0  \n",
      "types-python-dateutil     2.8.19.20240106    pyhd8ed1ab_0    conda-forge\n",
      "typing-extensions         4.9.0                hd8ed1ab_0    conda-forge\n",
      "typing_extensions         4.9.0              pyha770c72_0    conda-forge\n",
      "typing_utils              0.1.0              pyhd8ed1ab_0    conda-forge\n",
      "tzdata                    2023c                h04d1e81_0  \n",
      "uri-template              1.3.0              pyhd8ed1ab_0    conda-forge\n",
      "urllib3                   1.26.18         py311hca03da5_0  \n",
      "wcwidth                   0.2.13             pyhd8ed1ab_0    conda-forge\n",
      "webcolors                 1.13               pyhd8ed1ab_0    conda-forge\n",
      "webencodings              0.5.1              pyhd8ed1ab_2    conda-forge\n",
      "websocket-client          1.7.0              pyhd8ed1ab_0    conda-forge\n",
      "wheel                     0.41.2          py311hca03da5_0  \n",
      "widgetsnbextension        4.0.9              pyhd8ed1ab_0    conda-forge\n",
      "xz                        5.4.5                h80987f9_0  \n",
      "yaml                      0.2.5                h3422bc3_2    conda-forge\n",
      "yaml-cpp                  0.8.0                h313beb8_0  \n",
      "zeromq                    4.3.5                h313beb8_0  \n",
      "zipp                      3.17.0             pyhd8ed1ab_0    conda-forge\n",
      "zlib                      1.2.13               h53f4e23_5    conda-forge\n",
      "zstandard                 0.19.0          py311h80987f9_0  \n",
      "zstd                      1.5.5                hd90d995_0  \n"
     ]
    }
   ],
   "source": [
    "!conda list #not recommended"
   ]
  },
  {
   "cell_type": "code",
   "execution_count": 3,
   "id": "55ac99ab-e9da-4f2b-a83e-31d195a292f4",
   "metadata": {},
   "outputs": [
    {
     "name": "stdout",
     "output_type": "stream",
     "text": [
      "using_jupyter_(good).ipynb using_jupyter_(need).ipynb\n"
     ]
    }
   ],
   "source": [
    "!ls"
   ]
  },
  {
   "attachments": {},
   "cell_type": "markdown",
   "id": "bac940ac",
   "metadata": {},
   "source": [
    "# Jupyter Extensions"
   ]
  },
  {
   "attachments": {},
   "cell_type": "markdown",
   "id": "7ab14778",
   "metadata": {},
   "source": [
    "## Installing the extensions"
   ]
  },
  {
   "attachments": {},
   "cell_type": "markdown",
   "id": "37420791",
   "metadata": {},
   "source": [
    "## Enabling the extensions"
   ]
  },
  {
   "attachments": {},
   "cell_type": "markdown",
   "id": "59f37e71",
   "metadata": {},
   "source": [
    "# Shell Magic"
   ]
  },
  {
   "cell_type": "code",
   "execution_count": 24,
   "id": "88c566ff-2260-4d75-a1b4-5a0cb5c3b41e",
   "metadata": {},
   "outputs": [
    {
     "name": "stdout",
     "output_type": "stream",
     "text": [
      "6.5 ns ± 0.0472 ns per loop (mean ± std. dev. of 7 runs, 100,000,000 loops each)\n"
     ]
    }
   ],
   "source": [
    "%timeit x=10"
   ]
  },
  {
   "cell_type": "code",
   "execution_count": 13,
   "id": "a2b55e26-42ea-422a-a507-1496d866597f",
   "metadata": {},
   "outputs": [
    {
     "name": "stdout",
     "output_type": "stream",
     "text": [
      "14.4 ns ± 0.109 ns per loop (mean ± std. dev. of 7 runs, 100,000,000 loops each)\n"
     ]
    }
   ],
   "source": [
    "%%timeit \n",
    "x=10\n",
    "y=x^2"
   ]
  },
  {
   "cell_type": "code",
   "execution_count": 11,
   "id": "c7c6fff9-9035-4af2-bce9-6c992997400b",
   "metadata": {},
   "outputs": [
    {
     "name": "stdout",
     "output_type": "stream",
     "text": [
      "13.1 ns ± 0.0719 ns per loop (mean ± std. dev. of 7 runs, 100,000,000 loops each)\n"
     ]
    }
   ],
   "source": [
    "%%timeit \n",
    "x=10\n",
    "y=10\n",
    "z=10"
   ]
  },
  {
   "cell_type": "code",
   "execution_count": 22,
   "id": "32b6d60d-6250-4061-891c-c8925ca8cd6c",
   "metadata": {},
   "outputs": [
    {
     "data": {
      "application/json": {
       "cell": {
        "!": "OSMagics",
        "HTML": "Other",
        "SVG": "Other",
        "bash": "Other",
        "capture": "ExecutionMagics",
        "code_wrap": "ExecutionMagics",
        "debug": "ExecutionMagics",
        "file": "Other",
        "html": "DisplayMagics",
        "javascript": "DisplayMagics",
        "js": "DisplayMagics",
        "latex": "DisplayMagics",
        "markdown": "DisplayMagics",
        "perl": "Other",
        "prun": "ExecutionMagics",
        "pypy": "Other",
        "python": "Other",
        "python2": "Other",
        "python3": "Other",
        "ruby": "Other",
        "script": "ScriptMagics",
        "sh": "Other",
        "svg": "DisplayMagics",
        "sx": "OSMagics",
        "system": "OSMagics",
        "time": "ExecutionMagics",
        "timeit": "ExecutionMagics",
        "writefile": "OSMagics"
       },
       "line": {
        "alias": "OSMagics",
        "alias_magic": "BasicMagics",
        "autoawait": "AsyncMagics",
        "autocall": "AutoMagics",
        "automagic": "AutoMagics",
        "autosave": "KernelMagics",
        "bookmark": "OSMagics",
        "cat": "Other",
        "cd": "OSMagics",
        "clear": "KernelMagics",
        "code_wrap": "ExecutionMagics",
        "colors": "BasicMagics",
        "conda": "PackagingMagics",
        "config": "ConfigMagics",
        "connect_info": "KernelMagics",
        "cp": "Other",
        "debug": "ExecutionMagics",
        "dhist": "OSMagics",
        "dirs": "OSMagics",
        "doctest_mode": "BasicMagics",
        "ed": "Other",
        "edit": "KernelMagics",
        "env": "OSMagics",
        "gui": "BasicMagics",
        "hist": "Other",
        "history": "HistoryMagics",
        "killbgscripts": "ScriptMagics",
        "ldir": "Other",
        "less": "KernelMagics",
        "lf": "Other",
        "lk": "Other",
        "ll": "Other",
        "load": "CodeMagics",
        "load_ext": "ExtensionMagics",
        "loadpy": "CodeMagics",
        "logoff": "LoggingMagics",
        "logon": "LoggingMagics",
        "logstart": "LoggingMagics",
        "logstate": "LoggingMagics",
        "logstop": "LoggingMagics",
        "ls": "Other",
        "lsmagic": "BasicMagics",
        "lx": "Other",
        "macro": "ExecutionMagics",
        "magic": "BasicMagics",
        "mamba": "PackagingMagics",
        "man": "KernelMagics",
        "matplotlib": "PylabMagics",
        "micromamba": "PackagingMagics",
        "mkdir": "Other",
        "more": "KernelMagics",
        "mv": "Other",
        "notebook": "BasicMagics",
        "page": "BasicMagics",
        "pastebin": "CodeMagics",
        "pdb": "ExecutionMagics",
        "pdef": "NamespaceMagics",
        "pdoc": "NamespaceMagics",
        "pfile": "NamespaceMagics",
        "pinfo": "NamespaceMagics",
        "pinfo2": "NamespaceMagics",
        "pip": "PackagingMagics",
        "popd": "OSMagics",
        "pprint": "BasicMagics",
        "precision": "BasicMagics",
        "prun": "ExecutionMagics",
        "psearch": "NamespaceMagics",
        "psource": "NamespaceMagics",
        "pushd": "OSMagics",
        "pwd": "OSMagics",
        "pycat": "OSMagics",
        "pylab": "PylabMagics",
        "qtconsole": "KernelMagics",
        "quickref": "BasicMagics",
        "recall": "HistoryMagics",
        "rehashx": "OSMagics",
        "reload_ext": "ExtensionMagics",
        "rep": "Other",
        "rerun": "HistoryMagics",
        "reset": "NamespaceMagics",
        "reset_selective": "NamespaceMagics",
        "rm": "Other",
        "rmdir": "Other",
        "run": "ExecutionMagics",
        "save": "CodeMagics",
        "sc": "OSMagics",
        "set_env": "OSMagics",
        "store": "StoreMagics",
        "sx": "OSMagics",
        "system": "OSMagics",
        "tb": "ExecutionMagics",
        "time": "ExecutionMagics",
        "timeit": "ExecutionMagics",
        "unalias": "OSMagics",
        "unload_ext": "ExtensionMagics",
        "who": "NamespaceMagics",
        "who_ls": "NamespaceMagics",
        "whos": "NamespaceMagics",
        "xdel": "NamespaceMagics",
        "xmode": "BasicMagics"
       }
      },
      "text/plain": [
       "Available line magics:\n",
       "%alias  %alias_magic  %autoawait  %autocall  %automagic  %autosave  %bookmark  %cat  %cd  %clear  %code_wrap  %colors  %conda  %config  %connect_info  %cp  %debug  %dhist  %dirs  %doctest_mode  %ed  %edit  %env  %gui  %hist  %history  %killbgscripts  %ldir  %less  %lf  %lk  %ll  %load  %load_ext  %loadpy  %logoff  %logon  %logstart  %logstate  %logstop  %ls  %lsmagic  %lx  %macro  %magic  %mamba  %man  %matplotlib  %micromamba  %mkdir  %more  %mv  %notebook  %page  %pastebin  %pdb  %pdef  %pdoc  %pfile  %pinfo  %pinfo2  %pip  %popd  %pprint  %precision  %prun  %psearch  %psource  %pushd  %pwd  %pycat  %pylab  %qtconsole  %quickref  %recall  %rehashx  %reload_ext  %rep  %rerun  %reset  %reset_selective  %rm  %rmdir  %run  %save  %sc  %set_env  %store  %sx  %system  %tb  %time  %timeit  %unalias  %unload_ext  %who  %who_ls  %whos  %xdel  %xmode\n",
       "\n",
       "Available cell magics:\n",
       "%%!  %%HTML  %%SVG  %%bash  %%capture  %%code_wrap  %%debug  %%file  %%html  %%javascript  %%js  %%latex  %%markdown  %%perl  %%prun  %%pypy  %%python  %%python2  %%python3  %%ruby  %%script  %%sh  %%svg  %%sx  %%system  %%time  %%timeit  %%writefile\n",
       "\n",
       "Automagic is ON, % prefix IS NOT needed for line magics."
      ]
     },
     "execution_count": 22,
     "metadata": {},
     "output_type": "execute_result"
    }
   ],
   "source": [
    "lsmagic"
   ]
  },
  {
   "attachments": {},
   "cell_type": "markdown",
   "id": "58a0524c",
   "metadata": {},
   "source": [
    "# The Kernel"
   ]
  },
  {
   "cell_type": "code",
   "execution_count": 26,
   "id": "2192b266-2485-40f8-9c9b-65dd8abcfa4f",
   "metadata": {},
   "outputs": [],
   "source": [
    "x=10"
   ]
  },
  {
   "cell_type": "code",
   "execution_count": 27,
   "id": "66105324-5e9b-4319-9cd7-1b1da83532ca",
   "metadata": {},
   "outputs": [
    {
     "name": "stdout",
     "output_type": "stream",
     "text": [
      "10\n"
     ]
    }
   ],
   "source": [
    "print(x)"
   ]
  },
  {
   "cell_type": "code",
   "execution_count": 1,
   "id": "3f60eb56-c877-4c03-aa8c-0abac4edd3d3",
   "metadata": {},
   "outputs": [
    {
     "ename": "NameError",
     "evalue": "name 'x' is not defined",
     "output_type": "error",
     "traceback": [
      "\u001b[0;31m---------------------------------------------------------------------------\u001b[0m",
      "\u001b[0;31mNameError\u001b[0m                                 Traceback (most recent call last)",
      "Cell \u001b[0;32mIn[1], line 1\u001b[0m\n\u001b[0;32m----> 1\u001b[0m \u001b[38;5;28mprint\u001b[39m(\u001b[43mx\u001b[49m)\n",
      "\u001b[0;31mNameError\u001b[0m: name 'x' is not defined"
     ]
    }
   ],
   "source": [
    "print(x)"
   ]
  }
 ],
 "metadata": {
  "kernelspec": {
   "display_name": "Python 3 (ipykernel)",
   "language": "python",
   "name": "python3"
  },
  "language_info": {
   "codemirror_mode": {
    "name": "ipython",
    "version": 3
   },
   "file_extension": ".py",
   "mimetype": "text/x-python",
   "name": "python",
   "nbconvert_exporter": "python",
   "pygments_lexer": "ipython3",
   "version": "3.11.7"
  },
  "toc": {
   "base_numbering": 1,
   "nav_menu": {},
   "number_sections": true,
   "sideBar": true,
   "skip_h1_title": false,
   "title_cell": "Table of Contents",
   "title_sidebar": "Contents",
   "toc_cell": false,
   "toc_position": {},
   "toc_section_display": true,
   "toc_window_display": false
  },
  "vscode": {
   "interpreter": {
    "hash": "31f2aee4e71d21fbe5cf8b01ff0e069b9275f58929596ceb00d14d90e3e16cd6"
   }
  }
 },
 "nbformat": 4,
 "nbformat_minor": 5
}
