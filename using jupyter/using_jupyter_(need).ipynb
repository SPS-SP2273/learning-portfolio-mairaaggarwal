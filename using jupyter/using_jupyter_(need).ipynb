{
 "cells": [
  {
   "attachments": {},
   "cell_type": "markdown",
   "id": "123456",
   "metadata": {},
   "source": [
    "<div style=\"text-align:left;font-size:2em\"><span style=\"font-weight:bolder;font-size:1.25em\">SP2273 | Learning Portfolio</span><br><br><span style=\"font-weight:bold;color:darkred\">Using Jupyter (Need)</span></div>"
   ]
  },
  {
   "attachments": {},
   "cell_type": "markdown",
   "id": "edd6ba7b",
   "metadata": {},
   "source": [
    "# What to expect in this chapter"
   ]
  },
  {
   "attachments": {},
   "cell_type": "markdown",
   "id": "b8f28132",
   "metadata": {},
   "source": [
    "# Getting ready"
   ]
  },
  {
   "attachments": {},
   "cell_type": "markdown",
   "id": "0a24950e",
   "metadata": {},
   "source": [
    "# Getting started with Jupyter"
   ]
  },
  {
   "attachments": {},
   "cell_type": "markdown",
   "id": "87ee93ef",
   "metadata": {},
   "source": [
    "## It is all about running cells"
   ]
  },
  {
   "cell_type": "code",
   "execution_count": 2,
   "id": "8392b382-77a8-4e4c-a117-18f06e8319ac",
   "metadata": {},
   "outputs": [
    {
     "data": {
      "text/plain": [
       "7"
      ]
     },
     "execution_count": 2,
     "metadata": {},
     "output_type": "execute_result"
    }
   ],
   "source": [
    "a = 2\n",
    "b = 5\n",
    "c = a + b\n",
    "c"
   ]
  },
  {
   "attachments": {},
   "cell_type": "markdown",
   "id": "0bf494b1",
   "metadata": {},
   "source": [
    "## A traditional start"
   ]
  },
  {
   "cell_type": "code",
   "execution_count": 13,
   "id": "f786a970-605d-4cf2-95a2-c3681871c3e1",
   "metadata": {},
   "outputs": [
    {
     "name": "stdout",
     "output_type": "stream",
     "text": [
      "Hello World!\n"
     ]
    }
   ],
   "source": [
    "print ('Hello World!')"
   ]
  },
  {
   "attachments": {},
   "cell_type": "markdown",
   "id": "e90286fd",
   "metadata": {},
   "source": [
    "# All about Markdown"
   ]
  },
  {
   "attachments": {},
   "cell_type": "markdown",
   "id": "403e089f",
   "metadata": {},
   "source": [
    "## Rendering Markdown cells"
   ]
  },
  {
   "cell_type": "markdown",
   "id": "979b2823-71ab-4cf8-8720-4140598703d2",
   "metadata": {},
   "source": [
    "The ships hung in the sky in much the same way that bricks don’t."
   ]
  },
  {
   "attachments": {},
   "cell_type": "markdown",
   "id": "4b4d101d",
   "metadata": {},
   "source": [
    "## Some basic syntax"
   ]
  },
  {
   "cell_type": "markdown",
   "id": "57ee547e-2b5d-41f8-89e9-6643816b5be5",
   "metadata": {},
   "source": [
    "`The ship *hung in the sky* in much the same way that **bricks don't.** <sup>1</sup><sub>QUOTE</sub>`"
   ]
  },
  {
   "cell_type": "markdown",
   "id": "b7fe0c53-0c66-4715-9bfe-ca3d5ebaa60d",
   "metadata": {},
   "source": [
    "The ship *hung in the sky* in much the same way that **bricks don't.** <sup>1</sup><sub>QUOTE</sub>"
   ]
  },
  {
   "cell_type": "markdown",
   "id": "0f6740f7-0f45-4467-a21e-5aff1094abd5",
   "metadata": {},
   "source": [
    "***ALL ITALIC AND BOLD***"
   ]
  },
  {
   "attachments": {},
   "cell_type": "markdown",
   "id": "28a5034d",
   "metadata": {},
   "source": [
    "## Headings"
   ]
  },
  {
   "cell_type": "markdown",
   "id": "89fd80f4-58e6-45ec-b583-6a02a5faf4ff",
   "metadata": {},
   "source": [
    "#### I don't care if Monday's blue\n",
    "\n",
    "### Tuesday's grey and Wednesday too\n",
    "\n",
    "## Thursday I don't care about you \n",
    "\n",
    "# It's Friday, I'm in love (All About Markdown continued below)"
   ]
  },
  {
   "attachments": {},
   "cell_type": "markdown",
   "id": "2403e4cb",
   "metadata": {},
   "source": [
    "## Displaying Code"
   ]
  },
  {
   "cell_type": "markdown",
   "id": "83d3a8c7-54f9-47e5-afbb-3ad4ca3117b8",
   "metadata": {},
   "source": [
    "`print ('Hello World!')`"
   ]
  },
  {
   "cell_type": "markdown",
   "id": "29505891-136e-4308-ab30-40a2cde23bbb",
   "metadata": {},
   "source": [
    "```python\n",
    "print ('Hello World!')\n",
    "```"
   ]
  },
  {
   "cell_type": "markdown",
   "id": "c8ec8d2c-58b1-4f5c-9ecc-a00b099f5015",
   "metadata": {},
   "source": [
    "```Please **don't** put your life in the hands of a ***rock and roll band***```"
   ]
  },
  {
   "cell_type": "markdown",
   "id": "268472ca-51d2-4ef5-9446-6e4fa4a3c59e",
   "metadata": {},
   "source": [
    "Please **don't** put your life in the hands of a ***rock and roll band***"
   ]
  },
  {
   "attachments": {},
   "cell_type": "markdown",
   "id": "b185392b",
   "metadata": {},
   "source": [
    "## Links"
   ]
  },
  {
   "cell_type": "markdown",
   "id": "a688d22b-1909-4fc8-b600-876bda521f23",
   "metadata": {},
   "source": [
    "[Don't Look Back In Anger - Oasis](https://www.youtube.com/watch?v=r8OipmKFDeM)"
   ]
  },
  {
   "attachments": {},
   "cell_type": "markdown",
   "id": "1a390490",
   "metadata": {},
   "source": [
    "## Images"
   ]
  },
  {
   "cell_type": "markdown",
   "id": "75c54bfe-a4bd-49fb-a217-c0cb8ce3633e",
   "metadata": {},
   "source": [
    "![](https://i.chzbgr.com/full/9793747200/hD109C6F2/person-cant-fail-if-drop-out-first-university-studentorg-opening-man-jot-vri-sal-sunday)"
   ]
  },
  {
   "cell_type": "markdown",
   "id": "7f0e8151-8729-48d2-bb9d-c3dbfeb1ecae",
   "metadata": {},
   "source": [
    "![](https://cdn.vox-cdn.com/thumbor/e2XFbV9mkJ4kk25ERJAi3ZVYE2I=/11x17:1898x1056/1820x1213/filters:focal(807x387:1113x693):format(webp)/cdn.vox-cdn.com/uploads/chorus_image/image/72921759/vlcsnap_2023_12_01_10h37m31s394.0.jpg)"
   ]
  },
  {
   "attachments": {},
   "cell_type": "markdown",
   "id": "560c6c54",
   "metadata": {},
   "source": [
    "## Tables"
   ]
  },
  {
   "cell_type": "markdown",
   "id": "470b759c-1401-497e-a8e0-a5409e34422d",
   "metadata": {},
   "source": [
    "***SAMPLE TABLE***\n",
    "\n",
    "| A    |  B   |    C |\n",
    "| :--- | :--: | ---: |\n",
    "| a1   |  b1  |   c1 |\n",
    "| a2   |  b2  |   c2 |\n",
    "| a3   |  b3  |   c3 |\n"
   ]
  },
  {
   "cell_type": "markdown",
   "id": "b2c1fc44-0afa-4145-aee2-ce254959ea95",
   "metadata": {},
   "source": [
    "***CURRENT FAVOURITE SONGS***\n",
    "\n",
    "| Serial No.| Song | Artist |\n",
    "| :--- | :--: | :--- |\n",
    "| 1| Back to Black | Amy Winehouse |\n",
    "| 2| I Don't Wanna Miss A Thing  | Aerosmith |\n",
    "| 3|  There Is a Light That Never Goes Out  | The Smiths |\n"
   ]
  },
  {
   "cell_type": "markdown",
   "id": "57e5d6a8-c3ff-4d21-9f99-a22a6478547c",
   "metadata": {},
   "source": [
    "***USING TABLE GENERATOR***\n",
    "\n",
    "| 500 |  Days | of | Summer |   |\n",
    "|:--:|:------:|:-----:|:---------:|:-:|\n",
    "| 2. |    I |   Said | I |   |\n",
    "| 3. | Love | The | Smiths       |   |\n",
    "|    |        |       |           |   | "
   ]
  },
  {
   "attachments": {},
   "cell_type": "markdown",
   "id": "aba76a91",
   "metadata": {},
   "source": [
    "## Lists"
   ]
  },
  {
   "cell_type": "markdown",
   "id": "9686762a-f5e8-49dd-9ab1-82cd76a770da",
   "metadata": {},
   "source": [
    "***(Numbered) List of Favourite Sitcoms***\n",
    "\n",
    "1. Modern Family\n",
    "1. The Big Bang Theory\n",
    "1. HIMYM"
   ]
  },
  {
   "cell_type": "markdown",
   "id": "126cf61e-0f6e-4024-b179-e83838307bae",
   "metadata": {},
   "source": [
    "***(Unnumbered) List of Books to Read***\n",
    "\n",
    "- Gone Girl - Gillian Flynn\n",
    "- A Room of One's Own - Virginia Woolf\n",
    "- The Inugami Curse - Seishi Yokomizo"
   ]
  },
  {
   "cell_type": "markdown",
   "id": "c6b4a7aa-f9ca-4e71-82d1-cc8ab1e95809",
   "metadata": {},
   "source": [
    "***(Numbered-Numbered) List of Movies to Watch***\n",
    "\n",
    "1. Bollywood\n",
    "    1. Wake Up Sid\n",
    "    2. Jab Tak Hai Jaan \n",
    "2. Thriller\n",
    "   1. The Silence of the Lambs\n",
    "   2. Reservoir Dogs\n",
    "   3. Scarface\n",
    "3. Feel-Good\n",
    "    1. Forrest Gump\n",
    "    2. Notting Hill"
   ]
  },
  {
   "cell_type": "markdown",
   "id": "77ef93de-e2d5-40cb-a809-a665f5b4d55f",
   "metadata": {},
   "source": [
    "***(Numbered-Unnumbered) List of Super Mario Bros. Characters***\n",
    "\n",
    "1. Mario\n",
    "    - Wears Red\n",
    "    - Is a plumber\n",
    "    - Saves the world from a giant turtle\n",
    "2. Luigi\n",
    "    - Wears green\n",
    "    - Also a plumber\n",
    "    - Also saves the world from a giant turtle\n",
    "3. Bowser\n",
    "    - Sings \"Peaches Peaches PEACHES PEACHES PEACHES\""
   ]
  },
  {
   "attachments": {},
   "cell_type": "markdown",
   "id": "bcdaf11a",
   "metadata": {},
   "source": [
    "## Equations"
   ]
  },
  {
   "cell_type": "markdown",
   "id": "7bb0c9e0-22ea-4c02-b117-548b75ce1854",
   "metadata": {},
   "source": [
    "\n",
    "$\\dfrac{a}{\\pi^{(9+x)}} \\le \\alpha_{\\gamma}$"
   ]
  },
  {
   "cell_type": "markdown",
   "id": "b1da87f2-1ef3-4945-b87a-7234a9dfe066",
   "metadata": {},
   "source": [
    "$\\sum_{n=4}^{n=\\infty} n_\\gamma$"
   ]
  },
  {
   "cell_type": "markdown",
   "id": "12fbe4c5-05e4-4714-98fe-59a0e6a2674a",
   "metadata": {},
   "source": [
    "$\\sqrt{\\beta - \\lambda + \\pi^8} \\neq 28$"
   ]
  },
  {
   "cell_type": "markdown",
   "id": "11eb180a-0161-470b-ab05-d44fe3e3b8c9",
   "metadata": {},
   "source": [
    "$\\int^{x=\\infty}_{x=8} x^n d(x)$"
   ]
  },
  {
   "cell_type": "markdown",
   "id": "3a80db69-a217-4caa-a876-8b860b1a2a70",
   "metadata": {},
   "source": [
    "$\\sqrt{\\dfrac{48x}{\\gamma^5}} \\gt \\beta_3$"
   ]
  },
  {
   "attachments": {},
   "cell_type": "markdown",
   "id": "d6e75c0e",
   "metadata": {},
   "source": [
    "## Footnotes"
   ]
  },
  {
   "cell_type": "markdown",
   "id": "c836298b-e386-410a-a2cf-ad7c60ade110",
   "metadata": {},
   "source": [
    "Familiar with ***The Hitchhiker’s Guide to the Galaxy***\n",
    "\n",
    "Completed."
   ]
  }
 ],
 "metadata": {
  "kernelspec": {
   "display_name": "Python 3 (ipykernel)",
   "language": "python",
   "name": "python3"
  },
  "language_info": {
   "codemirror_mode": {
    "name": "ipython",
    "version": 3
   },
   "file_extension": ".py",
   "mimetype": "text/x-python",
   "name": "python",
   "nbconvert_exporter": "python",
   "pygments_lexer": "ipython3",
   "version": "3.11.7"
  },
  "toc": {
   "base_numbering": 1,
   "nav_menu": {},
   "number_sections": true,
   "sideBar": true,
   "skip_h1_title": false,
   "title_cell": "Table of Contents",
   "title_sidebar": "Contents",
   "toc_cell": false,
   "toc_position": {},
   "toc_section_display": true,
   "toc_window_display": false
  },
  "vscode": {
   "interpreter": {
    "hash": "31f2aee4e71d21fbe5cf8b01ff0e069b9275f58929596ceb00d14d90e3e16cd6"
   }
  }
 },
 "nbformat": 4,
 "nbformat_minor": 5
}
