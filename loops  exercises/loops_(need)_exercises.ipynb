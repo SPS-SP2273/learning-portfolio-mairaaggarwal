{
 "cells": [
  {
   "attachments": {},
   "cell_type": "markdown",
   "id": "123456",
   "metadata": {},
   "source": [
    "<div style=\"text-align:left;font-size:2em\"><span style=\"font-weight:bolder;font-size:1.25em\">SP2273 | Learning Portfolio</span><br><br><span style=\"font-weight:bold;color:darkred\">Loops (Need) Exercises</span></div>"
   ]
  },
  {
   "cell_type": "markdown",
   "id": "95dec7dc-c8f5-4117-b4c7-78272e8a0b50",
   "metadata": {},
   "source": [
    "# Exercise 1"
   ]
  },
  {
   "cell_type": "code",
   "execution_count": 5,
   "id": "e6b0e340-8a91-43c7-b451-de728c7f5b1f",
   "metadata": {},
   "outputs": [
    {
     "name": "stdout",
     "output_type": "stream",
     "text": [
      "0°C is 32.00°F.\n",
      "5°C is 41.00°F.\n",
      "10°C is 50.00°F.\n",
      "15°C is 59.00°F.\n",
      "20°C is 68.00°F.\n",
      "25°C is 77.00°F.\n",
      "30°C is 86.00°F.\n",
      "35°C is 95.00°F.\n",
      "40°C is 104.00°F.\n",
      "45°C is 113.00°F.\n",
      "50°C is 122.00°F.\n"
     ]
    }
   ],
   "source": [
    "temperatures_celsius = [\n",
    "    0, 5, 10, 15, 20, 25,\n",
    "    30, 35, 40, 45, 50\n",
    "]\n",
    "\n",
    "def cel_to_fahr(celsius):\n",
    "    return (celsius * 9/5) + 32\n",
    "\n",
    "for celsius in temperatures_celsius:\n",
    "    fahrenheit = cel_to_fahr(celsius)\n",
    "    print(f\"{celsius}°C is {fahrenheit:.2f}°F.\")\n"
   ]
  },
  {
   "cell_type": "markdown",
   "id": "7ba59cb0-e812-4fb2-a7c6-6fdaea9889e1",
   "metadata": {},
   "source": [
    "# Exercise 2"
   ]
  },
  {
   "cell_type": "code",
   "execution_count": 43,
   "id": "546c8971-195e-4fd3-b3b9-d0d3182de668",
   "metadata": {},
   "outputs": [
    {
     "name": "stdout",
     "output_type": "stream",
     "text": [
      "A1\tA2\tA3\t\n",
      "\n",
      "B1\tB2\tB3\t\n",
      "\n",
      "C1\tC2\tC3\t\n",
      "\n"
     ]
    }
   ],
   "source": [
    "for letter in ['A', 'B', 'C']:\n",
    "    for number in [1, 2, 3]:\n",
    "        print(f'{letter}{number}', end='\\t')\n",
    "    print('\\n')"
   ]
  },
  {
   "cell_type": "code",
   "execution_count": 57,
   "id": "3bdcf87f-1398-4c83-a392-ab1226587649",
   "metadata": {},
   "outputs": [
    {
     "name": "stdout",
     "output_type": "stream",
     "text": [
      "1: 1  2  3  4  5 \n",
      "2: 2  4  6  8 10 \n",
      "3: 3  6  9 12 15 \n",
      "4: 4  8 12 16 20 \n",
      "5: 5 10 15 20 25 \n"
     ]
    }
   ],
   "source": [
    "for x in range(1, 6):\n",
    "    row = []\n",
    "    x1= (f'{x}:')\n",
    "    for y in range(1, 6):\n",
    "        if y==1:\n",
    "            print( x1 + f'{x * y:2}', end=\" \")\n",
    "        else:\n",
    "            print( f'{x * y:2}', end=\" \")\n",
    "    print()"
   ]
  },
  {
   "cell_type": "code",
   "execution_count": 2,
   "id": "d1906864-7cda-4b45-a253-24c4991a37c2",
   "metadata": {},
   "outputs": [
    {
     "name": "stdout",
     "output_type": "stream",
     "text": [
      "1: 1 2 3 4 5\n",
      "2: 2 4 6 8 10\n",
      "3: 3 6 9 12 15\n",
      "4: 4 8 12 16 20\n",
      "5: 5 10 15 20 25\n"
     ]
    }
   ],
   "source": [
    "# updated\n",
    "for i in range(1, 6):\n",
    "    print(f\"{i}:\", end=' ')\n",
    "    for j in range(1, 6):\n",
    "        if j == 5:\n",
    "            print(i * j)\n",
    "        else:\n",
    "            print(i * j, end=' ')"
   ]
  }
 ],
 "metadata": {
  "kernelspec": {
   "display_name": "Python 3 (ipykernel)",
   "language": "python",
   "name": "python3"
  },
  "language_info": {
   "codemirror_mode": {
    "name": "ipython",
    "version": 3
   },
   "file_extension": ".py",
   "mimetype": "text/x-python",
   "name": "python",
   "nbconvert_exporter": "python",
   "pygments_lexer": "ipython3",
   "version": "3.11.7"
  },
  "toc": {
   "base_numbering": 1,
   "nav_menu": {},
   "number_sections": true,
   "sideBar": true,
   "skip_h1_title": false,
   "title_cell": "Table of Contents",
   "title_sidebar": "Contents",
   "toc_cell": false,
   "toc_position": {},
   "toc_section_display": true,
   "toc_window_display": false
  },
  "vscode": {
   "interpreter": {
    "hash": "31f2aee4e71d21fbe5cf8b01ff0e069b9275f58929596ceb00d14d90e3e16cd6"
   }
  }
 },
 "nbformat": 4,
 "nbformat_minor": 5
}
