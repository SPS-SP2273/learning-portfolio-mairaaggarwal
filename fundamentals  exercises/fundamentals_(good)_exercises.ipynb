{
 "cells": [
  {
   "attachments": {},
   "cell_type": "markdown",
   "id": "123456",
   "metadata": {},
   "source": [
    "<div style=\"text-align:left;font-size:2em\"><span style=\"font-weight:bolder;font-size:1.25em\">SP2273 | Learning Portfolio</span><br><br><span style=\"font-weight:bold;color:darkred\">Fundamentals (Good) Exercises</span></div>"
   ]
  },
  {
   "cell_type": "markdown",
   "id": "877efc7d-8d85-450b-8e61-ccaa9f0b5794",
   "metadata": {},
   "source": [
    "# Exercise 1"
   ]
  },
  {
   "cell_type": "code",
   "execution_count": 12,
   "id": "cc7e11d6-2407-4dc9-8d96-5bfdb780d09e",
   "metadata": {},
   "outputs": [
    {
     "name": "stdin",
     "output_type": "stream",
     "text": [
      "Give me a number? 57\n"
     ]
    },
    {
     "name": "stdout",
     "output_type": "stream",
     "text": [
      "You entered 57\n"
     ]
    }
   ],
   "source": [
    "user_input = input('Give me a number?')\n",
    "print('You entered', user_input)"
   ]
  },
  {
   "cell_type": "markdown",
   "id": "b9ea2a40-ba95-47c8-99ec-3d84ed1262c9",
   "metadata": {},
   "source": [
    "# Exercise 2"
   ]
  },
  {
   "cell_type": "code",
   "execution_count": 11,
   "id": "925a2db3-4147-4293-aa5e-46afe6b49fd3",
   "metadata": {},
   "outputs": [
    {
     "name": "stdin",
     "output_type": "stream",
     "text": [
      "Enter the student's score:  57\n"
     ]
    },
    {
     "name": "stdout",
     "output_type": "stream",
     "text": [
      "The student's letter grade is: B\n"
     ]
    }
   ],
   "source": [
    "def give_letter_grade(grade):\n",
    "    if 70 <= grade <= 100:\n",
    "        return 'A'\n",
    "    elif 50 <= grade <= 69:\n",
    "        return 'B'\n",
    "    elif 35 <= grade <= 49:\n",
    "        return 'C'\n",
    "    elif 0 <= grade <= 34:\n",
    "        return 'Fail'\n",
    "\n",
    "numerical_grade = input(\"Enter the student's score: \")\n",
    "\n",
    "if numerical_grade.replace(\".\", '').isdigit() or numerical_grade.replace(\"-\", '').isdigit():\n",
    "    numerical_grade = float(numerical_grade)\n",
    "        \n",
    "    if 0 <= numerical_grade <= 100:\n",
    "        letter_grade = give_letter_grade(numerical_grade)\n",
    "        print(f\"The student's letter grade is: {letter_grade}\")\n",
    "    else:\n",
    "        print(\"Error: Please enter a numerical grade between 0 and 100.\")\n",
    "else:\n",
    "    print(\"Error: Please enter a numerical value.\")"
   ]
  }
 ],
 "metadata": {
  "kernelspec": {
   "display_name": "Python 3 (ipykernel)",
   "language": "python",
   "name": "python3"
  },
  "language_info": {
   "codemirror_mode": {
    "name": "ipython",
    "version": 3
   },
   "file_extension": ".py",
   "mimetype": "text/x-python",
   "name": "python",
   "nbconvert_exporter": "python",
   "pygments_lexer": "ipython3",
   "version": "3.11.7"
  },
  "toc": {
   "base_numbering": 1,
   "nav_menu": {},
   "number_sections": true,
   "sideBar": true,
   "skip_h1_title": false,
   "title_cell": "Table of Contents",
   "title_sidebar": "Contents",
   "toc_cell": false,
   "toc_position": {},
   "toc_section_display": true,
   "toc_window_display": false
  },
  "vscode": {
   "interpreter": {
    "hash": "31f2aee4e71d21fbe5cf8b01ff0e069b9275f58929596ceb00d14d90e3e16cd6"
   }
  }
 },
 "nbformat": 4,
 "nbformat_minor": 5
}
