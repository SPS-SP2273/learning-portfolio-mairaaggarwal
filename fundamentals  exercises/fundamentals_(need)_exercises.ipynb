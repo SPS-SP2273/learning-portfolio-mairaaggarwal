{
 "cells": [
  {
   "attachments": {},
   "cell_type": "markdown",
   "id": "123456",
   "metadata": {},
   "source": [
    "<div style=\"text-align:left;font-size:2em\"><span style=\"font-weight:bolder;font-size:1.25em\">SP2273 | Learning Portfolio</span><br><br><span style=\"font-weight:bold;color:darkred\">Fundamentals (Need) Exercises</span></div>"
   ]
  },
  {
   "cell_type": "markdown",
   "id": "50d66be4-1d36-4d90-bdac-39d615019bbc",
   "metadata": {},
   "source": [
    "# Exercise 1"
   ]
  },
  {
   "cell_type": "markdown",
   "id": "96c4095e-0468-48f9-ba1a-51d19cd67249",
   "metadata": {},
   "source": [
    "1. Python is case-sensitive (print('Hello!') is not the same as Print('Hello!').\n",
    "2. Comments can be added using #.\n",
    "3. = is used to assign values while == is used to check is two things are equal.\n",
    "4. Code with unnecessary indentations may not work. Indentations are used to change blocks.\n",
    "5. Brackets can be used as follows:\n",
    "    1. () for functions\n",
    "    2. () for mathematics\n",
    "    3. {} for dictionaries\n",
    "    4. [] for lists.\n",
    "6. Python packages (such as math or numpy) can be used for accessing more Python functions.\n",
    "7. *Python uses functions to execute specific tasks. Functions are always followed by (). They may or may not take an argument.*\n",
    "8. *Python is an interpreted language, and the Python interpreter executes commands sequentially. It halts if it encounters an error during execution.*\n",
    "9. *if can be used to make decisions.*\n",
    "10. *Words are written using '' or \"\" print('age') would print the word age, while print(age) will print the value of the variable age.*\n",
    "11. *Different packages may have the same function with different capabilities and efficiencies.*\n",
    "12. *The dot (.) is used to indicate ownership.*"
   ]
  },
  {
   "cell_type": "markdown",
   "id": "7ea1b8d8-5dec-44a1-9bf6-ef3e8efd3f71",
   "metadata": {},
   "source": [
    "# Exercise 2"
   ]
  },
  {
   "cell_type": "code",
   "execution_count": 2,
   "id": "7a4af4f4-603d-4c22-888d-6ba59a71f63d",
   "metadata": {},
   "outputs": [
    {
     "ename": "IndentationError",
     "evalue": "unindent does not match any outer indentation level (<tokenize>, line 3)",
     "output_type": "error",
     "traceback": [
      "\u001b[0;36m  File \u001b[0;32m<tokenize>:3\u001b[0;36m\u001b[0m\n\u001b[0;31m    Print(x, y, z)\u001b[0m\n\u001b[0m    ^\u001b[0m\n\u001b[0;31mIndentationError\u001b[0m\u001b[0;31m:\u001b[0m unindent does not match any outer indentation level\n"
     ]
    }
   ],
   "source": [
    "x, y = 3, 4\n",
    "        z = sqrt(x*2 + y**2)\n",
    "    Print(x, y, z)"
   ]
  },
  {
   "cell_type": "code",
   "execution_count": 8,
   "id": "8a06eb2a-9d3f-46d6-91cb-9cacf58d7e62",
   "metadata": {},
   "outputs": [],
   "source": [
    "import numpy as np"
   ]
  },
  {
   "cell_type": "code",
   "execution_count": 18,
   "id": "3cc65868-d8bc-424d-b264-274374fe15ed",
   "metadata": {},
   "outputs": [
    {
     "name": "stdout",
     "output_type": "stream",
     "text": [
      "3 4 5.0\n"
     ]
    }
   ],
   "source": [
    "x, y = 3, 4\n",
    "z = np.sqrt(x**2 + y**2)\n",
    "print(x, y, z)"
   ]
  },
  {
   "cell_type": "markdown",
   "id": "9675cda5-a206-427c-9b47-221ae90ada76",
   "metadata": {},
   "source": [
    "Made the following changes: \n",
    "1. imported numpy as np \n",
    "2. fixed function sqrt by changing to np.sqrt\n",
    "3. fixed indentation\n",
    "4. added another * to x*2 to get the square of x"
   ]
  },
  {
   "cell_type": "markdown",
   "id": "26d4dd78-6bd0-43a6-9774-8a547199ee91",
   "metadata": {},
   "source": [
    "# Exercise 3"
   ]
  },
  {
   "cell_type": "markdown",
   "id": "3fcc3d21-82b3-43dc-a95f-7007e2e50d5f",
   "metadata": {},
   "source": [
    "| **#**    |  **Term**   |    **Description** |\n",
    "| :--: | :--: | :-- |\n",
    "| 1   |  Function  |   A Python function is an internal or user-defined reusable block of code which executes specific tasks. |\n",
    "| 2   |  Arguments  |   An argument in Python refers to the variables entered as inputs for a function to execute its tasks. |\n",
    "| 3   |  Comments  |   Python comments are non-executable texts written with a # at the beginning to express notes or explainations of code to increase its interpretability and readablity or to prevent execution of particular code. |\n",
    "| 4   |  Indentations  |   Indentations or spaces in Python are used to maintain the structure of code blocks, such as functions or loops, and increase the interpretability and readability of code.|\n",
    "| 5   |  Packages  | The packages in Python are collections of Python modules that in turn contain a set of related functionality for efficient code building. |\n",
    "| 6   |  .  |   The dot(.) in Python is used to indicate ownership and access the functions and attributes within various objects. |\n",
    "| 7   |  :  |   The colon(:) in Python is used to indicate the start of any indented code block, such as functions or loops.|\n",
    "| 8   |  []  |   In Python, square [] brackets are used to create lists which are data structures that contain changeable ordered collection of elements or for indexing and slicing. |\n",
    "| 9   |  [[[]]]  | This structure represents a nested list or a list within a list in Python. |\n",
    "| 10   |  {}  |   In Python, the curly {} brackets are used to create dictionaries which store unordered data items in key-value pairs that are easily accessible or to write math equations. |"
   ]
  },
  {
   "cell_type": "markdown",
   "id": "36861936-170a-48fa-8cb0-f04d79643baf",
   "metadata": {},
   "source": [
    "# Exercise 4"
   ]
  },
  {
   "cell_type": "code",
   "execution_count": 34,
   "id": "4deac378-aa1f-44bc-bc9f-3733896b3de0",
   "metadata": {},
   "outputs": [
    {
     "data": {
      "text/plain": [
       "2.5"
      ]
     },
     "execution_count": 34,
     "metadata": {},
     "output_type": "execute_result"
    }
   ],
   "source": [
    "5/2"
   ]
  },
  {
   "cell_type": "code",
   "execution_count": 35,
   "id": "8236c36f-a642-4af3-b024-ab8f34a94875",
   "metadata": {},
   "outputs": [
    {
     "data": {
      "text/plain": [
       "23.666666666666668"
      ]
     },
     "execution_count": 35,
     "metadata": {},
     "output_type": "execute_result"
    }
   ],
   "source": [
    "71/3"
   ]
  },
  {
   "cell_type": "code",
   "execution_count": 37,
   "id": "47cd7432-873b-4a26-a954-a5ec0a916e9a",
   "metadata": {},
   "outputs": [
    {
     "data": {
      "text/plain": [
       "2"
      ]
     },
     "execution_count": 37,
     "metadata": {},
     "output_type": "execute_result"
    }
   ],
   "source": [
    "5//2          "
   ]
  },
  {
   "cell_type": "code",
   "execution_count": 36,
   "id": "b5c4d79d-7a22-4308-884f-32113061e595",
   "metadata": {},
   "outputs": [
    {
     "data": {
      "text/plain": [
       "23"
      ]
     },
     "execution_count": 36,
     "metadata": {},
     "output_type": "execute_result"
    }
   ],
   "source": [
    "71//3"
   ]
  },
  {
   "cell_type": "code",
   "execution_count": 38,
   "id": "8035e8dc-0280-484e-a782-c54ad84f3d9c",
   "metadata": {},
   "outputs": [
    {
     "data": {
      "text/plain": [
       "1"
      ]
     },
     "execution_count": 38,
     "metadata": {},
     "output_type": "execute_result"
    }
   ],
   "source": [
    "5%2"
   ]
  },
  {
   "cell_type": "code",
   "execution_count": 39,
   "id": "d63da68c-844e-4ece-8690-3d9efdeb38ea",
   "metadata": {},
   "outputs": [
    {
     "data": {
      "text/plain": [
       "2"
      ]
     },
     "execution_count": 39,
     "metadata": {},
     "output_type": "execute_result"
    }
   ],
   "source": [
    "71%3"
   ]
  },
  {
   "cell_type": "markdown",
   "id": "2ab76ce6-0212-4a3e-b0f1-cda75972a746",
   "metadata": {},
   "source": [
    "1. '/' is used to perform regular division and the output is presented as a float.\n",
    "2. '//' is used to perform floor division and the output is presented as the largest integer lesser than or equal to the result of the division. The decimal portion of the number is discarded.\n",
    "3. '%' is used to perform modulo operation and the output is the remainder of the division."
   ]
  }
 ],
 "metadata": {
  "kernelspec": {
   "display_name": "Python 3 (ipykernel)",
   "language": "python",
   "name": "python3"
  },
  "language_info": {
   "codemirror_mode": {
    "name": "ipython",
    "version": 3
   },
   "file_extension": ".py",
   "mimetype": "text/x-python",
   "name": "python",
   "nbconvert_exporter": "python",
   "pygments_lexer": "ipython3",
   "version": "3.11.7"
  },
  "toc": {
   "base_numbering": 1,
   "nav_menu": {},
   "number_sections": true,
   "sideBar": true,
   "skip_h1_title": false,
   "title_cell": "Table of Contents",
   "title_sidebar": "Contents",
   "toc_cell": false,
   "toc_position": {},
   "toc_section_display": true,
   "toc_window_display": false
  },
  "vscode": {
   "interpreter": {
    "hash": "31f2aee4e71d21fbe5cf8b01ff0e069b9275f58929596ceb00d14d90e3e16cd6"
   }
  }
 },
 "nbformat": 4,
 "nbformat_minor": 5
}
